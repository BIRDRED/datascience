{
  "nbformat": 4,
  "nbformat_minor": 0,
  "metadata": {
    "colab": {
      "name": "Credit Card Fraud.ipynb",
      "provenance": [],
      "authorship_tag": "ABX9TyPeLvxgdO/lngLMLQJ5DFNH",
      "include_colab_link": true
    },
    "kernelspec": {
      "name": "python3",
      "display_name": "Python 3"
    },
    "language_info": {
      "name": "python"
    },
    "widgets": {
      "application/vnd.jupyter.widget-state+json": {
        "e32db749b4a24b7d9b8867f5b1fad7da": {
          "model_module": "@jupyter-widgets/controls",
          "model_name": "VBoxModel",
          "model_module_version": "1.5.0",
          "state": {
            "_dom_classes": [
              "widget-interact"
            ],
            "_model_module": "@jupyter-widgets/controls",
            "_model_module_version": "1.5.0",
            "_model_name": "VBoxModel",
            "_view_count": null,
            "_view_module": "@jupyter-widgets/controls",
            "_view_module_version": "1.5.0",
            "_view_name": "VBoxView",
            "box_style": "",
            "children": [
              "IPY_MODEL_fe94577537a24ca3aaaf073a5cb96c58",
              "IPY_MODEL_a935bc1e6722427dbc530220a69f8a2c"
            ],
            "layout": "IPY_MODEL_f31632e6b1874be5b85f0ef2df6803f4"
          }
        },
        "fe94577537a24ca3aaaf073a5cb96c58": {
          "model_module": "@jupyter-widgets/controls",
          "model_name": "DropdownModel",
          "model_module_version": "1.5.0",
          "state": {
            "_dom_classes": [],
            "_model_module": "@jupyter-widgets/controls",
            "_model_module_version": "1.5.0",
            "_model_name": "DropdownModel",
            "_options_labels": [
              "log_l1",
              "log_l2",
              "log_el"
            ],
            "_view_count": null,
            "_view_module": "@jupyter-widgets/controls",
            "_view_module_version": "1.5.0",
            "_view_name": "DropdownView",
            "description": "modelname",
            "description_tooltip": null,
            "disabled": false,
            "index": 0,
            "layout": "IPY_MODEL_2fe14ddbb6074e73b34ffec7c40c9f42",
            "style": "IPY_MODEL_27cfc76276ed49058c66f08880973dcc"
          }
        },
        "a935bc1e6722427dbc530220a69f8a2c": {
          "model_module": "@jupyter-widgets/output",
          "model_name": "OutputModel",
          "model_module_version": "1.0.0",
          "state": {
            "_dom_classes": [],
            "_model_module": "@jupyter-widgets/output",
            "_model_module_version": "1.0.0",
            "_model_name": "OutputModel",
            "_view_count": null,
            "_view_module": "@jupyter-widgets/output",
            "_view_module_version": "1.0.0",
            "_view_name": "OutputView",
            "layout": "IPY_MODEL_6bf7ef8e3d9241a9a542d0c160b6867a",
            "msg_id": "",
            "outputs": [
              {
                "output_type": "display_data",
                "data": {
                  "text/plain": "<Figure size 1080x288 with 1 Axes>",
                  "image/png": "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\n"
                },
                "metadata": {
                  "needs_background": "light"
                }
              }
            ]
          }
        },
        "f31632e6b1874be5b85f0ef2df6803f4": {
          "model_module": "@jupyter-widgets/base",
          "model_name": "LayoutModel",
          "model_module_version": "1.2.0",
          "state": {
            "_model_module": "@jupyter-widgets/base",
            "_model_module_version": "1.2.0",
            "_model_name": "LayoutModel",
            "_view_count": null,
            "_view_module": "@jupyter-widgets/base",
            "_view_module_version": "1.2.0",
            "_view_name": "LayoutView",
            "align_content": null,
            "align_items": null,
            "align_self": null,
            "border": null,
            "bottom": null,
            "display": null,
            "flex": null,
            "flex_flow": null,
            "grid_area": null,
            "grid_auto_columns": null,
            "grid_auto_flow": null,
            "grid_auto_rows": null,
            "grid_column": null,
            "grid_gap": null,
            "grid_row": null,
            "grid_template_areas": null,
            "grid_template_columns": null,
            "grid_template_rows": null,
            "height": null,
            "justify_content": null,
            "justify_items": null,
            "left": null,
            "margin": null,
            "max_height": null,
            "max_width": null,
            "min_height": null,
            "min_width": null,
            "object_fit": null,
            "object_position": null,
            "order": null,
            "overflow": null,
            "overflow_x": null,
            "overflow_y": null,
            "padding": null,
            "right": null,
            "top": null,
            "visibility": null,
            "width": null
          }
        },
        "2fe14ddbb6074e73b34ffec7c40c9f42": {
          "model_module": "@jupyter-widgets/base",
          "model_name": "LayoutModel",
          "model_module_version": "1.2.0",
          "state": {
            "_model_module": "@jupyter-widgets/base",
            "_model_module_version": "1.2.0",
            "_model_name": "LayoutModel",
            "_view_count": null,
            "_view_module": "@jupyter-widgets/base",
            "_view_module_version": "1.2.0",
            "_view_name": "LayoutView",
            "align_content": null,
            "align_items": null,
            "align_self": null,
            "border": null,
            "bottom": null,
            "display": null,
            "flex": null,
            "flex_flow": null,
            "grid_area": null,
            "grid_auto_columns": null,
            "grid_auto_flow": null,
            "grid_auto_rows": null,
            "grid_column": null,
            "grid_gap": null,
            "grid_row": null,
            "grid_template_areas": null,
            "grid_template_columns": null,
            "grid_template_rows": null,
            "height": null,
            "justify_content": null,
            "justify_items": null,
            "left": null,
            "margin": null,
            "max_height": null,
            "max_width": null,
            "min_height": null,
            "min_width": null,
            "object_fit": null,
            "object_position": null,
            "order": null,
            "overflow": null,
            "overflow_x": null,
            "overflow_y": null,
            "padding": null,
            "right": null,
            "top": null,
            "visibility": null,
            "width": null
          }
        },
        "27cfc76276ed49058c66f08880973dcc": {
          "model_module": "@jupyter-widgets/controls",
          "model_name": "DescriptionStyleModel",
          "model_module_version": "1.5.0",
          "state": {
            "_model_module": "@jupyter-widgets/controls",
            "_model_module_version": "1.5.0",
            "_model_name": "DescriptionStyleModel",
            "_view_count": null,
            "_view_module": "@jupyter-widgets/base",
            "_view_module_version": "1.2.0",
            "_view_name": "StyleView",
            "description_width": ""
          }
        },
        "6bf7ef8e3d9241a9a542d0c160b6867a": {
          "model_module": "@jupyter-widgets/base",
          "model_name": "LayoutModel",
          "model_module_version": "1.2.0",
          "state": {
            "_model_module": "@jupyter-widgets/base",
            "_model_module_version": "1.2.0",
            "_model_name": "LayoutModel",
            "_view_count": null,
            "_view_module": "@jupyter-widgets/base",
            "_view_module_version": "1.2.0",
            "_view_name": "LayoutView",
            "align_content": null,
            "align_items": null,
            "align_self": null,
            "border": null,
            "bottom": null,
            "display": null,
            "flex": null,
            "flex_flow": null,
            "grid_area": null,
            "grid_auto_columns": null,
            "grid_auto_flow": null,
            "grid_auto_rows": null,
            "grid_column": null,
            "grid_gap": null,
            "grid_row": null,
            "grid_template_areas": null,
            "grid_template_columns": null,
            "grid_template_rows": null,
            "height": null,
            "justify_content": null,
            "justify_items": null,
            "left": null,
            "margin": null,
            "max_height": null,
            "max_width": null,
            "min_height": null,
            "min_width": null,
            "object_fit": null,
            "object_position": null,
            "order": null,
            "overflow": null,
            "overflow_x": null,
            "overflow_y": null,
            "padding": null,
            "right": null,
            "top": null,
            "visibility": null,
            "width": null
          }
        }
      }
    }
  },
  "cells": [
    {
      "cell_type": "markdown",
      "metadata": {
        "id": "view-in-github",
        "colab_type": "text"
      },
      "source": [
        "<a href=\"https://colab.research.google.com/github/BIRDRED/datascience/blob/main/Credit_Card_Fraud.ipynb\" target=\"_parent\"><img src=\"https://colab.research.google.com/assets/colab-badge.svg\" alt=\"Open In Colab\"/></a>"
      ]
    },
    {
      "cell_type": "markdown",
      "source": [
        "#IMPORTS"
      ],
      "metadata": {
        "id": "E8MPzn79LvJc"
      }
    },
    {
      "cell_type": "code",
      "execution_count": 1,
      "metadata": {
        "colab": {
          "base_uri": "https://localhost:8080/"
        },
        "id": "5Bc3-XDoXz88",
        "outputId": "cb96722f-875f-489b-f29e-e413892c37a5"
      },
      "outputs": [
        {
          "output_type": "stream",
          "name": "stdout",
          "text": [
            "Mounted at /content/drive\n"
          ]
        }
      ],
      "source": [
        "from google.colab import drive\n",
        "drive.mount('/content/drive')"
      ]
    },
    {
      "cell_type": "code",
      "source": [
        "import pandas\n",
        "import numpy as np\n",
        "import sklearn.linear_model as lm\n",
        "from sklearn import preprocessing, model_selection, metrics\n",
        "import matplotlib.pyplot as plt\n",
        "from sklearn import tree\n",
        "from ipywidgets import interact, interactive, fixed\n",
        "import ipywidgets as widgets\n",
        "from sklearn import metrics\n",
        "import seaborn as sns\n",
        "\n"
      ],
      "metadata": {
        "id": "NDmK6WHPYJdA"
      },
      "execution_count": 2,
      "outputs": []
    },
    {
      "cell_type": "code",
      "source": [
        "from sklearn.preprocessing import LabelEncoder"
      ],
      "metadata": {
        "id": "VN40P_N9L1Lp"
      },
      "execution_count": 3,
      "outputs": []
    },
    {
      "cell_type": "code",
      "source": [
        "from IPython.display import display"
      ],
      "metadata": {
        "id": "iAFZsKBWL8Jz"
      },
      "execution_count": 4,
      "outputs": []
    },
    {
      "cell_type": "markdown",
      "source": [
        "\n",
        "#Pré-Processamento"
      ],
      "metadata": {
        "id": "zLI9f_XCL9XK"
      }
    },
    {
      "cell_type": "code",
      "source": [
        "df_payment = pandas.read_csv('/content/drive/MyDrive/Pós-Graduação/Aprendizados de Dados em Tempo Real/Dados/Online_Payment_log.csv', sep=\",\")"
      ],
      "metadata": {
        "id": "Mly5jZ0iYM4k"
      },
      "execution_count": 5,
      "outputs": []
    },
    {
      "cell_type": "code",
      "source": [
        "df_payment.head()"
      ],
      "metadata": {
        "colab": {
          "base_uri": "https://localhost:8080/",
          "height": 206
        },
        "id": "2Jy21xezYkdX",
        "outputId": "99035b2e-2934-4ca3-cf11-f72e6cb03019"
      },
      "execution_count": 6,
      "outputs": [
        {
          "output_type": "execute_result",
          "data": {
            "text/plain": [
              "   step      type    amount     nameOrig  oldbalanceOrg  newbalanceOrig  \\\n",
              "0     1   PAYMENT   9839.64  C1231006815       170136.0       160296.36   \n",
              "1     1   PAYMENT   1864.28  C1666544295        21249.0        19384.72   \n",
              "2     1  TRANSFER    181.00  C1305486145          181.0            0.00   \n",
              "3     1  CASH_OUT    181.00   C840083671          181.0            0.00   \n",
              "4     1   PAYMENT  11668.14  C2048537720        41554.0        29885.86   \n",
              "\n",
              "      nameDest  oldbalanceDest  newbalanceDest  isFraud  isFlaggedFraud  \n",
              "0  M1979787155             0.0             0.0        0               0  \n",
              "1  M2044282225             0.0             0.0        0               0  \n",
              "2   C553264065             0.0             0.0        1               0  \n",
              "3    C38997010         21182.0             0.0        1               0  \n",
              "4  M1230701703             0.0             0.0        0               0  "
            ],
            "text/html": [
              "\n",
              "  <div id=\"df-d5f44eab-c6a7-4809-98f4-43f879690ec6\">\n",
              "    <div class=\"colab-df-container\">\n",
              "      <div>\n",
              "<style scoped>\n",
              "    .dataframe tbody tr th:only-of-type {\n",
              "        vertical-align: middle;\n",
              "    }\n",
              "\n",
              "    .dataframe tbody tr th {\n",
              "        vertical-align: top;\n",
              "    }\n",
              "\n",
              "    .dataframe thead th {\n",
              "        text-align: right;\n",
              "    }\n",
              "</style>\n",
              "<table border=\"1\" class=\"dataframe\">\n",
              "  <thead>\n",
              "    <tr style=\"text-align: right;\">\n",
              "      <th></th>\n",
              "      <th>step</th>\n",
              "      <th>type</th>\n",
              "      <th>amount</th>\n",
              "      <th>nameOrig</th>\n",
              "      <th>oldbalanceOrg</th>\n",
              "      <th>newbalanceOrig</th>\n",
              "      <th>nameDest</th>\n",
              "      <th>oldbalanceDest</th>\n",
              "      <th>newbalanceDest</th>\n",
              "      <th>isFraud</th>\n",
              "      <th>isFlaggedFraud</th>\n",
              "    </tr>\n",
              "  </thead>\n",
              "  <tbody>\n",
              "    <tr>\n",
              "      <th>0</th>\n",
              "      <td>1</td>\n",
              "      <td>PAYMENT</td>\n",
              "      <td>9839.64</td>\n",
              "      <td>C1231006815</td>\n",
              "      <td>170136.0</td>\n",
              "      <td>160296.36</td>\n",
              "      <td>M1979787155</td>\n",
              "      <td>0.0</td>\n",
              "      <td>0.0</td>\n",
              "      <td>0</td>\n",
              "      <td>0</td>\n",
              "    </tr>\n",
              "    <tr>\n",
              "      <th>1</th>\n",
              "      <td>1</td>\n",
              "      <td>PAYMENT</td>\n",
              "      <td>1864.28</td>\n",
              "      <td>C1666544295</td>\n",
              "      <td>21249.0</td>\n",
              "      <td>19384.72</td>\n",
              "      <td>M2044282225</td>\n",
              "      <td>0.0</td>\n",
              "      <td>0.0</td>\n",
              "      <td>0</td>\n",
              "      <td>0</td>\n",
              "    </tr>\n",
              "    <tr>\n",
              "      <th>2</th>\n",
              "      <td>1</td>\n",
              "      <td>TRANSFER</td>\n",
              "      <td>181.00</td>\n",
              "      <td>C1305486145</td>\n",
              "      <td>181.0</td>\n",
              "      <td>0.00</td>\n",
              "      <td>C553264065</td>\n",
              "      <td>0.0</td>\n",
              "      <td>0.0</td>\n",
              "      <td>1</td>\n",
              "      <td>0</td>\n",
              "    </tr>\n",
              "    <tr>\n",
              "      <th>3</th>\n",
              "      <td>1</td>\n",
              "      <td>CASH_OUT</td>\n",
              "      <td>181.00</td>\n",
              "      <td>C840083671</td>\n",
              "      <td>181.0</td>\n",
              "      <td>0.00</td>\n",
              "      <td>C38997010</td>\n",
              "      <td>21182.0</td>\n",
              "      <td>0.0</td>\n",
              "      <td>1</td>\n",
              "      <td>0</td>\n",
              "    </tr>\n",
              "    <tr>\n",
              "      <th>4</th>\n",
              "      <td>1</td>\n",
              "      <td>PAYMENT</td>\n",
              "      <td>11668.14</td>\n",
              "      <td>C2048537720</td>\n",
              "      <td>41554.0</td>\n",
              "      <td>29885.86</td>\n",
              "      <td>M1230701703</td>\n",
              "      <td>0.0</td>\n",
              "      <td>0.0</td>\n",
              "      <td>0</td>\n",
              "      <td>0</td>\n",
              "    </tr>\n",
              "  </tbody>\n",
              "</table>\n",
              "</div>\n",
              "      <button class=\"colab-df-convert\" onclick=\"convertToInteractive('df-d5f44eab-c6a7-4809-98f4-43f879690ec6')\"\n",
              "              title=\"Convert this dataframe to an interactive table.\"\n",
              "              style=\"display:none;\">\n",
              "        \n",
              "  <svg xmlns=\"http://www.w3.org/2000/svg\" height=\"24px\"viewBox=\"0 0 24 24\"\n",
              "       width=\"24px\">\n",
              "    <path d=\"M0 0h24v24H0V0z\" fill=\"none\"/>\n",
              "    <path d=\"M18.56 5.44l.94 2.06.94-2.06 2.06-.94-2.06-.94-.94-2.06-.94 2.06-2.06.94zm-11 1L8.5 8.5l.94-2.06 2.06-.94-2.06-.94L8.5 2.5l-.94 2.06-2.06.94zm10 10l.94 2.06.94-2.06 2.06-.94-2.06-.94-.94-2.06-.94 2.06-2.06.94z\"/><path d=\"M17.41 7.96l-1.37-1.37c-.4-.4-.92-.59-1.43-.59-.52 0-1.04.2-1.43.59L10.3 9.45l-7.72 7.72c-.78.78-.78 2.05 0 2.83L4 21.41c.39.39.9.59 1.41.59.51 0 1.02-.2 1.41-.59l7.78-7.78 2.81-2.81c.8-.78.8-2.07 0-2.86zM5.41 20L4 18.59l7.72-7.72 1.47 1.35L5.41 20z\"/>\n",
              "  </svg>\n",
              "      </button>\n",
              "      \n",
              "  <style>\n",
              "    .colab-df-container {\n",
              "      display:flex;\n",
              "      flex-wrap:wrap;\n",
              "      gap: 12px;\n",
              "    }\n",
              "\n",
              "    .colab-df-convert {\n",
              "      background-color: #E8F0FE;\n",
              "      border: none;\n",
              "      border-radius: 50%;\n",
              "      cursor: pointer;\n",
              "      display: none;\n",
              "      fill: #1967D2;\n",
              "      height: 32px;\n",
              "      padding: 0 0 0 0;\n",
              "      width: 32px;\n",
              "    }\n",
              "\n",
              "    .colab-df-convert:hover {\n",
              "      background-color: #E2EBFA;\n",
              "      box-shadow: 0px 1px 2px rgba(60, 64, 67, 0.3), 0px 1px 3px 1px rgba(60, 64, 67, 0.15);\n",
              "      fill: #174EA6;\n",
              "    }\n",
              "\n",
              "    [theme=dark] .colab-df-convert {\n",
              "      background-color: #3B4455;\n",
              "      fill: #D2E3FC;\n",
              "    }\n",
              "\n",
              "    [theme=dark] .colab-df-convert:hover {\n",
              "      background-color: #434B5C;\n",
              "      box-shadow: 0px 1px 3px 1px rgba(0, 0, 0, 0.15);\n",
              "      filter: drop-shadow(0px 1px 2px rgba(0, 0, 0, 0.3));\n",
              "      fill: #FFFFFF;\n",
              "    }\n",
              "  </style>\n",
              "\n",
              "      <script>\n",
              "        const buttonEl =\n",
              "          document.querySelector('#df-d5f44eab-c6a7-4809-98f4-43f879690ec6 button.colab-df-convert');\n",
              "        buttonEl.style.display =\n",
              "          google.colab.kernel.accessAllowed ? 'block' : 'none';\n",
              "\n",
              "        async function convertToInteractive(key) {\n",
              "          const element = document.querySelector('#df-d5f44eab-c6a7-4809-98f4-43f879690ec6');\n",
              "          const dataTable =\n",
              "            await google.colab.kernel.invokeFunction('convertToInteractive',\n",
              "                                                     [key], {});\n",
              "          if (!dataTable) return;\n",
              "\n",
              "          const docLinkHtml = 'Like what you see? Visit the ' +\n",
              "            '<a target=\"_blank\" href=https://colab.research.google.com/notebooks/data_table.ipynb>data table notebook</a>'\n",
              "            + ' to learn more about interactive tables.';\n",
              "          element.innerHTML = '';\n",
              "          dataTable['output_type'] = 'display_data';\n",
              "          await google.colab.output.renderOutput(dataTable, element);\n",
              "          const docLink = document.createElement('div');\n",
              "          docLink.innerHTML = docLinkHtml;\n",
              "          element.appendChild(docLink);\n",
              "        }\n",
              "      </script>\n",
              "    </div>\n",
              "  </div>\n",
              "  "
            ]
          },
          "metadata": {},
          "execution_count": 6
        }
      ]
    },
    {
      "cell_type": "code",
      "source": [
        "la=LabelEncoder()\n",
        "df_payment['type']=la.fit_transform(df_payment['type'])"
      ],
      "metadata": {
        "id": "daWITv8wanzx"
      },
      "execution_count": 7,
      "outputs": []
    },
    {
      "cell_type": "code",
      "source": [
        "df_payment.drop(['nameOrig','nameDest','isFlaggedFraud'],axis=1,inplace=True)"
      ],
      "metadata": {
        "id": "4HFPfQLGcl2e"
      },
      "execution_count": 8,
      "outputs": []
    },
    {
      "cell_type": "code",
      "source": [
        "df_payment['isFraud'].value_counts()"
      ],
      "metadata": {
        "colab": {
          "base_uri": "https://localhost:8080/"
        },
        "id": "uSOjh1rcZeAe",
        "outputId": "7db68a58-4518-45b3-fdc3-56caf3719e18"
      },
      "execution_count": 9,
      "outputs": [
        {
          "output_type": "execute_result",
          "data": {
            "text/plain": [
              "0    6354407\n",
              "1       8213\n",
              "Name: isFraud, dtype: int64"
            ]
          },
          "metadata": {},
          "execution_count": 9
        }
      ]
    },
    {
      "cell_type": "code",
      "source": [
        "target_col = 'isFraud'"
      ],
      "metadata": {
        "id": "RQQ5a33lj3DN"
      },
      "execution_count": 10,
      "outputs": []
    },
    {
      "cell_type": "markdown",
      "source": [
        "# Árvores de Decisão"
      ],
      "metadata": {
        "id": "iF1oWHURPWzI"
      }
    },
    {
      "cell_type": "code",
      "source": [
        "dictFraud = {0: 'Não foi Fraude',1 : 'Foi Fraude'}\n",
        "df_payment['label_Fraud'] = df_payment['isFraud'].map(dictFraud)"
      ],
      "metadata": {
        "id": "c8CP7WVnYFRc"
      },
      "execution_count": 11,
      "outputs": []
    },
    {
      "cell_type": "code",
      "source": [
        "fraud_label_map = df_payment[['label_Fraud', 'isFraud']].drop_duplicates()\n"
      ],
      "metadata": {
        "id": "HZXexMa9afzD"
      },
      "execution_count": 12,
      "outputs": []
    },
    {
      "cell_type": "code",
      "source": [
        "fraud_label_map.label_Fraud"
      ],
      "metadata": {
        "colab": {
          "base_uri": "https://localhost:8080/"
        },
        "id": "Cs9cElk4a9Hl",
        "outputId": "d5d6a51d-bb4a-456b-e107-7c4a96b9d53e"
      },
      "execution_count": 13,
      "outputs": [
        {
          "output_type": "execute_result",
          "data": {
            "text/plain": [
              "0    Não foi Fraude\n",
              "2        Foi Fraude\n",
              "Name: label_Fraud, dtype: object"
            ]
          },
          "metadata": {},
          "execution_count": 13
        }
      ]
    },
    {
      "cell_type": "code",
      "source": [
        "df_payment.drop(['label_Fraud'],axis=1,inplace=True)"
      ],
      "metadata": {
        "id": "v-K-Hm4Bm4GC"
      },
      "execution_count": 14,
      "outputs": []
    },
    {
      "cell_type": "code",
      "source": [
        "Y = df_payment[target_col]\n",
        "X = df_payment.drop(target_col, axis=1)\n",
        "\n",
        "# train/test\n",
        "xtrain, xtest, ytrain, ytest = model_selection.train_test_split(X, Y, test_size=0.2)\n",
        "\n",
        "df_train = xtrain.copy()\n",
        "df_test = xtest.copy()\n",
        "df_train['train_set'] = 1\n",
        "df_test['train_set'] = 0\n",
        "df_train[target_col] = ytrain\n",
        "df_test[target_col] = ytest"
      ],
      "metadata": {
        "id": "CtAyW8VkSFDi"
      },
      "execution_count": 15,
      "outputs": []
    },
    {
      "cell_type": "code",
      "source": [
        "model_payment = tree.DecisionTreeClassifier(criterion='entropy', max_depth = 5)\n",
        "model_payment.fit(xtrain, ytrain)      \n",
        "df_train['decision'] = model_payment.predict(xtrain)\n",
        "df_test['decision']  = model_payment.predict(xtest)\n",
        "df_train['probability'] = model_payment.predict_proba(xtrain)[:,1]\n",
        "df_test['probability']  = model_payment.predict_proba(xtest)[:,1]\n",
        "\n",
        "df_payment = pandas.concat((df_train, df_test), axis=0)"
      ],
      "metadata": {
        "id": "MqoCg9bzTPMw"
      },
      "execution_count": 16,
      "outputs": []
    },
    {
      "cell_type": "code",
      "source": [
        "cm = metrics.confusion_matrix(df_payment[target_col],\n",
        "                              df_payment['decision'])\n",
        "\n",
        "sns.heatmap(cm, annot=True, fmt = '.0f')\n",
        "\n",
        "plt.xlabel('Classificação')\n",
        "plt.ylabel('Verdade')\n",
        "plt.gca().set_xticklabels(fraud_label_map.label_Fraud.values)\n",
        "plt.gca().set_yticklabels(fraud_label_map.label_Fraud.values)"
      ],
      "metadata": {
        "colab": {
          "base_uri": "https://localhost:8080/",
          "height": 307
        },
        "id": "R4du_bzVRWmp",
        "outputId": "46e671f5-9886-405c-9b5e-2d759240c1e2"
      },
      "execution_count": 17,
      "outputs": [
        {
          "output_type": "execute_result",
          "data": {
            "text/plain": [
              "[Text(0, 0.5, 'Não foi Fraude'), Text(0, 1.5, 'Foi Fraude')]"
            ]
          },
          "metadata": {},
          "execution_count": 17
        },
        {
          "output_type": "display_data",
          "data": {
            "text/plain": [
              "<Figure size 432x288 with 2 Axes>"
            ],
            "image/png": "[encoded data removed]"
          },
          "metadata": {
            "needs_background": "light"
          }
        }
      ]
    },
    {
      "cell_type": "code",
      "source": [
        "print(metrics.classification_report(df_payment[target_col],\n",
        "                              df_payment['decision'],\n",
        "                              target_names = fraud_label_map.label_Fraud))"
      ],
      "metadata": {
        "colab": {
          "base_uri": "https://localhost:8080/"
        },
        "id": "4F7ggu5HbanE",
        "outputId": "72e94a72-3cd7-46bd-b96f-ffe8629a1b66"
      },
      "execution_count": 18,
      "outputs": [
        {
          "output_type": "stream",
          "name": "stdout",
          "text": [
            "                precision    recall  f1-score   support\n",
            "\n",
            "Não foi Fraude       1.00      1.00      1.00   6354407\n",
            "    Foi Fraude       0.91      0.71      0.80      8213\n",
            "\n",
            "      accuracy                           1.00   6362620\n",
            "     macro avg       0.95      0.85      0.90   6362620\n",
            "  weighted avg       1.00      1.00      1.00   6362620\n",
            "\n"
          ]
        }
      ]
    },
    {
      "cell_type": "code",
      "source": [
        "df_payment[df_payment['train_set'] == 1]['decision'].value_counts()/df_payment[df_payment['train_set'] == 1]['isFraud'].value_counts()"
      ],
      "metadata": {
        "colab": {
          "base_uri": "https://localhost:8080/"
        },
        "id": "ctnXSg01ndwO",
        "outputId": "64b202e1-6d30-4fbd-f75f-db3653144cc9"
      },
      "execution_count": 19,
      "outputs": [
        {
          "output_type": "execute_result",
          "data": {
            "text/plain": [
              "0    1.000285\n",
              "1    0.778947\n",
              "dtype: float64"
            ]
          },
          "metadata": {},
          "execution_count": 19
        }
      ]
    },
    {
      "cell_type": "markdown",
      "source": [
        "#Regressão Logistica"
      ],
      "metadata": {
        "id": "og4SRI6zTYNN"
      }
    },
    {
      "cell_type": "code",
      "source": [
        "df_payment = pandas.read_csv('/content/drive/MyDrive/Pós-Graduação/Aprendizados de Dados em Tempo Real/Dados/Online_Payment_log.csv', sep=\",\")"
      ],
      "metadata": {
        "id": "LLLJixiPUCtk"
      },
      "execution_count": 21,
      "outputs": []
    },
    {
      "cell_type": "code",
      "source": [
        "df_payment.columns"
      ],
      "metadata": {
        "colab": {
          "base_uri": "https://localhost:8080/"
        },
        "id": "OOUa-DHIULKT",
        "outputId": "b24591a5-9e4d-49a8-f961-f993e8d46f8b"
      },
      "execution_count": 22,
      "outputs": [
        {
          "output_type": "execute_result",
          "data": {
            "text/plain": [
              "Index(['step', 'type', 'amount', 'nameOrig', 'oldbalanceOrg', 'newbalanceOrig',\n",
              "       'nameDest', 'oldbalanceDest', 'newbalanceDest', 'isFraud',\n",
              "       'isFlaggedFraud'],\n",
              "      dtype='object')"
            ]
          },
          "metadata": {},
          "execution_count": 22
        }
      ]
    },
    {
      "cell_type": "code",
      "source": [
        "la=LabelEncoder()\n",
        "df_payment['type']=la.fit_transform(df_payment['type'])"
      ],
      "metadata": {
        "id": "eKVXfqRoULTJ"
      },
      "execution_count": 23,
      "outputs": []
    },
    {
      "cell_type": "code",
      "source": [
        "df_payment.drop(['nameOrig','nameDest','isFlaggedFraud'],axis=1,inplace=True)"
      ],
      "metadata": {
        "id": "1IitnIqNUVkS"
      },
      "execution_count": 24,
      "outputs": []
    },
    {
      "cell_type": "code",
      "source": [
        "df_payment['isFraud'].value_counts()"
      ],
      "metadata": {
        "colab": {
          "base_uri": "https://localhost:8080/"
        },
        "id": "eDNyy7KmUX7Y",
        "outputId": "ee1c0e22-0bc0-4113-8f8f-2de9348909a3"
      },
      "execution_count": 25,
      "outputs": [
        {
          "output_type": "execute_result",
          "data": {
            "text/plain": [
              "0    6354407\n",
              "1       8213\n",
              "Name: isFraud, dtype: int64"
            ]
          },
          "metadata": {},
          "execution_count": 25
        }
      ]
    },
    {
      "cell_type": "code",
      "source": [
        "target_col = 'isFraud'"
      ],
      "metadata": {
        "id": "GDnEcirgUaw8"
      },
      "execution_count": 26,
      "outputs": []
    },
    {
      "cell_type": "code",
      "source": [
        "df_payment.head()"
      ],
      "metadata": {
        "colab": {
          "base_uri": "https://localhost:8080/",
          "height": 206
        },
        "id": "HibQl9-VUedM",
        "outputId": "af641454-1245-4c74-d672-fa716a2c57ae"
      },
      "execution_count": 27,
      "outputs": [
        {
          "output_type": "execute_result",
          "data": {
            "text/plain": [
              "   step  type    amount  oldbalanceOrg  newbalanceOrig  oldbalanceDest  \\\n",
              "0     1     3   9839.64       170136.0       160296.36             0.0   \n",
              "1     1     3   1864.28        21249.0        19384.72             0.0   \n",
              "2     1     4    181.00          181.0            0.00             0.0   \n",
              "3     1     1    181.00          181.0            0.00         21182.0   \n",
              "4     1     3  11668.14        41554.0        29885.86             0.0   \n",
              "\n",
              "   newbalanceDest  isFraud  \n",
              "0             0.0        0  \n",
              "1             0.0        0  \n",
              "2             0.0        1  \n",
              "3             0.0        1  \n",
              "4             0.0        0  "
            ],
            "text/html": [
              "\n",
              "  <div id=\"df-b64ae26f-fb11-474f-a1f5-2d72182b8c6b\">\n",
              "    <div class=\"colab-df-container\">\n",
              "      <div>\n",
              "<style scoped>\n",
              "    .dataframe tbody tr th:only-of-type {\n",
              "        vertical-align: middle;\n",
              "    }\n",
              "\n",
              "    .dataframe tbody tr th {\n",
              "        vertical-align: top;\n",
              "    }\n",
              "\n",
              "    .dataframe thead th {\n",
              "        text-align: right;\n",
              "    }\n",
              "</style>\n",
              "<table border=\"1\" class=\"dataframe\">\n",
              "  <thead>\n",
              "    <tr style=\"text-align: right;\">\n",
              "      <th></th>\n",
              "      <th>step</th>\n",
              "      <th>type</th>\n",
              "      <th>amount</th>\n",
              "      <th>oldbalanceOrg</th>\n",
              "      <th>newbalanceOrig</th>\n",
              "      <th>oldbalanceDest</th>\n",
              "      <th>newbalanceDest</th>\n",
              "      <th>isFraud</th>\n",
              "    </tr>\n",
              "  </thead>\n",
              "  <tbody>\n",
              "    <tr>\n",
              "      <th>0</th>\n",
              "      <td>1</td>\n",
              "      <td>3</td>\n",
              "      <td>9839.64</td>\n",
              "      <td>170136.0</td>\n",
              "      <td>160296.36</td>\n",
              "      <td>0.0</td>\n",
              "      <td>0.0</td>\n",
              "      <td>0</td>\n",
              "    </tr>\n",
              "    <tr>\n",
              "      <th>1</th>\n",
              "      <td>1</td>\n",
              "      <td>3</td>\n",
              "      <td>1864.28</td>\n",
              "      <td>21249.0</td>\n",
              "      <td>19384.72</td>\n",
              "      <td>0.0</td>\n",
              "      <td>0.0</td>\n",
              "      <td>0</td>\n",
              "    </tr>\n",
              "    <tr>\n",
              "      <th>2</th>\n",
              "      <td>1</td>\n",
              "      <td>4</td>\n",
              "      <td>181.00</td>\n",
              "      <td>181.0</td>\n",
              "      <td>0.00</td>\n",
              "      <td>0.0</td>\n",
              "      <td>0.0</td>\n",
              "      <td>1</td>\n",
              "    </tr>\n",
              "    <tr>\n",
              "      <th>3</th>\n",
              "      <td>1</td>\n",
              "      <td>1</td>\n",
              "      <td>181.00</td>\n",
              "      <td>181.0</td>\n",
              "      <td>0.00</td>\n",
              "      <td>21182.0</td>\n",
              "      <td>0.0</td>\n",
              "      <td>1</td>\n",
              "    </tr>\n",
              "    <tr>\n",
              "      <th>4</th>\n",
              "      <td>1</td>\n",
              "      <td>3</td>\n",
              "      <td>11668.14</td>\n",
              "      <td>41554.0</td>\n",
              "      <td>29885.86</td>\n",
              "      <td>0.0</td>\n",
              "      <td>0.0</td>\n",
              "      <td>0</td>\n",
              "    </tr>\n",
              "  </tbody>\n",
              "</table>\n",
              "</div>\n",
              "      <button class=\"colab-df-convert\" onclick=\"convertToInteractive('df-b64ae26f-fb11-474f-a1f5-2d72182b8c6b')\"\n",
              "              title=\"Convert this dataframe to an interactive table.\"\n",
              "              style=\"display:none;\">\n",
              "        \n",
              "  <svg xmlns=\"http://www.w3.org/2000/svg\" height=\"24px\"viewBox=\"0 0 24 24\"\n",
              "       width=\"24px\">\n",
              "    <path d=\"M0 0h24v24H0V0z\" fill=\"none\"/>\n",
              "    <path d=\"M18.56 5.44l.94 2.06.94-2.06 2.06-.94-2.06-.94-.94-2.06-.94 2.06-2.06.94zm-11 1L8.5 8.5l.94-2.06 2.06-.94-2.06-.94L8.5 2.5l-.94 2.06-2.06.94zm10 10l.94 2.06.94-2.06 2.06-.94-2.06-.94-.94-2.06-.94 2.06-2.06.94z\"/><path d=\"M17.41 7.96l-1.37-1.37c-.4-.4-.92-.59-1.43-.59-.52 0-1.04.2-1.43.59L10.3 9.45l-7.72 7.72c-.78.78-.78 2.05 0 2.83L4 21.41c.39.39.9.59 1.41.59.51 0 1.02-.2 1.41-.59l7.78-7.78 2.81-2.81c.8-.78.8-2.07 0-2.86zM5.41 20L4 18.59l7.72-7.72 1.47 1.35L5.41 20z\"/>\n",
              "  </svg>\n",
              "      </button>\n",
              "      \n",
              "  <style>\n",
              "    .colab-df-container {\n",
              "      display:flex;\n",
              "      flex-wrap:wrap;\n",
              "      gap: 12px;\n",
              "    }\n",
              "\n",
              "    .colab-df-convert {\n",
              "      background-color: #E8F0FE;\n",
              "      border: none;\n",
              "      border-radius: 50%;\n",
              "      cursor: pointer;\n",
              "      display: none;\n",
              "      fill: #1967D2;\n",
              "      height: 32px;\n",
              "      padding: 0 0 0 0;\n",
              "      width: 32px;\n",
              "    }\n",
              "\n",
              "    .colab-df-convert:hover {\n",
              "      background-color: #E2EBFA;\n",
              "      box-shadow: 0px 1px 2px rgba(60, 64, 67, 0.3), 0px 1px 3px 1px rgba(60, 64, 67, 0.15);\n",
              "      fill: #174EA6;\n",
              "    }\n",
              "\n",
              "    [theme=dark] .colab-df-convert {\n",
              "      background-color: #3B4455;\n",
              "      fill: #D2E3FC;\n",
              "    }\n",
              "\n",
              "    [theme=dark] .colab-df-convert:hover {\n",
              "      background-color: #434B5C;\n",
              "      box-shadow: 0px 1px 3px 1px rgba(0, 0, 0, 0.15);\n",
              "      filter: drop-shadow(0px 1px 2px rgba(0, 0, 0, 0.3));\n",
              "      fill: #FFFFFF;\n",
              "    }\n",
              "  </style>\n",
              "\n",
              "      <script>\n",
              "        const buttonEl =\n",
              "          document.querySelector('#df-b64ae26f-fb11-474f-a1f5-2d72182b8c6b button.colab-df-convert');\n",
              "        buttonEl.style.display =\n",
              "          google.colab.kernel.accessAllowed ? 'block' : 'none';\n",
              "\n",
              "        async function convertToInteractive(key) {\n",
              "          const element = document.querySelector('#df-b64ae26f-fb11-474f-a1f5-2d72182b8c6b');\n",
              "          const dataTable =\n",
              "            await google.colab.kernel.invokeFunction('convertToInteractive',\n",
              "                                                     [key], {});\n",
              "          if (!dataTable) return;\n",
              "\n",
              "          const docLinkHtml = 'Like what you see? Visit the ' +\n",
              "            '<a target=\"_blank\" href=https://colab.research.google.com/notebooks/data_table.ipynb>data table notebook</a>'\n",
              "            + ' to learn more about interactive tables.';\n",
              "          element.innerHTML = '';\n",
              "          dataTable['output_type'] = 'display_data';\n",
              "          await google.colab.output.renderOutput(dataTable, element);\n",
              "          const docLink = document.createElement('div');\n",
              "          docLink.innerHTML = docLinkHtml;\n",
              "          element.appendChild(docLink);\n",
              "        }\n",
              "      </script>\n",
              "    </div>\n",
              "  </div>\n",
              "  "
            ]
          },
          "metadata": {},
          "execution_count": 27
        }
      ]
    },
    {
      "cell_type": "code",
      "source": [
        "model_map = {\n",
        "    'log_l1': lm.LogisticRegression(penalty='l1', solver='liblinear'),\n",
        "    'log_l2': lm.LogisticRegression(penalty='l2', solver='liblinear'),\n",
        "    'log_el': lm.LogisticRegression(penalty='elasticnet',l1_ratio= 0.4, solver='saga'),\n",
        "}\n",
        "\n",
        "# solver : 'newton-cg', 'lbfgs', 'liblinear', 'sag', 'saga'\n",
        "\n",
        "Y = df_payment[target_col]\n",
        "X = df_payment.drop(target_col, axis=1)\n",
        "\n",
        "# train/test\n",
        "xtrain, xtest, ytrain, ytest = model_selection.train_test_split(X, Y, test_size=0.2)\n",
        "\n",
        "df_train = xtrain.copy()\n",
        "df_test = xtest.copy()\n",
        "df_train['train_set'] = 1\n",
        "df_test['train_set'] = 0\n",
        "df_train[target_col] = ytrain\n",
        "df_test[target_col] = ytest\n",
        "\n",
        "for modelname, model in model_map.items():\n",
        "    model.fit(xtrain, ytrain)      \n",
        "    yhat_train = model.predict(xtrain)\n",
        "    yhat_test  = model.predict(xtest)\n",
        "    # Output table\n",
        "    df_train[modelname] = yhat_train\n",
        "    df_test[modelname] = yhat_test\n",
        "    model_map[modelname] = model\n",
        "    \n",
        "df_payment = pandas.concat((df_train, df_test), axis=0)"
      ],
      "metadata": {
        "colab": {
          "base_uri": "https://localhost:8080/"
        },
        "id": "j8mS1syDUmdi",
        "outputId": "2c172f4b-d355-43ac-f4c4-574f9087b6d0"
      },
      "execution_count": 28,
      "outputs": [
        {
          "output_type": "stream",
          "name": "stderr",
          "text": [
            "/usr/local/lib/python3.7/dist-packages/sklearn/svm/_base.py:1208: ConvergenceWarning: Liblinear failed to converge, increase the number of iterations.\n",
            "  ConvergenceWarning,\n",
            "/usr/local/lib/python3.7/dist-packages/sklearn/linear_model/_sag.py:354: ConvergenceWarning: The max_iter was reached which means the coef_ did not converge\n",
            "  ConvergenceWarning,\n"
          ]
        }
      ]
    },
    {
      "cell_type": "code",
      "source": [
        "df_payment[df_payment['train_set'] == 1]['isFraud'].value_counts()"
      ],
      "metadata": {
        "colab": {
          "base_uri": "https://localhost:8080/"
        },
        "id": "7ls8p7nvYSZP",
        "outputId": "6735b17b-e9d5-4015-bc0c-d6f343a5f080"
      },
      "execution_count": 38,
      "outputs": [
        {
          "output_type": "execute_result",
          "data": {
            "text/plain": [
              "0    5083546\n",
              "1       6550\n",
              "Name: isFraud, dtype: int64"
            ]
          },
          "metadata": {},
          "execution_count": 38
        }
      ]
    },
    {
      "cell_type": "code",
      "source": [
        "df_payment.head()"
      ],
      "metadata": {
        "colab": {
          "base_uri": "https://localhost:8080/",
          "height": 206
        },
        "id": "386TiIguYCXJ",
        "outputId": "0d73faa9-dece-4311-b1bf-530db848c5e1"
      },
      "execution_count": 32,
      "outputs": [
        {
          "output_type": "execute_result",
          "data": {
            "text/plain": [
              "         step  type      amount  oldbalanceOrg  newbalanceOrig  \\\n",
              "4843913   347     1    14016.88        22857.4         8840.52   \n",
              "407950     18     0   153004.02         4035.0       157039.02   \n",
              "2882950   228     3    10370.05            0.0            0.00   \n",
              "5566389   393     1    97755.04            0.0            0.00   \n",
              "5046743   354     4  1158706.95            0.0            0.00   \n",
              "\n",
              "         oldbalanceDest  newbalanceDest  train_set  isFraud  log_l1  log_l2  \\\n",
              "4843913      1226512.32      1240529.21          1        0       0       0   \n",
              "407950        741809.58      1038993.87          1        0       0       0   \n",
              "2882950            0.00            0.00          1        0       0       0   \n",
              "5566389      1424211.18      1521966.22          1        0       0       0   \n",
              "5046743      2432615.01      3591321.96          1        0       0       0   \n",
              "\n",
              "         log_el  \n",
              "4843913       0  \n",
              "407950        0  \n",
              "2882950       0  \n",
              "5566389       0  \n",
              "5046743       0  "
            ],
            "text/html": [
              "\n",
              "  <div id=\"df-9bd5a0ae-76ee-4012-9371-38060c908808\">\n",
              "    <div class=\"colab-df-container\">\n",
              "      <div>\n",
              "<style scoped>\n",
              "    .dataframe tbody tr th:only-of-type {\n",
              "        vertical-align: middle;\n",
              "    }\n",
              "\n",
              "    .dataframe tbody tr th {\n",
              "        vertical-align: top;\n",
              "    }\n",
              "\n",
              "    .dataframe thead th {\n",
              "        text-align: right;\n",
              "    }\n",
              "</style>\n",
              "<table border=\"1\" class=\"dataframe\">\n",
              "  <thead>\n",
              "    <tr style=\"text-align: right;\">\n",
              "      <th></th>\n",
              "      <th>step</th>\n",
              "      <th>type</th>\n",
              "      <th>amount</th>\n",
              "      <th>oldbalanceOrg</th>\n",
              "      <th>newbalanceOrig</th>\n",
              "      <th>oldbalanceDest</th>\n",
              "      <th>newbalanceDest</th>\n",
              "      <th>train_set</th>\n",
              "      <th>isFraud</th>\n",
              "      <th>log_l1</th>\n",
              "      <th>log_l2</th>\n",
              "      <th>log_el</th>\n",
              "    </tr>\n",
              "  </thead>\n",
              "  <tbody>\n",
              "    <tr>\n",
              "      <th>4843913</th>\n",
              "      <td>347</td>\n",
              "      <td>1</td>\n",
              "      <td>14016.88</td>\n",
              "      <td>22857.4</td>\n",
              "      <td>8840.52</td>\n",
              "      <td>1226512.32</td>\n",
              "      <td>1240529.21</td>\n",
              "      <td>1</td>\n",
              "      <td>0</td>\n",
              "      <td>0</td>\n",
              "      <td>0</td>\n",
              "      <td>0</td>\n",
              "    </tr>\n",
              "    <tr>\n",
              "      <th>407950</th>\n",
              "      <td>18</td>\n",
              "      <td>0</td>\n",
              "      <td>153004.02</td>\n",
              "      <td>4035.0</td>\n",
              "      <td>157039.02</td>\n",
              "      <td>741809.58</td>\n",
              "      <td>1038993.87</td>\n",
              "      <td>1</td>\n",
              "      <td>0</td>\n",
              "      <td>0</td>\n",
              "      <td>0</td>\n",
              "      <td>0</td>\n",
              "    </tr>\n",
              "    <tr>\n",
              "      <th>2882950</th>\n",
              "      <td>228</td>\n",
              "      <td>3</td>\n",
              "      <td>10370.05</td>\n",
              "      <td>0.0</td>\n",
              "      <td>0.00</td>\n",
              "      <td>0.00</td>\n",
              "      <td>0.00</td>\n",
              "      <td>1</td>\n",
              "      <td>0</td>\n",
              "      <td>0</td>\n",
              "      <td>0</td>\n",
              "      <td>0</td>\n",
              "    </tr>\n",
              "    <tr>\n",
              "      <th>5566389</th>\n",
              "      <td>393</td>\n",
              "      <td>1</td>\n",
              "      <td>97755.04</td>\n",
              "      <td>0.0</td>\n",
              "      <td>0.00</td>\n",
              "      <td>1424211.18</td>\n",
              "      <td>1521966.22</td>\n",
              "      <td>1</td>\n",
              "      <td>0</td>\n",
              "      <td>0</td>\n",
              "      <td>0</td>\n",
              "      <td>0</td>\n",
              "    </tr>\n",
              "    <tr>\n",
              "      <th>5046743</th>\n",
              "      <td>354</td>\n",
              "      <td>4</td>\n",
              "      <td>1158706.95</td>\n",
              "      <td>0.0</td>\n",
              "      <td>0.00</td>\n",
              "      <td>2432615.01</td>\n",
              "      <td>3591321.96</td>\n",
              "      <td>1</td>\n",
              "      <td>0</td>\n",
              "      <td>0</td>\n",
              "      <td>0</td>\n",
              "      <td>0</td>\n",
              "    </tr>\n",
              "  </tbody>\n",
              "</table>\n",
              "</div>\n",
              "      <button class=\"colab-df-convert\" onclick=\"convertToInteractive('df-9bd5a0ae-76ee-4012-9371-38060c908808')\"\n",
              "              title=\"Convert this dataframe to an interactive table.\"\n",
              "              style=\"display:none;\">\n",
              "        \n",
              "  <svg xmlns=\"http://www.w3.org/2000/svg\" height=\"24px\"viewBox=\"0 0 24 24\"\n",
              "       width=\"24px\">\n",
              "    <path d=\"M0 0h24v24H0V0z\" fill=\"none\"/>\n",
              "    <path d=\"M18.56 5.44l.94 2.06.94-2.06 2.06-.94-2.06-.94-.94-2.06-.94 2.06-2.06.94zm-11 1L8.5 8.5l.94-2.06 2.06-.94-2.06-.94L8.5 2.5l-.94 2.06-2.06.94zm10 10l.94 2.06.94-2.06 2.06-.94-2.06-.94-.94-2.06-.94 2.06-2.06.94z\"/><path d=\"M17.41 7.96l-1.37-1.37c-.4-.4-.92-.59-1.43-.59-.52 0-1.04.2-1.43.59L10.3 9.45l-7.72 7.72c-.78.78-.78 2.05 0 2.83L4 21.41c.39.39.9.59 1.41.59.51 0 1.02-.2 1.41-.59l7.78-7.78 2.81-2.81c.8-.78.8-2.07 0-2.86zM5.41 20L4 18.59l7.72-7.72 1.47 1.35L5.41 20z\"/>\n",
              "  </svg>\n",
              "      </button>\n",
              "      \n",
              "  <style>\n",
              "    .colab-df-container {\n",
              "      display:flex;\n",
              "      flex-wrap:wrap;\n",
              "      gap: 12px;\n",
              "    }\n",
              "\n",
              "    .colab-df-convert {\n",
              "      background-color: #E8F0FE;\n",
              "      border: none;\n",
              "      border-radius: 50%;\n",
              "      cursor: pointer;\n",
              "      display: none;\n",
              "      fill: #1967D2;\n",
              "      height: 32px;\n",
              "      padding: 0 0 0 0;\n",
              "      width: 32px;\n",
              "    }\n",
              "\n",
              "    .colab-df-convert:hover {\n",
              "      background-color: #E2EBFA;\n",
              "      box-shadow: 0px 1px 2px rgba(60, 64, 67, 0.3), 0px 1px 3px 1px rgba(60, 64, 67, 0.15);\n",
              "      fill: #174EA6;\n",
              "    }\n",
              "\n",
              "    [theme=dark] .colab-df-convert {\n",
              "      background-color: #3B4455;\n",
              "      fill: #D2E3FC;\n",
              "    }\n",
              "\n",
              "    [theme=dark] .colab-df-convert:hover {\n",
              "      background-color: #434B5C;\n",
              "      box-shadow: 0px 1px 3px 1px rgba(0, 0, 0, 0.15);\n",
              "      filter: drop-shadow(0px 1px 2px rgba(0, 0, 0, 0.3));\n",
              "      fill: #FFFFFF;\n",
              "    }\n",
              "  </style>\n",
              "\n",
              "      <script>\n",
              "        const buttonEl =\n",
              "          document.querySelector('#df-9bd5a0ae-76ee-4012-9371-38060c908808 button.colab-df-convert');\n",
              "        buttonEl.style.display =\n",
              "          google.colab.kernel.accessAllowed ? 'block' : 'none';\n",
              "\n",
              "        async function convertToInteractive(key) {\n",
              "          const element = document.querySelector('#df-9bd5a0ae-76ee-4012-9371-38060c908808');\n",
              "          const dataTable =\n",
              "            await google.colab.kernel.invokeFunction('convertToInteractive',\n",
              "                                                     [key], {});\n",
              "          if (!dataTable) return;\n",
              "\n",
              "          const docLinkHtml = 'Like what you see? Visit the ' +\n",
              "            '<a target=\"_blank\" href=https://colab.research.google.com/notebooks/data_table.ipynb>data table notebook</a>'\n",
              "            + ' to learn more about interactive tables.';\n",
              "          element.innerHTML = '';\n",
              "          dataTable['output_type'] = 'display_data';\n",
              "          await google.colab.output.renderOutput(dataTable, element);\n",
              "          const docLink = document.createElement('div');\n",
              "          docLink.innerHTML = docLinkHtml;\n",
              "          element.appendChild(docLink);\n",
              "        }\n",
              "      </script>\n",
              "    </div>\n",
              "  </div>\n",
              "  "
            ]
          },
          "metadata": {},
          "execution_count": 32
        }
      ]
    },
    {
      "cell_type": "code",
      "source": [
        "df_payment[df_payment['train_set'] == 1]['log_el'].value_counts()"
      ],
      "metadata": {
        "colab": {
          "base_uri": "https://localhost:8080/"
        },
        "id": "qWn3Vf1EXp0m",
        "outputId": "8b2df6e1-4bf0-48d3-8068-620cfa2162f5"
      },
      "execution_count": 40,
      "outputs": [
        {
          "output_type": "execute_result",
          "data": {
            "text/plain": [
              "0    5090096\n",
              "Name: log_el, dtype: int64"
            ]
          },
          "metadata": {},
          "execution_count": 40
        }
      ]
    },
    {
      "cell_type": "code",
      "source": [
        "df_payment[df_payment['train_set'] == 1]['log_l1'].value_counts()"
      ],
      "metadata": {
        "colab": {
          "base_uri": "https://localhost:8080/"
        },
        "id": "zl97l4FrYHiJ",
        "outputId": "6e899a8f-a204-4338-a717-4908a312f27e"
      },
      "execution_count": 41,
      "outputs": [
        {
          "output_type": "execute_result",
          "data": {
            "text/plain": [
              "0    5086547\n",
              "1       3549\n",
              "Name: log_l1, dtype: int64"
            ]
          },
          "metadata": {},
          "execution_count": 41
        }
      ]
    },
    {
      "cell_type": "code",
      "source": [
        "df_payment[df_payment['train_set'] == 1]['log_l2'].value_counts()"
      ],
      "metadata": {
        "colab": {
          "base_uri": "https://localhost:8080/"
        },
        "id": "U6Ee0tJlYMhM",
        "outputId": "f7dab875-54e0-4081-f1e2-8b0c42963e23"
      },
      "execution_count": 42,
      "outputs": [
        {
          "output_type": "execute_result",
          "data": {
            "text/plain": [
              "0    5088005\n",
              "1       2091\n",
              "Name: log_l2, dtype: int64"
            ]
          },
          "metadata": {},
          "execution_count": 42
        }
      ]
    },
    {
      "cell_type": "code",
      "source": [
        "idx = df_payment['train_set'] == 0\n",
        "\n",
        "print('log_l1\\t', metrics.accuracy_score(df_payment[idx][target_col], df_payment[idx]['log_l1']>0.5))\n",
        "print('log_l2\\t', metrics.accuracy_score(df_payment[idx][target_col], df_payment[idx]['log_l2']>0.5))\n",
        "print('log_el\\t', metrics.accuracy_score(df_payment[idx][target_col], df_payment[idx]['log_el']>0.5))\n",
        "print('Total Real Alta Qualidade:', df_payment[idx][target_col].sum())\n",
        "df_payment[idx].groupby(target_col)[list(model_map.keys())].sum()\n"
      ],
      "metadata": {
        "colab": {
          "base_uri": "https://localhost:8080/",
          "height": 213
        },
        "id": "6GNlVPxbadVj",
        "outputId": "55dcb43f-c04a-4c4f-e0ba-ed68ae222ac9"
      },
      "execution_count": 43,
      "outputs": [
        {
          "output_type": "stream",
          "name": "stdout",
          "text": [
            "log_l1\t 0.9992330203595374\n",
            "log_l2\t 0.9989092543637684\n",
            "log_el\t 0.9986931484199905\n",
            "Total Real Alta Qualidade: 1663\n"
          ]
        },
        {
          "output_type": "execute_result",
          "data": {
            "text/plain": [
              "         log_l1  log_l2  log_el\n",
              "isFraud                        \n",
              "0            80     124       0\n",
              "1           767     399       0"
            ],
            "text/html": [
              "\n",
              "  <div id=\"df-32b52036-f5f5-4870-b836-8274ba018046\">\n",
              "    <div class=\"colab-df-container\">\n",
              "      <div>\n",
              "<style scoped>\n",
              "    .dataframe tbody tr th:only-of-type {\n",
              "        vertical-align: middle;\n",
              "    }\n",
              "\n",
              "    .dataframe tbody tr th {\n",
              "        vertical-align: top;\n",
              "    }\n",
              "\n",
              "    .dataframe thead th {\n",
              "        text-align: right;\n",
              "    }\n",
              "</style>\n",
              "<table border=\"1\" class=\"dataframe\">\n",
              "  <thead>\n",
              "    <tr style=\"text-align: right;\">\n",
              "      <th></th>\n",
              "      <th>log_l1</th>\n",
              "      <th>log_l2</th>\n",
              "      <th>log_el</th>\n",
              "    </tr>\n",
              "    <tr>\n",
              "      <th>isFraud</th>\n",
              "      <th></th>\n",
              "      <th></th>\n",
              "      <th></th>\n",
              "    </tr>\n",
              "  </thead>\n",
              "  <tbody>\n",
              "    <tr>\n",
              "      <th>0</th>\n",
              "      <td>80</td>\n",
              "      <td>124</td>\n",
              "      <td>0</td>\n",
              "    </tr>\n",
              "    <tr>\n",
              "      <th>1</th>\n",
              "      <td>767</td>\n",
              "      <td>399</td>\n",
              "      <td>0</td>\n",
              "    </tr>\n",
              "  </tbody>\n",
              "</table>\n",
              "</div>\n",
              "      <button class=\"colab-df-convert\" onclick=\"convertToInteractive('df-32b52036-f5f5-4870-b836-8274ba018046')\"\n",
              "              title=\"Convert this dataframe to an interactive table.\"\n",
              "              style=\"display:none;\">\n",
              "        \n",
              "  <svg xmlns=\"http://www.w3.org/2000/svg\" height=\"24px\"viewBox=\"0 0 24 24\"\n",
              "       width=\"24px\">\n",
              "    <path d=\"M0 0h24v24H0V0z\" fill=\"none\"/>\n",
              "    <path d=\"M18.56 5.44l.94 2.06.94-2.06 2.06-.94-2.06-.94-.94-2.06-.94 2.06-2.06.94zm-11 1L8.5 8.5l.94-2.06 2.06-.94-2.06-.94L8.5 2.5l-.94 2.06-2.06.94zm10 10l.94 2.06.94-2.06 2.06-.94-2.06-.94-.94-2.06-.94 2.06-2.06.94z\"/><path d=\"M17.41 7.96l-1.37-1.37c-.4-.4-.92-.59-1.43-.59-.52 0-1.04.2-1.43.59L10.3 9.45l-7.72 7.72c-.78.78-.78 2.05 0 2.83L4 21.41c.39.39.9.59 1.41.59.51 0 1.02-.2 1.41-.59l7.78-7.78 2.81-2.81c.8-.78.8-2.07 0-2.86zM5.41 20L4 18.59l7.72-7.72 1.47 1.35L5.41 20z\"/>\n",
              "  </svg>\n",
              "      </button>\n",
              "      \n",
              "  <style>\n",
              "    .colab-df-container {\n",
              "      display:flex;\n",
              "      flex-wrap:wrap;\n",
              "      gap: 12px;\n",
              "    }\n",
              "\n",
              "    .colab-df-convert {\n",
              "      background-color: #E8F0FE;\n",
              "      border: none;\n",
              "      border-radius: 50%;\n",
              "      cursor: pointer;\n",
              "      display: none;\n",
              "      fill: #1967D2;\n",
              "      height: 32px;\n",
              "      padding: 0 0 0 0;\n",
              "      width: 32px;\n",
              "    }\n",
              "\n",
              "    .colab-df-convert:hover {\n",
              "      background-color: #E2EBFA;\n",
              "      box-shadow: 0px 1px 2px rgba(60, 64, 67, 0.3), 0px 1px 3px 1px rgba(60, 64, 67, 0.15);\n",
              "      fill: #174EA6;\n",
              "    }\n",
              "\n",
              "    [theme=dark] .colab-df-convert {\n",
              "      background-color: #3B4455;\n",
              "      fill: #D2E3FC;\n",
              "    }\n",
              "\n",
              "    [theme=dark] .colab-df-convert:hover {\n",
              "      background-color: #434B5C;\n",
              "      box-shadow: 0px 1px 3px 1px rgba(0, 0, 0, 0.15);\n",
              "      filter: drop-shadow(0px 1px 2px rgba(0, 0, 0, 0.3));\n",
              "      fill: #FFFFFF;\n",
              "    }\n",
              "  </style>\n",
              "\n",
              "      <script>\n",
              "        const buttonEl =\n",
              "          document.querySelector('#df-32b52036-f5f5-4870-b836-8274ba018046 button.colab-df-convert');\n",
              "        buttonEl.style.display =\n",
              "          google.colab.kernel.accessAllowed ? 'block' : 'none';\n",
              "\n",
              "        async function convertToInteractive(key) {\n",
              "          const element = document.querySelector('#df-32b52036-f5f5-4870-b836-8274ba018046');\n",
              "          const dataTable =\n",
              "            await google.colab.kernel.invokeFunction('convertToInteractive',\n",
              "                                                     [key], {});\n",
              "          if (!dataTable) return;\n",
              "\n",
              "          const docLinkHtml = 'Like what you see? Visit the ' +\n",
              "            '<a target=\"_blank\" href=https://colab.research.google.com/notebooks/data_table.ipynb>data table notebook</a>'\n",
              "            + ' to learn more about interactive tables.';\n",
              "          element.innerHTML = '';\n",
              "          dataTable['output_type'] = 'display_data';\n",
              "          await google.colab.output.renderOutput(dataTable, element);\n",
              "          const docLink = document.createElement('div');\n",
              "          docLink.innerHTML = docLinkHtml;\n",
              "          element.appendChild(docLink);\n",
              "        }\n",
              "      </script>\n",
              "    </div>\n",
              "  </div>\n",
              "  "
            ]
          },
          "metadata": {},
          "execution_count": 43
        }
      ]
    },
    {
      "cell_type": "code",
      "source": [
        "def plot_coefs(modelname, class_label):\n",
        "    fig = plt.figure(figsize=(15,4))\n",
        "    \n",
        "    iclass = 0\n",
        "    if class_label != '':\n",
        "        idx  = target_label_map.target_label==class_label\n",
        "        iclass = target_label_map.loc[idx, 'target'].values[0]\n",
        "    \n",
        "    coefs = model_map[modelname].coef_[iclass]\n",
        "    coef_names = xtrain.columns\n",
        "\n",
        "    idx = np.argsort(coefs)\n",
        "\n",
        "    plt.bar(np.arange(coefs.shape[0]), coefs[idx])\n",
        "    plt.xticks(np.arange(coefs.shape[0]), coef_names[idx], rotation='90')\n",
        "    plt.title('Coeficientes do modelo '+ modelname + ' ' + class_label)\n",
        "    plt.grid()\n",
        "    plt.xlim((-0.5, coefs.shape[0]-0.5))\n",
        "    plt.show()\n",
        "\n",
        "\n",
        "interact(plot_coefs, modelname = list(model_map.keys()), class_label = fixed(''))"
      ],
      "metadata": {
        "colab": {
          "base_uri": "https://localhost:8080/",
          "height": 403,
          "referenced_widgets": [
            "e32db749b4a24b7d9b8867f5b1fad7da",
            "fe94577537a24ca3aaaf073a5cb96c58",
            "a935bc1e6722427dbc530220a69f8a2c",
            "f31632e6b1874be5b85f0ef2df6803f4",
            "2fe14ddbb6074e73b34ffec7c40c9f42",
            "27cfc76276ed49058c66f08880973dcc",
            "6bf7ef8e3d9241a9a542d0c160b6867a"
          ]
        },
        "id": "OWsm1VH6anli",
        "outputId": "b0a55f74-0701-4b24-afa1-c7ca1dcff2c7"
      },
      "execution_count": 44,
      "outputs": [
        {
          "output_type": "display_data",
          "data": {
            "text/plain": [
              "interactive(children=(Dropdown(description='modelname', options=('log_l1', 'log_l2', 'log_el'), value='log_l1'…"
            ],
            "application/vnd.jupyter.widget-view+json": {
              "version_major": 2,
              "version_minor": 0,
              "model_id": "e32db749b4a24b7d9b8867f5b1fad7da"
            }
          },
          "metadata": {}
        },
        {
          "output_type": "execute_result",
          "data": {
            "text/plain": [
              "<function __main__.plot_coefs>"
            ]
          },
          "metadata": {},
          "execution_count": 44
        }
      ]
    },
    {
      "cell_type": "code",
      "source": [
        ""
      ],
      "metadata": {
        "id": "4yioHuYAatyX"
      },
      "execution_count": null,
      "outputs": []
    }
  ]
}