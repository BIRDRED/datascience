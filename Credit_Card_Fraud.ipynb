{
  "nbformat": 4,
  "nbformat_minor": 0,
  "metadata": {
    "colab": {
      "name": "Credit Card Fraud.ipynb",
      "provenance": [],
      "authorship_tag": "ABX9TyNZH8keut0JZcy0A/EPsl49",
      "include_colab_link": true
    },
    "kernelspec": {
      "name": "python3",
      "display_name": "Python 3"
    },
    "language_info": {
      "name": "python"
    }
  },
  "cells": [
    {
      "cell_type": "markdown",
      "metadata": {
        "id": "view-in-github",
        "colab_type": "text"
      },
      "source": [
        "<a href=\"https://colab.research.google.com/github/BIRDRED/datascience/blob/main/Credit_Card_Fraud.ipynb\" target=\"_parent\"><img src=\"https://colab.research.google.com/assets/colab-badge.svg\" alt=\"Open In Colab\"/></a>"
      ]
    },
    {
      "cell_type": "markdown",
      "source": [
        "#IMPORTS"
      ],
      "metadata": {
        "id": "E8MPzn79LvJc"
      }
    },
    {
      "cell_type": "code",
      "execution_count": null,
      "metadata": {
        "colab": {
          "base_uri": "https://localhost:8080/"
        },
        "id": "5Bc3-XDoXz88",
        "outputId": "a7897674-e478-40c4-fda0-314f6df961da"
      },
      "outputs": [
        {
          "output_type": "stream",
          "name": "stdout",
          "text": [
            "Drive already mounted at /content/drive; to attempt to forcibly remount, call drive.mount(\"/content/drive\", force_remount=True).\n"
          ]
        }
      ],
      "source": [
        "from google.colab import drive\n",
        "drive.mount('/content/drive')"
      ]
    },
    {
      "cell_type": "code",
      "source": [
        "import pandas\n",
        "import numpy as np\n",
        "import sklearn.linear_model as lm\n",
        "from sklearn import preprocessing, model_selection, metrics\n",
        "import matplotlib.pyplot as plt\n",
        "from sklearn import tree\n",
        "from ipywidgets import interact, interactive, fixed\n",
        "import ipywidgets as widgets\n",
        "from sklearn import metrics\n",
        "import seaborn as sns\n",
        "\n"
      ],
      "metadata": {
        "id": "NDmK6WHPYJdA"
      },
      "execution_count": null,
      "outputs": []
    },
    {
      "cell_type": "code",
      "source": [
        "from sklearn.preprocessing import LabelEncoder"
      ],
      "metadata": {
        "id": "VN40P_N9L1Lp"
      },
      "execution_count": null,
      "outputs": []
    },
    {
      "cell_type": "code",
      "source": [
        "from IPython.display import display"
      ],
      "metadata": {
        "id": "iAFZsKBWL8Jz"
      },
      "execution_count": null,
      "outputs": []
    },
    {
      "cell_type": "markdown",
      "source": [
        "\n",
        "#Pré-Processamento"
      ],
      "metadata": {
        "id": "zLI9f_XCL9XK"
      }
    },
    {
      "cell_type": "code",
      "source": [
        "df_payment = pandas.read_csv('/content/drive/MyDrive/Pós-Graduação/Aprendizados de Dados em Tempo Real/Dados/Online_Payment_log.csv', sep=\",\")"
      ],
      "metadata": {
        "id": "Mly5jZ0iYM4k"
      },
      "execution_count": null,
      "outputs": []
    },
    {
      "cell_type": "code",
      "source": [
        "df_payment.head()"
      ],
      "metadata": {
        "colab": {
          "base_uri": "https://localhost:8080/",
          "height": 206
        },
        "id": "2Jy21xezYkdX",
        "outputId": "6335906f-1358-4119-89ff-7f25b7e718cc"
      },
      "execution_count": null,
      "outputs": [
        {
          "output_type": "execute_result",
          "data": {
            "text/plain": [
              "   step      type    amount     nameOrig  oldbalanceOrg  newbalanceOrig  \\\n",
              "0     1   PAYMENT   9839.64  C1231006815       170136.0       160296.36   \n",
              "1     1   PAYMENT   1864.28  C1666544295        21249.0        19384.72   \n",
              "2     1  TRANSFER    181.00  C1305486145          181.0            0.00   \n",
              "3     1  CASH_OUT    181.00   C840083671          181.0            0.00   \n",
              "4     1   PAYMENT  11668.14  C2048537720        41554.0        29885.86   \n",
              "\n",
              "      nameDest  oldbalanceDest  newbalanceDest  isFraud  isFlaggedFraud  \n",
              "0  M1979787155             0.0             0.0        0               0  \n",
              "1  M2044282225             0.0             0.0        0               0  \n",
              "2   C553264065             0.0             0.0        1               0  \n",
              "3    C38997010         21182.0             0.0        1               0  \n",
              "4  M1230701703             0.0             0.0        0               0  "
            ],
            "text/html": [
              "\n",
              "  <div id=\"df-d6ab0203-c535-468d-82a2-8ad5e2f89edc\">\n",
              "    <div class=\"colab-df-container\">\n",
              "      <div>\n",
              "<style scoped>\n",
              "    .dataframe tbody tr th:only-of-type {\n",
              "        vertical-align: middle;\n",
              "    }\n",
              "\n",
              "    .dataframe tbody tr th {\n",
              "        vertical-align: top;\n",
              "    }\n",
              "\n",
              "    .dataframe thead th {\n",
              "        text-align: right;\n",
              "    }\n",
              "</style>\n",
              "<table border=\"1\" class=\"dataframe\">\n",
              "  <thead>\n",
              "    <tr style=\"text-align: right;\">\n",
              "      <th></th>\n",
              "      <th>step</th>\n",
              "      <th>type</th>\n",
              "      <th>amount</th>\n",
              "      <th>nameOrig</th>\n",
              "      <th>oldbalanceOrg</th>\n",
              "      <th>newbalanceOrig</th>\n",
              "      <th>nameDest</th>\n",
              "      <th>oldbalanceDest</th>\n",
              "      <th>newbalanceDest</th>\n",
              "      <th>isFraud</th>\n",
              "      <th>isFlaggedFraud</th>\n",
              "    </tr>\n",
              "  </thead>\n",
              "  <tbody>\n",
              "    <tr>\n",
              "      <th>0</th>\n",
              "      <td>1</td>\n",
              "      <td>PAYMENT</td>\n",
              "      <td>9839.64</td>\n",
              "      <td>C1231006815</td>\n",
              "      <td>170136.0</td>\n",
              "      <td>160296.36</td>\n",
              "      <td>M1979787155</td>\n",
              "      <td>0.0</td>\n",
              "      <td>0.0</td>\n",
              "      <td>0</td>\n",
              "      <td>0</td>\n",
              "    </tr>\n",
              "    <tr>\n",
              "      <th>1</th>\n",
              "      <td>1</td>\n",
              "      <td>PAYMENT</td>\n",
              "      <td>1864.28</td>\n",
              "      <td>C1666544295</td>\n",
              "      <td>21249.0</td>\n",
              "      <td>19384.72</td>\n",
              "      <td>M2044282225</td>\n",
              "      <td>0.0</td>\n",
              "      <td>0.0</td>\n",
              "      <td>0</td>\n",
              "      <td>0</td>\n",
              "    </tr>\n",
              "    <tr>\n",
              "      <th>2</th>\n",
              "      <td>1</td>\n",
              "      <td>TRANSFER</td>\n",
              "      <td>181.00</td>\n",
              "      <td>C1305486145</td>\n",
              "      <td>181.0</td>\n",
              "      <td>0.00</td>\n",
              "      <td>C553264065</td>\n",
              "      <td>0.0</td>\n",
              "      <td>0.0</td>\n",
              "      <td>1</td>\n",
              "      <td>0</td>\n",
              "    </tr>\n",
              "    <tr>\n",
              "      <th>3</th>\n",
              "      <td>1</td>\n",
              "      <td>CASH_OUT</td>\n",
              "      <td>181.00</td>\n",
              "      <td>C840083671</td>\n",
              "      <td>181.0</td>\n",
              "      <td>0.00</td>\n",
              "      <td>C38997010</td>\n",
              "      <td>21182.0</td>\n",
              "      <td>0.0</td>\n",
              "      <td>1</td>\n",
              "      <td>0</td>\n",
              "    </tr>\n",
              "    <tr>\n",
              "      <th>4</th>\n",
              "      <td>1</td>\n",
              "      <td>PAYMENT</td>\n",
              "      <td>11668.14</td>\n",
              "      <td>C2048537720</td>\n",
              "      <td>41554.0</td>\n",
              "      <td>29885.86</td>\n",
              "      <td>M1230701703</td>\n",
              "      <td>0.0</td>\n",
              "      <td>0.0</td>\n",
              "      <td>0</td>\n",
              "      <td>0</td>\n",
              "    </tr>\n",
              "  </tbody>\n",
              "</table>\n",
              "</div>\n",
              "      <button class=\"colab-df-convert\" onclick=\"convertToInteractive('df-d6ab0203-c535-468d-82a2-8ad5e2f89edc')\"\n",
              "              title=\"Convert this dataframe to an interactive table.\"\n",
              "              style=\"display:none;\">\n",
              "        \n",
              "  <svg xmlns=\"http://www.w3.org/2000/svg\" height=\"24px\"viewBox=\"0 0 24 24\"\n",
              "       width=\"24px\">\n",
              "    <path d=\"M0 0h24v24H0V0z\" fill=\"none\"/>\n",
              "    <path d=\"M18.56 5.44l.94 2.06.94-2.06 2.06-.94-2.06-.94-.94-2.06-.94 2.06-2.06.94zm-11 1L8.5 8.5l.94-2.06 2.06-.94-2.06-.94L8.5 2.5l-.94 2.06-2.06.94zm10 10l.94 2.06.94-2.06 2.06-.94-2.06-.94-.94-2.06-.94 2.06-2.06.94z\"/><path d=\"M17.41 7.96l-1.37-1.37c-.4-.4-.92-.59-1.43-.59-.52 0-1.04.2-1.43.59L10.3 9.45l-7.72 7.72c-.78.78-.78 2.05 0 2.83L4 21.41c.39.39.9.59 1.41.59.51 0 1.02-.2 1.41-.59l7.78-7.78 2.81-2.81c.8-.78.8-2.07 0-2.86zM5.41 20L4 18.59l7.72-7.72 1.47 1.35L5.41 20z\"/>\n",
              "  </svg>\n",
              "      </button>\n",
              "      \n",
              "  <style>\n",
              "    .colab-df-container {\n",
              "      display:flex;\n",
              "      flex-wrap:wrap;\n",
              "      gap: 12px;\n",
              "    }\n",
              "\n",
              "    .colab-df-convert {\n",
              "      background-color: #E8F0FE;\n",
              "      border: none;\n",
              "      border-radius: 50%;\n",
              "      cursor: pointer;\n",
              "      display: none;\n",
              "      fill: #1967D2;\n",
              "      height: 32px;\n",
              "      padding: 0 0 0 0;\n",
              "      width: 32px;\n",
              "    }\n",
              "\n",
              "    .colab-df-convert:hover {\n",
              "      background-color: #E2EBFA;\n",
              "      box-shadow: 0px 1px 2px rgba(60, 64, 67, 0.3), 0px 1px 3px 1px rgba(60, 64, 67, 0.15);\n",
              "      fill: #174EA6;\n",
              "    }\n",
              "\n",
              "    [theme=dark] .colab-df-convert {\n",
              "      background-color: #3B4455;\n",
              "      fill: #D2E3FC;\n",
              "    }\n",
              "\n",
              "    [theme=dark] .colab-df-convert:hover {\n",
              "      background-color: #434B5C;\n",
              "      box-shadow: 0px 1px 3px 1px rgba(0, 0, 0, 0.15);\n",
              "      filter: drop-shadow(0px 1px 2px rgba(0, 0, 0, 0.3));\n",
              "      fill: #FFFFFF;\n",
              "    }\n",
              "  </style>\n",
              "\n",
              "      <script>\n",
              "        const buttonEl =\n",
              "          document.querySelector('#df-d6ab0203-c535-468d-82a2-8ad5e2f89edc button.colab-df-convert');\n",
              "        buttonEl.style.display =\n",
              "          google.colab.kernel.accessAllowed ? 'block' : 'none';\n",
              "\n",
              "        async function convertToInteractive(key) {\n",
              "          const element = document.querySelector('#df-d6ab0203-c535-468d-82a2-8ad5e2f89edc');\n",
              "          const dataTable =\n",
              "            await google.colab.kernel.invokeFunction('convertToInteractive',\n",
              "                                                     [key], {});\n",
              "          if (!dataTable) return;\n",
              "\n",
              "          const docLinkHtml = 'Like what you see? Visit the ' +\n",
              "            '<a target=\"_blank\" href=https://colab.research.google.com/notebooks/data_table.ipynb>data table notebook</a>'\n",
              "            + ' to learn more about interactive tables.';\n",
              "          element.innerHTML = '';\n",
              "          dataTable['output_type'] = 'display_data';\n",
              "          await google.colab.output.renderOutput(dataTable, element);\n",
              "          const docLink = document.createElement('div');\n",
              "          docLink.innerHTML = docLinkHtml;\n",
              "          element.appendChild(docLink);\n",
              "        }\n",
              "      </script>\n",
              "    </div>\n",
              "  </div>\n",
              "  "
            ]
          },
          "metadata": {},
          "execution_count": 6
        }
      ]
    },
    {
      "cell_type": "code",
      "source": [
        "la=LabelEncoder()\n",
        "df_payment['type']=la.fit_transform(df_payment['type'])"
      ],
      "metadata": {
        "id": "daWITv8wanzx"
      },
      "execution_count": null,
      "outputs": []
    },
    {
      "cell_type": "code",
      "source": [
        "df_payment.drop(['nameOrig','nameDest','isFlaggedFraud'],axis=1,inplace=True)"
      ],
      "metadata": {
        "id": "4HFPfQLGcl2e"
      },
      "execution_count": null,
      "outputs": []
    },
    {
      "cell_type": "code",
      "source": [
        "df_payment['isFraud'].value_counts()"
      ],
      "metadata": {
        "colab": {
          "base_uri": "https://localhost:8080/"
        },
        "id": "uSOjh1rcZeAe",
        "outputId": "253fbf9b-4477-4059-9854-7427fe813f75"
      },
      "execution_count": null,
      "outputs": [
        {
          "output_type": "execute_result",
          "data": {
            "text/plain": [
              "0    6354407\n",
              "1       8213\n",
              "Name: isFraud, dtype: int64"
            ]
          },
          "metadata": {},
          "execution_count": 9
        }
      ]
    },
    {
      "cell_type": "code",
      "source": [
        "target_col = 'isFraud'"
      ],
      "metadata": {
        "id": "RQQ5a33lj3DN"
      },
      "execution_count": null,
      "outputs": []
    },
    {
      "cell_type": "markdown",
      "source": [
        "# Regressão Linear"
      ],
      "metadata": {
        "id": "OC5z77WYML6j"
      }
    },
    {
      "cell_type": "markdown",
      "source": [
        "## Modelo"
      ],
      "metadata": {
        "id": "h8QSMuiGMTqZ"
      }
    },
    {
      "cell_type": "code",
      "source": [
        "model_map = {\n",
        "    'linear': lm.LinearRegression(),\n",
        "    'ridge': lm.Ridge(),\n",
        "    'lasso': lm.Lasso()\n",
        "}"
      ],
      "metadata": {
        "id": "H7jg50n5Z_cQ"
      },
      "execution_count": null,
      "outputs": []
    },
    {
      "cell_type": "code",
      "source": [
        "Y = df_payment['isFraud']\n",
        "X = df_payment.drop('isFraud', axis=1)"
      ],
      "metadata": {
        "id": "9JvtbvcUaB8W"
      },
      "execution_count": null,
      "outputs": []
    },
    {
      "cell_type": "code",
      "source": [
        "ytrain.value_counts()"
      ],
      "metadata": {
        "colab": {
          "base_uri": "https://localhost:8080/"
        },
        "id": "gYRLioTirvTG",
        "outputId": "f4690fbe-f6a4-4633-e30a-4a55ee0196e5"
      },
      "execution_count": null,
      "outputs": [
        {
          "output_type": "execute_result",
          "data": {
            "text/plain": [
              "0    5083533\n",
              "1       6563\n",
              "Name: isFraud, dtype: int64"
            ]
          },
          "metadata": {},
          "execution_count": 74
        }
      ]
    },
    {
      "cell_type": "code",
      "source": [
        "ytest.value_counts()"
      ],
      "metadata": {
        "id": "00Yr-Ty9r1tF",
        "outputId": "374e92c5-ae7b-4cdd-e7a7-ab5e7d212f97",
        "colab": {
          "base_uri": "https://localhost:8080/"
        }
      },
      "execution_count": null,
      "outputs": [
        {
          "output_type": "execute_result",
          "data": {
            "text/plain": [
              "0    1270874\n",
              "1       1650\n",
              "Name: isFraud, dtype: int64"
            ]
          },
          "metadata": {},
          "execution_count": 75
        }
      ]
    },
    {
      "cell_type": "code",
      "source": [
        "xtrain, xtest, ytrain, ytest = model_selection.train_test_split(X, Y, test_size=0.2)"
      ],
      "metadata": {
        "id": "rUGEizraaSX_"
      },
      "execution_count": null,
      "outputs": []
    },
    {
      "cell_type": "code",
      "source": [
        "df_train = xtrain.copy()\n",
        "df_test = xtest.copy()\n",
        "df_train['train_set'] = 1\n",
        "df_test['train_set'] = 0\n",
        "df_train['isFraud'] = ytrain\n",
        "df_test['isFraud'] = ytest"
      ],
      "metadata": {
        "id": "QjKA87eBaZ3z"
      },
      "execution_count": null,
      "outputs": []
    },
    {
      "cell_type": "code",
      "source": [
        "for modelname, model in model_map.items():\n",
        "    model.fit(xtrain, ytrain)    \n",
        "    yhat_train = model.predict(xtrain)\n",
        "    yhat_test  = model.predict(xtest)\n",
        "    # Output table\n",
        "    df_train[modelname] = yhat_train\n",
        "    df_test[modelname] = yhat_test\n",
        "    model_map[modelname] = model"
      ],
      "metadata": {
        "colab": {
          "base_uri": "https://localhost:8080/"
        },
        "id": "6Ncaq0LpbAIO",
        "outputId": "089f68ed-4b03-4999-912c-c6362d7c3ce6"
      },
      "execution_count": null,
      "outputs": [
        {
          "output_type": "stream",
          "name": "stderr",
          "text": [
            "/usr/local/lib/python3.7/dist-packages/sklearn/linear_model/_coordinate_descent.py:648: ConvergenceWarning: Objective did not converge. You might want to increase the number of iterations, check the scale of the features or consider increasing regularisation. Duality gap: 2.731e+03, tolerance: 6.523e-01\n",
            "  coef_, l1_reg, l2_reg, X, y, max_iter, tol, rng, random, positive\n"
          ]
        }
      ]
    },
    {
      "cell_type": "code",
      "source": [
        "df_fraudcc = pandas.concat((df_train, df_test), axis=0)"
      ],
      "metadata": {
        "id": "mmbO6mCubssm"
      },
      "execution_count": null,
      "outputs": []
    },
    {
      "cell_type": "markdown",
      "source": [
        "## Critérios de Avaliação"
      ],
      "metadata": {
        "id": "181dUGEsMZbw"
      }
    },
    {
      "cell_type": "code",
      "source": [
        "plt.figure()\n",
        "idx = df_fraudcc['train_set'] == 0\n",
        "df_fraudcc[idx].plot.scatter(target_col, 'linear', label='linear', color='k', ax=plt.gca())\n",
        "df_fraudcc[idx].plot.scatter(target_col, 'ridge', label='ridge', color='b', ax=plt.gca())\n",
        "df_fraudcc[idx].plot.scatter(target_col, 'lasso', label='lasso', color='g', ax=plt.gca())\n",
        "# plt.gca().plot(df_auto[target_col],df_auto[target_col], 'ro', label='referência')\n",
        "plt.grid()\n",
        "plt.ylabel('Estimativa')\n",
        "\n",
        "print('linear\\t', metrics.mean_absolute_error(df_fraudcc[idx][target_col], df_fraudcc[idx]['linear']))\n",
        "print('ridge\\t', metrics.mean_absolute_error(df_fraudcc[idx][target_col], df_fraudcc[idx]['ridge']))\n",
        "print('lasso\\t', metrics.mean_absolute_error(df_fraudcc[idx][target_col], df_fraudcc[idx]['lasso']))\n"
      ],
      "metadata": {
        "id": "-ViH0sw1I0zt"
      },
      "execution_count": null,
      "outputs": []
    },
    {
      "cell_type": "code",
      "source": [
        "def plot_coefs(modelname):\n",
        "    fig = plt.figure(figsize=(15,4))\n",
        "\n",
        "    \n",
        "    coefs = model_map[modelname].coef_\n",
        "    coef_names = xtrain.columns\n",
        "\n",
        "    idx = np.argsort(coefs)\n",
        "\n",
        "    plt.bar(np.arange(coefs.shape[0]), coefs[idx])\n",
        "    plt.xticks(np.arange(coefs.shape[0]), coef_names[idx], rotation='90')\n",
        "    plt.title('Coeficientes do modelo '+ modelname)\n",
        "    plt.grid()\n",
        "    plt.xlim((-0.5, coefs.shape[0]-0.5))\n",
        "    plt.show()\n",
        "\n",
        "interact(plot_coefs, modelname = list(model_map.keys()))"
      ],
      "metadata": {
        "id": "Rf-vdsNxKObY"
      },
      "execution_count": null,
      "outputs": []
    },
    {
      "cell_type": "code",
      "source": [
        "df_fraudcc['isFraud'].value_counts()"
      ],
      "metadata": {
        "id": "4POOTNqtcp0h"
      },
      "execution_count": null,
      "outputs": []
    },
    {
      "cell_type": "markdown",
      "source": [
        "# Árvores de Decisão"
      ],
      "metadata": {
        "id": "iF1oWHURPWzI"
      }
    },
    {
      "cell_type": "code",
      "source": [
        "dictFraud = {0: 'Não foi Fraude',1 : 'Foi Fraude'}\n",
        "df_payment['label_Fraud'] = df_payment['isFraud'].map(dictFraud)"
      ],
      "metadata": {
        "id": "c8CP7WVnYFRc"
      },
      "execution_count": null,
      "outputs": []
    },
    {
      "cell_type": "code",
      "source": [
        "fraud_label_map = df_payment[['label_Fraud', 'isFraud']].drop_duplicates()\n"
      ],
      "metadata": {
        "id": "HZXexMa9afzD"
      },
      "execution_count": null,
      "outputs": []
    },
    {
      "cell_type": "code",
      "source": [
        "fraud_label_map.label_Fraud"
      ],
      "metadata": {
        "colab": {
          "base_uri": "https://localhost:8080/"
        },
        "id": "Cs9cElk4a9Hl",
        "outputId": "c54f2d01-6619-4175-ccad-6aeb6b6731e1"
      },
      "execution_count": null,
      "outputs": [
        {
          "output_type": "execute_result",
          "data": {
            "text/plain": [
              "0    Não foi Fraude\n",
              "2        Foi Fraude\n",
              "Name: label_Fraud, dtype: object"
            ]
          },
          "metadata": {},
          "execution_count": 52
        }
      ]
    },
    {
      "cell_type": "code",
      "source": [
        "df_payment.drop(['label_Fraud'],axis=1,inplace=True)"
      ],
      "metadata": {
        "id": "v-K-Hm4Bm4GC"
      },
      "execution_count": null,
      "outputs": []
    },
    {
      "cell_type": "code",
      "source": [
        "Y = df_payment[target_col]\n",
        "X = df_payment.drop(target_col, axis=1)\n",
        "\n",
        "# train/test\n",
        "xtrain, xtest, ytrain, ytest = model_selection.train_test_split(X, Y, test_size=0.2)\n",
        "\n",
        "df_train = xtrain.copy()\n",
        "df_test = xtest.copy()\n",
        "df_train['train_set'] = 1\n",
        "df_test['train_set'] = 0\n",
        "df_train[target_col] = ytrain\n",
        "df_test[target_col] = ytest"
      ],
      "metadata": {
        "id": "CtAyW8VkSFDi"
      },
      "execution_count": null,
      "outputs": []
    },
    {
      "cell_type": "code",
      "source": [
        "model_payment = tree.DecisionTreeClassifier(criterion='entropy', max_depth = 5)\n",
        "model_payment.fit(xtrain, ytrain)      \n",
        "df_train['decision'] = model_payment.predict(xtrain)\n",
        "df_test['decision']  = model_payment.predict(xtest)\n",
        "df_train['probability'] = model_payment.predict_proba(xtrain)[:,1]\n",
        "df_test['probability']  = model_payment.predict_proba(xtest)[:,1]\n",
        "\n",
        "df_payment = pandas.concat((df_train, df_test), axis=0)"
      ],
      "metadata": {
        "id": "MqoCg9bzTPMw"
      },
      "execution_count": null,
      "outputs": []
    },
    {
      "cell_type": "code",
      "source": [
        "cm = metrics.confusion_matrix(df_payment[target_col],\n",
        "                              df_payment['decision'])\n",
        "\n",
        "sns.heatmap(cm, annot=True, fmt = '.0f')\n",
        "\n",
        "plt.xlabel('Classificação')\n",
        "plt.ylabel('Verdade')\n",
        "plt.gca().set_xticklabels(fraud_label_map.label_Fraud.values)\n",
        "plt.gca().set_yticklabels(fraud_label_map.label_Fraud.values)"
      ],
      "metadata": {
        "colab": {
          "base_uri": "https://localhost:8080/",
          "height": 307
        },
        "id": "R4du_bzVRWmp",
        "outputId": "4760c1da-e7b1-4815-e180-cd38885a82ec"
      },
      "execution_count": null,
      "outputs": [
        {
          "output_type": "execute_result",
          "data": {
            "text/plain": [
              "[Text(0, 0.5, 'Não foi Fraude'), Text(0, 1.5, 'Foi Fraude')]"
            ]
          },
          "metadata": {},
          "execution_count": 58
        },
        {
          "output_type": "display_data",
          "data": {
            "text/plain": [
              "<Figure size 432x288 with 2 Axes>"
            ],
            "image/png": "[encoded data removed]"
          },
          "metadata": {
            "needs_background": "light"
          }
        }
      ]
    },
    {
      "cell_type": "code",
      "source": [
        "print(metrics.classification_report(df_payment[target_col],\n",
        "                              df_payment['decision'],\n",
        "                              target_names = fraud_label_map.label_Fraud))"
      ],
      "metadata": {
        "colab": {
          "base_uri": "https://localhost:8080/"
        },
        "id": "4F7ggu5HbanE",
        "outputId": "bae22b96-7548-4c93-e675-113839143109"
      },
      "execution_count": null,
      "outputs": [
        {
          "output_type": "stream",
          "name": "stdout",
          "text": [
            "                precision    recall  f1-score   support\n",
            "\n",
            "Não foi Fraude       1.00      1.00      1.00   6354407\n",
            "    Foi Fraude       0.91      0.71      0.80      8213\n",
            "\n",
            "      accuracy                           1.00   6362620\n",
            "     macro avg       0.95      0.86      0.90   6362620\n",
            "  weighted avg       1.00      1.00      1.00   6362620\n",
            "\n"
          ]
        }
      ]
    },
    {
      "cell_type": "code",
      "source": [
        "df_payment[df_payment['train_set'] == 1]['decision'].value_counts()/df_payment[df_payment['train_set'] == 1]['isFraud'].value_counts()"
      ],
      "metadata": {
        "colab": {
          "base_uri": "https://localhost:8080/"
        },
        "id": "ctnXSg01ndwO",
        "outputId": "d6f6516c-6c9b-43b0-f7ab-110c5d985322"
      },
      "execution_count": null,
      "outputs": [
        {
          "output_type": "execute_result",
          "data": {
            "text/plain": [
              "0    1.000273\n",
              "1    0.788359\n",
              "dtype: float64"
            ]
          },
          "metadata": {},
          "execution_count": 64
        }
      ]
    }
  ]
}