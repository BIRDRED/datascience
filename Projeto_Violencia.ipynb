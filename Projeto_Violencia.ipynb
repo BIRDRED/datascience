{
  "nbformat": 4,
  "nbformat_minor": 0,
  "metadata": {
    "colab": {
      "name": "Projeto Violencia.ipynb",
      "provenance": [],
      "authorship_tag": "ABX9TyMeCY3E97MU7XsKPdn61p49",
      "include_colab_link": true
    },
    "kernelspec": {
      "name": "python3",
      "display_name": "Python 3"
    },
    "language_info": {
      "name": "python"
    },
    "widgets": {
      "application/vnd.jupyter.widget-state+json": {
        "9900e6ad8d8a40c1a7a3e7fc01276b10": {
          "model_module": "@jupyter-widgets/controls",
          "model_name": "VBoxModel",
          "model_module_version": "1.5.0",
          "state": {
            "_dom_classes": [
              "widget-interact"
            ],
            "_model_module": "@jupyter-widgets/controls",
            "_model_module_version": "1.5.0",
            "_model_name": "VBoxModel",
            "_view_count": null,
            "_view_module": "@jupyter-widgets/controls",
            "_view_module_version": "1.5.0",
            "_view_name": "VBoxView",
            "box_style": "",
            "children": [
              "IPY_MODEL_008cdcccdb0f4029be209878ddcfde42",
              "IPY_MODEL_29186a88427d48bc98c8852313b7e838",
              "IPY_MODEL_5cf0e56ca2354f2790f30e9577690ac2",
              "IPY_MODEL_8cec71c277264849ab2d3107421cce3f"
            ],
            "layout": "IPY_MODEL_2b62e8761d4942d58a958d356ca4bf58"
          }
        },
        "008cdcccdb0f4029be209878ddcfde42": {
          "model_module": "@jupyter-widgets/controls",
          "model_name": "DropdownModel",
          "model_module_version": "1.5.0",
          "state": {
            "_dom_classes": [],
            "_model_module": "@jupyter-widgets/controls",
            "_model_module_version": "1.5.0",
            "_model_name": "DropdownModel",
            "_options_labels": [
              "max_depth",
              "criterion",
              "min_samples_split",
              "max_features"
            ],
            "_view_count": null,
            "_view_module": "@jupyter-widgets/controls",
            "_view_module_version": "1.5.0",
            "_view_name": "DropdownView",
            "description": "param_name",
            "description_tooltip": null,
            "disabled": false,
            "index": 0,
            "layout": "IPY_MODEL_a71a495b15c14641907285ef24ba325a",
            "style": "IPY_MODEL_afe034b2cd6e426d8224c3df6a3fb04b"
          }
        },
        "29186a88427d48bc98c8852313b7e838": {
          "model_module": "@jupyter-widgets/controls",
          "model_name": "DropdownModel",
          "model_module_version": "1.5.0",
          "state": {
            "_dom_classes": [],
            "_model_module": "@jupyter-widgets/controls",
            "_model_module_version": "1.5.0",
            "_model_name": "DropdownModel",
            "_options_labels": [
              "accuracy",
              "precision_weighted",
              "recall_weighted",
              "roc_auc_ovr_weighted",
              "f1_weighted"
            ],
            "_view_count": null,
            "_view_module": "@jupyter-widgets/controls",
            "_view_module_version": "1.5.0",
            "_view_name": "DropdownView",
            "description": "scoring",
            "description_tooltip": null,
            "disabled": false,
            "index": 4,
            "layout": "IPY_MODEL_9a169112f9bb4d028fe0642b8bb39b59",
            "style": "IPY_MODEL_9f425945b85d422b968222914dffee6e"
          }
        },
        "5cf0e56ca2354f2790f30e9577690ac2": {
          "model_module": "@jupyter-widgets/controls",
          "model_name": "CheckboxModel",
          "model_module_version": "1.5.0",
          "state": {
            "_dom_classes": [],
            "_model_module": "@jupyter-widgets/controls",
            "_model_module_version": "1.5.0",
            "_model_name": "CheckboxModel",
            "_view_count": null,
            "_view_module": "@jupyter-widgets/controls",
            "_view_module_version": "1.5.0",
            "_view_name": "CheckboxView",
            "description": "logx",
            "description_tooltip": null,
            "disabled": false,
            "indent": true,
            "layout": "IPY_MODEL_1a10ade73e7246358f49f3eda6b9dc54",
            "style": "IPY_MODEL_f0f88aa8790744a9ae712fdd73f4ee23",
            "value": false
          }
        },
        "8cec71c277264849ab2d3107421cce3f": {
          "model_module": "@jupyter-widgets/output",
          "model_name": "OutputModel",
          "model_module_version": "1.0.0",
          "state": {
            "_dom_classes": [],
            "_model_module": "@jupyter-widgets/output",
            "_model_module_version": "1.0.0",
            "_model_name": "OutputModel",
            "_view_count": null,
            "_view_module": "@jupyter-widgets/output",
            "_view_module_version": "1.0.0",
            "_view_name": "OutputView",
            "layout": "IPY_MODEL_2fe6726b03614087bce666c33aa00cc6",
            "msg_id": "",
            "outputs": [
              {
                "output_type": "stream",
                "name": "stdout",
                "text": [
                  "Parameter: max_depth\n",
                  "GridSearch: [2, 3, 4, 5, 6, 7, 8, 9, 10, 11, 12, 13, 20, 30, 40, 50, 100]\n",
                  "Scoring: accuracy\n"
                ]
              },
              {
                "output_type": "display_data",
                "data": {
                  "text/plain": "<Figure size 432x288 with 1 Axes>",
                  "image/png": "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\n"
                },
                "metadata": {
                  "needs_background": "light"
                }
              }
            ]
          }
        },
        "2b62e8761d4942d58a958d356ca4bf58": {
          "model_module": "@jupyter-widgets/base",
          "model_name": "LayoutModel",
          "model_module_version": "1.2.0",
          "state": {
            "_model_module": "@jupyter-widgets/base",
            "_model_module_version": "1.2.0",
            "_model_name": "LayoutModel",
            "_view_count": null,
            "_view_module": "@jupyter-widgets/base",
            "_view_module_version": "1.2.0",
            "_view_name": "LayoutView",
            "align_content": null,
            "align_items": null,
            "align_self": null,
            "border": null,
            "bottom": null,
            "display": null,
            "flex": null,
            "flex_flow": null,
            "grid_area": null,
            "grid_auto_columns": null,
            "grid_auto_flow": null,
            "grid_auto_rows": null,
            "grid_column": null,
            "grid_gap": null,
            "grid_row": null,
            "grid_template_areas": null,
            "grid_template_columns": null,
            "grid_template_rows": null,
            "height": null,
            "justify_content": null,
            "justify_items": null,
            "left": null,
            "margin": null,
            "max_height": null,
            "max_width": null,
            "min_height": null,
            "min_width": null,
            "object_fit": null,
            "object_position": null,
            "order": null,
            "overflow": null,
            "overflow_x": null,
            "overflow_y": null,
            "padding": null,
            "right": null,
            "top": null,
            "visibility": null,
            "width": null
          }
        },
        "a71a495b15c14641907285ef24ba325a": {
          "model_module": "@jupyter-widgets/base",
          "model_name": "LayoutModel",
          "model_module_version": "1.2.0",
          "state": {
            "_model_module": "@jupyter-widgets/base",
            "_model_module_version": "1.2.0",
            "_model_name": "LayoutModel",
            "_view_count": null,
            "_view_module": "@jupyter-widgets/base",
            "_view_module_version": "1.2.0",
            "_view_name": "LayoutView",
            "align_content": null,
            "align_items": null,
            "align_self": null,
            "border": null,
            "bottom": null,
            "display": null,
            "flex": null,
            "flex_flow": null,
            "grid_area": null,
            "grid_auto_columns": null,
            "grid_auto_flow": null,
            "grid_auto_rows": null,
            "grid_column": null,
            "grid_gap": null,
            "grid_row": null,
            "grid_template_areas": null,
            "grid_template_columns": null,
            "grid_template_rows": null,
            "height": null,
            "justify_content": null,
            "justify_items": null,
            "left": null,
            "margin": null,
            "max_height": null,
            "max_width": null,
            "min_height": null,
            "min_width": null,
            "object_fit": null,
            "object_position": null,
            "order": null,
            "overflow": null,
            "overflow_x": null,
            "overflow_y": null,
            "padding": null,
            "right": null,
            "top": null,
            "visibility": null,
            "width": null
          }
        },
        "afe034b2cd6e426d8224c3df6a3fb04b": {
          "model_module": "@jupyter-widgets/controls",
          "model_name": "DescriptionStyleModel",
          "model_module_version": "1.5.0",
          "state": {
            "_model_module": "@jupyter-widgets/controls",
            "_model_module_version": "1.5.0",
            "_model_name": "DescriptionStyleModel",
            "_view_count": null,
            "_view_module": "@jupyter-widgets/base",
            "_view_module_version": "1.2.0",
            "_view_name": "StyleView",
            "description_width": ""
          }
        },
        "9a169112f9bb4d028fe0642b8bb39b59": {
          "model_module": "@jupyter-widgets/base",
          "model_name": "LayoutModel",
          "model_module_version": "1.2.0",
          "state": {
            "_model_module": "@jupyter-widgets/base",
            "_model_module_version": "1.2.0",
            "_model_name": "LayoutModel",
            "_view_count": null,
            "_view_module": "@jupyter-widgets/base",
            "_view_module_version": "1.2.0",
            "_view_name": "LayoutView",
            "align_content": null,
            "align_items": null,
            "align_self": null,
            "border": null,
            "bottom": null,
            "display": null,
            "flex": null,
            "flex_flow": null,
            "grid_area": null,
            "grid_auto_columns": null,
            "grid_auto_flow": null,
            "grid_auto_rows": null,
            "grid_column": null,
            "grid_gap": null,
            "grid_row": null,
            "grid_template_areas": null,
            "grid_template_columns": null,
            "grid_template_rows": null,
            "height": null,
            "justify_content": null,
            "justify_items": null,
            "left": null,
            "margin": null,
            "max_height": null,
            "max_width": null,
            "min_height": null,
            "min_width": null,
            "object_fit": null,
            "object_position": null,
            "order": null,
            "overflow": null,
            "overflow_x": null,
            "overflow_y": null,
            "padding": null,
            "right": null,
            "top": null,
            "visibility": null,
            "width": null
          }
        },
        "9f425945b85d422b968222914dffee6e": {
          "model_module": "@jupyter-widgets/controls",
          "model_name": "DescriptionStyleModel",
          "model_module_version": "1.5.0",
          "state": {
            "_model_module": "@jupyter-widgets/controls",
            "_model_module_version": "1.5.0",
            "_model_name": "DescriptionStyleModel",
            "_view_count": null,
            "_view_module": "@jupyter-widgets/base",
            "_view_module_version": "1.2.0",
            "_view_name": "StyleView",
            "description_width": ""
          }
        },
        "1a10ade73e7246358f49f3eda6b9dc54": {
          "model_module": "@jupyter-widgets/base",
          "model_name": "LayoutModel",
          "model_module_version": "1.2.0",
          "state": {
            "_model_module": "@jupyter-widgets/base",
            "_model_module_version": "1.2.0",
            "_model_name": "LayoutModel",
            "_view_count": null,
            "_view_module": "@jupyter-widgets/base",
            "_view_module_version": "1.2.0",
            "_view_name": "LayoutView",
            "align_content": null,
            "align_items": null,
            "align_self": null,
            "border": null,
            "bottom": null,
            "display": null,
            "flex": null,
            "flex_flow": null,
            "grid_area": null,
            "grid_auto_columns": null,
            "grid_auto_flow": null,
            "grid_auto_rows": null,
            "grid_column": null,
            "grid_gap": null,
            "grid_row": null,
            "grid_template_areas": null,
            "grid_template_columns": null,
            "grid_template_rows": null,
            "height": null,
            "justify_content": null,
            "justify_items": null,
            "left": null,
            "margin": null,
            "max_height": null,
            "max_width": null,
            "min_height": null,
            "min_width": null,
            "object_fit": null,
            "object_position": null,
            "order": null,
            "overflow": null,
            "overflow_x": null,
            "overflow_y": null,
            "padding": null,
            "right": null,
            "top": null,
            "visibility": null,
            "width": null
          }
        },
        "f0f88aa8790744a9ae712fdd73f4ee23": {
          "model_module": "@jupyter-widgets/controls",
          "model_name": "DescriptionStyleModel",
          "model_module_version": "1.5.0",
          "state": {
            "_model_module": "@jupyter-widgets/controls",
            "_model_module_version": "1.5.0",
            "_model_name": "DescriptionStyleModel",
            "_view_count": null,
            "_view_module": "@jupyter-widgets/base",
            "_view_module_version": "1.2.0",
            "_view_name": "StyleView",
            "description_width": ""
          }
        },
        "2fe6726b03614087bce666c33aa00cc6": {
          "model_module": "@jupyter-widgets/base",
          "model_name": "LayoutModel",
          "model_module_version": "1.2.0",
          "state": {
            "_model_module": "@jupyter-widgets/base",
            "_model_module_version": "1.2.0",
            "_model_name": "LayoutModel",
            "_view_count": null,
            "_view_module": "@jupyter-widgets/base",
            "_view_module_version": "1.2.0",
            "_view_name": "LayoutView",
            "align_content": null,
            "align_items": null,
            "align_self": null,
            "border": null,
            "bottom": null,
            "display": null,
            "flex": null,
            "flex_flow": null,
            "grid_area": null,
            "grid_auto_columns": null,
            "grid_auto_flow": null,
            "grid_auto_rows": null,
            "grid_column": null,
            "grid_gap": null,
            "grid_row": null,
            "grid_template_areas": null,
            "grid_template_columns": null,
            "grid_template_rows": null,
            "height": null,
            "justify_content": null,
            "justify_items": null,
            "left": null,
            "margin": null,
            "max_height": null,
            "max_width": null,
            "min_height": null,
            "min_width": null,
            "object_fit": null,
            "object_position": null,
            "order": null,
            "overflow": null,
            "overflow_x": null,
            "overflow_y": null,
            "padding": null,
            "right": null,
            "top": null,
            "visibility": null,
            "width": null
          }
        },
        "206528391c30475fb04b101598fb8f0c": {
          "model_module": "@jupyter-widgets/controls",
          "model_name": "VBoxModel",
          "model_module_version": "1.5.0",
          "state": {
            "_dom_classes": [
              "widget-interact"
            ],
            "_model_module": "@jupyter-widgets/controls",
            "_model_module_version": "1.5.0",
            "_model_name": "VBoxModel",
            "_view_count": null,
            "_view_module": "@jupyter-widgets/controls",
            "_view_module_version": "1.5.0",
            "_view_name": "VBoxView",
            "box_style": "",
            "children": [
              "IPY_MODEL_cc941e05a021482aad28c672a843692f",
              "IPY_MODEL_82ea790481a048949575e4c3f3994fa7"
            ],
            "layout": "IPY_MODEL_1be78c53127f4364bcc3bdc0de9c978b"
          }
        },
        "cc941e05a021482aad28c672a843692f": {
          "model_module": "@jupyter-widgets/controls",
          "model_name": "FloatSliderModel",
          "model_module_version": "1.5.0",
          "state": {
            "_dom_classes": [],
            "_model_module": "@jupyter-widgets/controls",
            "_model_module_version": "1.5.0",
            "_model_name": "FloatSliderModel",
            "_view_count": null,
            "_view_module": "@jupyter-widgets/controls",
            "_view_module_version": "1.5.0",
            "_view_name": "FloatSliderView",
            "continuous_update": true,
            "description": "threshold",
            "description_tooltip": null,
            "disabled": false,
            "layout": "IPY_MODEL_fdc120de3746463c8daaa73abd0da03b",
            "max": 1,
            "min": 0,
            "orientation": "horizontal",
            "readout": true,
            "readout_format": ".2f",
            "step": 0.1,
            "style": "IPY_MODEL_ee116af97a274ec1994cc5acbe04015f",
            "value": 0.5
          }
        },
        "82ea790481a048949575e4c3f3994fa7": {
          "model_module": "@jupyter-widgets/output",
          "model_name": "OutputModel",
          "model_module_version": "1.0.0",
          "state": {
            "_dom_classes": [],
            "_model_module": "@jupyter-widgets/output",
            "_model_module_version": "1.0.0",
            "_model_name": "OutputModel",
            "_view_count": null,
            "_view_module": "@jupyter-widgets/output",
            "_view_module_version": "1.0.0",
            "_view_name": "OutputView",
            "layout": "IPY_MODEL_1b0f3dfa52804127abe093e71d13fc28",
            "msg_id": "",
            "outputs": [
              {
                "output_type": "display_data",
                "data": {
                  "text/plain": "<Figure size 864x288 with 3 Axes>",
                  "image/png": "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\n"
                },
                "metadata": {
                  "needs_background": "light"
                }
              },
              {
                "output_type": "stream",
                "name": "stdout",
                "text": [
                  "                precision    recall  f1-score   support\n",
                  "\n",
                  "Pouco Violento       0.62      0.49      0.55     20102\n",
                  "Muito Violento       0.90      0.94      0.92     99949\n",
                  "\n",
                  "      accuracy                           0.87    120051\n",
                  "     macro avg       0.76      0.72      0.73    120051\n",
                  "  weighted avg       0.86      0.87      0.86    120051\n",
                  "\n"
                ]
              }
            ]
          }
        },
        "1be78c53127f4364bcc3bdc0de9c978b": {
          "model_module": "@jupyter-widgets/base",
          "model_name": "LayoutModel",
          "model_module_version": "1.2.0",
          "state": {
            "_model_module": "@jupyter-widgets/base",
            "_model_module_version": "1.2.0",
            "_model_name": "LayoutModel",
            "_view_count": null,
            "_view_module": "@jupyter-widgets/base",
            "_view_module_version": "1.2.0",
            "_view_name": "LayoutView",
            "align_content": null,
            "align_items": null,
            "align_self": null,
            "border": null,
            "bottom": null,
            "display": null,
            "flex": null,
            "flex_flow": null,
            "grid_area": null,
            "grid_auto_columns": null,
            "grid_auto_flow": null,
            "grid_auto_rows": null,
            "grid_column": null,
            "grid_gap": null,
            "grid_row": null,
            "grid_template_areas": null,
            "grid_template_columns": null,
            "grid_template_rows": null,
            "height": null,
            "justify_content": null,
            "justify_items": null,
            "left": null,
            "margin": null,
            "max_height": null,
            "max_width": null,
            "min_height": null,
            "min_width": null,
            "object_fit": null,
            "object_position": null,
            "order": null,
            "overflow": null,
            "overflow_x": null,
            "overflow_y": null,
            "padding": null,
            "right": null,
            "top": null,
            "visibility": null,
            "width": null
          }
        },
        "fdc120de3746463c8daaa73abd0da03b": {
          "model_module": "@jupyter-widgets/base",
          "model_name": "LayoutModel",
          "model_module_version": "1.2.0",
          "state": {
            "_model_module": "@jupyter-widgets/base",
            "_model_module_version": "1.2.0",
            "_model_name": "LayoutModel",
            "_view_count": null,
            "_view_module": "@jupyter-widgets/base",
            "_view_module_version": "1.2.0",
            "_view_name": "LayoutView",
            "align_content": null,
            "align_items": null,
            "align_self": null,
            "border": null,
            "bottom": null,
            "display": null,
            "flex": null,
            "flex_flow": null,
            "grid_area": null,
            "grid_auto_columns": null,
            "grid_auto_flow": null,
            "grid_auto_rows": null,
            "grid_column": null,
            "grid_gap": null,
            "grid_row": null,
            "grid_template_areas": null,
            "grid_template_columns": null,
            "grid_template_rows": null,
            "height": null,
            "justify_content": null,
            "justify_items": null,
            "left": null,
            "margin": null,
            "max_height": null,
            "max_width": null,
            "min_height": null,
            "min_width": null,
            "object_fit": null,
            "object_position": null,
            "order": null,
            "overflow": null,
            "overflow_x": null,
            "overflow_y": null,
            "padding": null,
            "right": null,
            "top": null,
            "visibility": null,
            "width": null
          }
        },
        "ee116af97a274ec1994cc5acbe04015f": {
          "model_module": "@jupyter-widgets/controls",
          "model_name": "SliderStyleModel",
          "model_module_version": "1.5.0",
          "state": {
            "_model_module": "@jupyter-widgets/controls",
            "_model_module_version": "1.5.0",
            "_model_name": "SliderStyleModel",
            "_view_count": null,
            "_view_module": "@jupyter-widgets/base",
            "_view_module_version": "1.2.0",
            "_view_name": "StyleView",
            "description_width": "",
            "handle_color": null
          }
        },
        "1b0f3dfa52804127abe093e71d13fc28": {
          "model_module": "@jupyter-widgets/base",
          "model_name": "LayoutModel",
          "model_module_version": "1.2.0",
          "state": {
            "_model_module": "@jupyter-widgets/base",
            "_model_module_version": "1.2.0",
            "_model_name": "LayoutModel",
            "_view_count": null,
            "_view_module": "@jupyter-widgets/base",
            "_view_module_version": "1.2.0",
            "_view_name": "LayoutView",
            "align_content": null,
            "align_items": null,
            "align_self": null,
            "border": null,
            "bottom": null,
            "display": null,
            "flex": null,
            "flex_flow": null,
            "grid_area": null,
            "grid_auto_columns": null,
            "grid_auto_flow": null,
            "grid_auto_rows": null,
            "grid_column": null,
            "grid_gap": null,
            "grid_row": null,
            "grid_template_areas": null,
            "grid_template_columns": null,
            "grid_template_rows": null,
            "height": null,
            "justify_content": null,
            "justify_items": null,
            "left": null,
            "margin": null,
            "max_height": null,
            "max_width": null,
            "min_height": null,
            "min_width": null,
            "object_fit": null,
            "object_position": null,
            "order": null,
            "overflow": null,
            "overflow_x": null,
            "overflow_y": null,
            "padding": null,
            "right": null,
            "top": null,
            "visibility": null,
            "width": null
          }
        },
        "056ff6f0d77c4234b72b3aafb5b4ca50": {
          "model_module": "@jupyter-widgets/controls",
          "model_name": "VBoxModel",
          "model_module_version": "1.5.0",
          "state": {
            "_dom_classes": [
              "widget-interact"
            ],
            "_model_module": "@jupyter-widgets/controls",
            "_model_module_version": "1.5.0",
            "_model_name": "VBoxModel",
            "_view_count": null,
            "_view_module": "@jupyter-widgets/controls",
            "_view_module_version": "1.5.0",
            "_view_name": "VBoxView",
            "box_style": "",
            "children": [
              "IPY_MODEL_9c00b880382d4b2f99861bb25afea46c",
              "IPY_MODEL_84e563cfd26e44509636bfbe80173a70",
              "IPY_MODEL_8a0ede4dde8f4b378a94927d377b96a6",
              "IPY_MODEL_19265a8eec78470bbf60227415b6d20e"
            ],
            "layout": "IPY_MODEL_f3cb9d5c2c434517b23eb9ac86edff63"
          }
        },
        "9c00b880382d4b2f99861bb25afea46c": {
          "model_module": "@jupyter-widgets/controls",
          "model_name": "DropdownModel",
          "model_module_version": "1.5.0",
          "state": {
            "_dom_classes": [],
            "_model_module": "@jupyter-widgets/controls",
            "_model_module_version": "1.5.0",
            "_model_name": "DropdownModel",
            "_options_labels": [
              "C",
              "penalty"
            ],
            "_view_count": null,
            "_view_module": "@jupyter-widgets/controls",
            "_view_module_version": "1.5.0",
            "_view_name": "DropdownView",
            "description": "param_name",
            "description_tooltip": null,
            "disabled": false,
            "index": 0,
            "layout": "IPY_MODEL_878875a395a64e77a488edbddc213851",
            "style": "IPY_MODEL_9966651df05e458ebecb52eeca65d264"
          }
        },
        "84e563cfd26e44509636bfbe80173a70": {
          "model_module": "@jupyter-widgets/controls",
          "model_name": "DropdownModel",
          "model_module_version": "1.5.0",
          "state": {
            "_dom_classes": [],
            "_model_module": "@jupyter-widgets/controls",
            "_model_module_version": "1.5.0",
            "_model_name": "DropdownModel",
            "_options_labels": [
              "accuracy",
              "precision_weighted",
              "recall_weighted",
              "roc_auc_ovr_weighted",
              "f1_weighted"
            ],
            "_view_count": null,
            "_view_module": "@jupyter-widgets/controls",
            "_view_module_version": "1.5.0",
            "_view_name": "DropdownView",
            "description": "scoring",
            "description_tooltip": null,
            "disabled": false,
            "index": 0,
            "layout": "IPY_MODEL_86411000ab5c4ad281a8f7751862fcd0",
            "style": "IPY_MODEL_596e07c7a6174d719167f7077c91a279"
          }
        },
        "8a0ede4dde8f4b378a94927d377b96a6": {
          "model_module": "@jupyter-widgets/controls",
          "model_name": "CheckboxModel",
          "model_module_version": "1.5.0",
          "state": {
            "_dom_classes": [],
            "_model_module": "@jupyter-widgets/controls",
            "_model_module_version": "1.5.0",
            "_model_name": "CheckboxModel",
            "_view_count": null,
            "_view_module": "@jupyter-widgets/controls",
            "_view_module_version": "1.5.0",
            "_view_name": "CheckboxView",
            "description": "logx",
            "description_tooltip": null,
            "disabled": false,
            "indent": true,
            "layout": "IPY_MODEL_898b743a43dc4e4cae598035218a4121",
            "style": "IPY_MODEL_b4f30df772984c929cc9398bfd8111cb",
            "value": true
          }
        },
        "19265a8eec78470bbf60227415b6d20e": {
          "model_module": "@jupyter-widgets/output",
          "model_name": "OutputModel",
          "model_module_version": "1.0.0",
          "state": {
            "_dom_classes": [],
            "_model_module": "@jupyter-widgets/output",
            "_model_module_version": "1.0.0",
            "_model_name": "OutputModel",
            "_view_count": null,
            "_view_module": "@jupyter-widgets/output",
            "_view_module_version": "1.0.0",
            "_view_name": "OutputView",
            "layout": "IPY_MODEL_06c93180822a4f8ca71e67b064071d5a",
            "msg_id": "",
            "outputs": [
              {
                "output_type": "stream",
                "name": "stdout",
                "text": [
                  "Parameter: C\n",
                  "GridSearch: [0.01, 0.1, 1, 10, 100]\n",
                  "Scoring: accuracy\n"
                ]
              },
              {
                "output_type": "display_data",
                "data": {
                  "text/plain": "<Figure size 432x288 with 1 Axes>",
                  "image/png": "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\n"
                },
                "metadata": {
                  "needs_background": "light"
                }
              }
            ]
          }
        },
        "f3cb9d5c2c434517b23eb9ac86edff63": {
          "model_module": "@jupyter-widgets/base",
          "model_name": "LayoutModel",
          "model_module_version": "1.2.0",
          "state": {
            "_model_module": "@jupyter-widgets/base",
            "_model_module_version": "1.2.0",
            "_model_name": "LayoutModel",
            "_view_count": null,
            "_view_module": "@jupyter-widgets/base",
            "_view_module_version": "1.2.0",
            "_view_name": "LayoutView",
            "align_content": null,
            "align_items": null,
            "align_self": null,
            "border": null,
            "bottom": null,
            "display": null,
            "flex": null,
            "flex_flow": null,
            "grid_area": null,
            "grid_auto_columns": null,
            "grid_auto_flow": null,
            "grid_auto_rows": null,
            "grid_column": null,
            "grid_gap": null,
            "grid_row": null,
            "grid_template_areas": null,
            "grid_template_columns": null,
            "grid_template_rows": null,
            "height": null,
            "justify_content": null,
            "justify_items": null,
            "left": null,
            "margin": null,
            "max_height": null,
            "max_width": null,
            "min_height": null,
            "min_width": null,
            "object_fit": null,
            "object_position": null,
            "order": null,
            "overflow": null,
            "overflow_x": null,
            "overflow_y": null,
            "padding": null,
            "right": null,
            "top": null,
            "visibility": null,
            "width": null
          }
        },
        "878875a395a64e77a488edbddc213851": {
          "model_module": "@jupyter-widgets/base",
          "model_name": "LayoutModel",
          "model_module_version": "1.2.0",
          "state": {
            "_model_module": "@jupyter-widgets/base",
            "_model_module_version": "1.2.0",
            "_model_name": "LayoutModel",
            "_view_count": null,
            "_view_module": "@jupyter-widgets/base",
            "_view_module_version": "1.2.0",
            "_view_name": "LayoutView",
            "align_content": null,
            "align_items": null,
            "align_self": null,
            "border": null,
            "bottom": null,
            "display": null,
            "flex": null,
            "flex_flow": null,
            "grid_area": null,
            "grid_auto_columns": null,
            "grid_auto_flow": null,
            "grid_auto_rows": null,
            "grid_column": null,
            "grid_gap": null,
            "grid_row": null,
            "grid_template_areas": null,
            "grid_template_columns": null,
            "grid_template_rows": null,
            "height": null,
            "justify_content": null,
            "justify_items": null,
            "left": null,
            "margin": null,
            "max_height": null,
            "max_width": null,
            "min_height": null,
            "min_width": null,
            "object_fit": null,
            "object_position": null,
            "order": null,
            "overflow": null,
            "overflow_x": null,
            "overflow_y": null,
            "padding": null,
            "right": null,
            "top": null,
            "visibility": null,
            "width": null
          }
        },
        "9966651df05e458ebecb52eeca65d264": {
          "model_module": "@jupyter-widgets/controls",
          "model_name": "DescriptionStyleModel",
          "model_module_version": "1.5.0",
          "state": {
            "_model_module": "@jupyter-widgets/controls",
            "_model_module_version": "1.5.0",
            "_model_name": "DescriptionStyleModel",
            "_view_count": null,
            "_view_module": "@jupyter-widgets/base",
            "_view_module_version": "1.2.0",
            "_view_name": "StyleView",
            "description_width": ""
          }
        },
        "86411000ab5c4ad281a8f7751862fcd0": {
          "model_module": "@jupyter-widgets/base",
          "model_name": "LayoutModel",
          "model_module_version": "1.2.0",
          "state": {
            "_model_module": "@jupyter-widgets/base",
            "_model_module_version": "1.2.0",
            "_model_name": "LayoutModel",
            "_view_count": null,
            "_view_module": "@jupyter-widgets/base",
            "_view_module_version": "1.2.0",
            "_view_name": "LayoutView",
            "align_content": null,
            "align_items": null,
            "align_self": null,
            "border": null,
            "bottom": null,
            "display": null,
            "flex": null,
            "flex_flow": null,
            "grid_area": null,
            "grid_auto_columns": null,
            "grid_auto_flow": null,
            "grid_auto_rows": null,
            "grid_column": null,
            "grid_gap": null,
            "grid_row": null,
            "grid_template_areas": null,
            "grid_template_columns": null,
            "grid_template_rows": null,
            "height": null,
            "justify_content": null,
            "justify_items": null,
            "left": null,
            "margin": null,
            "max_height": null,
            "max_width": null,
            "min_height": null,
            "min_width": null,
            "object_fit": null,
            "object_position": null,
            "order": null,
            "overflow": null,
            "overflow_x": null,
            "overflow_y": null,
            "padding": null,
            "right": null,
            "top": null,
            "visibility": null,
            "width": null
          }
        },
        "596e07c7a6174d719167f7077c91a279": {
          "model_module": "@jupyter-widgets/controls",
          "model_name": "DescriptionStyleModel",
          "model_module_version": "1.5.0",
          "state": {
            "_model_module": "@jupyter-widgets/controls",
            "_model_module_version": "1.5.0",
            "_model_name": "DescriptionStyleModel",
            "_view_count": null,
            "_view_module": "@jupyter-widgets/base",
            "_view_module_version": "1.2.0",
            "_view_name": "StyleView",
            "description_width": ""
          }
        },
        "898b743a43dc4e4cae598035218a4121": {
          "model_module": "@jupyter-widgets/base",
          "model_name": "LayoutModel",
          "model_module_version": "1.2.0",
          "state": {
            "_model_module": "@jupyter-widgets/base",
            "_model_module_version": "1.2.0",
            "_model_name": "LayoutModel",
            "_view_count": null,
            "_view_module": "@jupyter-widgets/base",
            "_view_module_version": "1.2.0",
            "_view_name": "LayoutView",
            "align_content": null,
            "align_items": null,
            "align_self": null,
            "border": null,
            "bottom": null,
            "display": null,
            "flex": null,
            "flex_flow": null,
            "grid_area": null,
            "grid_auto_columns": null,
            "grid_auto_flow": null,
            "grid_auto_rows": null,
            "grid_column": null,
            "grid_gap": null,
            "grid_row": null,
            "grid_template_areas": null,
            "grid_template_columns": null,
            "grid_template_rows": null,
            "height": null,
            "justify_content": null,
            "justify_items": null,
            "left": null,
            "margin": null,
            "max_height": null,
            "max_width": null,
            "min_height": null,
            "min_width": null,
            "object_fit": null,
            "object_position": null,
            "order": null,
            "overflow": null,
            "overflow_x": null,
            "overflow_y": null,
            "padding": null,
            "right": null,
            "top": null,
            "visibility": null,
            "width": null
          }
        },
        "b4f30df772984c929cc9398bfd8111cb": {
          "model_module": "@jupyter-widgets/controls",
          "model_name": "DescriptionStyleModel",
          "model_module_version": "1.5.0",
          "state": {
            "_model_module": "@jupyter-widgets/controls",
            "_model_module_version": "1.5.0",
            "_model_name": "DescriptionStyleModel",
            "_view_count": null,
            "_view_module": "@jupyter-widgets/base",
            "_view_module_version": "1.2.0",
            "_view_name": "StyleView",
            "description_width": ""
          }
        },
        "06c93180822a4f8ca71e67b064071d5a": {
          "model_module": "@jupyter-widgets/base",
          "model_name": "LayoutModel",
          "model_module_version": "1.2.0",
          "state": {
            "_model_module": "@jupyter-widgets/base",
            "_model_module_version": "1.2.0",
            "_model_name": "LayoutModel",
            "_view_count": null,
            "_view_module": "@jupyter-widgets/base",
            "_view_module_version": "1.2.0",
            "_view_name": "LayoutView",
            "align_content": null,
            "align_items": null,
            "align_self": null,
            "border": null,
            "bottom": null,
            "display": null,
            "flex": null,
            "flex_flow": null,
            "grid_area": null,
            "grid_auto_columns": null,
            "grid_auto_flow": null,
            "grid_auto_rows": null,
            "grid_column": null,
            "grid_gap": null,
            "grid_row": null,
            "grid_template_areas": null,
            "grid_template_columns": null,
            "grid_template_rows": null,
            "height": null,
            "justify_content": null,
            "justify_items": null,
            "left": null,
            "margin": null,
            "max_height": null,
            "max_width": null,
            "min_height": null,
            "min_width": null,
            "object_fit": null,
            "object_position": null,
            "order": null,
            "overflow": null,
            "overflow_x": null,
            "overflow_y": null,
            "padding": null,
            "right": null,
            "top": null,
            "visibility": null,
            "width": null
          }
        },
        "7d87a19fbd2e4813a0abbbb71db19490": {
          "model_module": "@jupyter-widgets/controls",
          "model_name": "VBoxModel",
          "model_module_version": "1.5.0",
          "state": {
            "_dom_classes": [
              "widget-interact"
            ],
            "_model_module": "@jupyter-widgets/controls",
            "_model_module_version": "1.5.0",
            "_model_name": "VBoxModel",
            "_view_count": null,
            "_view_module": "@jupyter-widgets/controls",
            "_view_module_version": "1.5.0",
            "_view_name": "VBoxView",
            "box_style": "",
            "children": [
              "IPY_MODEL_141a7a29d94b49d1bc686dc9246a2167",
              "IPY_MODEL_ea680bcff3394f8c9bd2d9b776b186b3"
            ],
            "layout": "IPY_MODEL_19df6e943fec4ba98076b8cd66819adf"
          }
        },
        "141a7a29d94b49d1bc686dc9246a2167": {
          "model_module": "@jupyter-widgets/controls",
          "model_name": "FloatSliderModel",
          "model_module_version": "1.5.0",
          "state": {
            "_dom_classes": [],
            "_model_module": "@jupyter-widgets/controls",
            "_model_module_version": "1.5.0",
            "_model_name": "FloatSliderModel",
            "_view_count": null,
            "_view_module": "@jupyter-widgets/controls",
            "_view_module_version": "1.5.0",
            "_view_name": "FloatSliderView",
            "continuous_update": true,
            "description": "threshold",
            "description_tooltip": null,
            "disabled": false,
            "layout": "IPY_MODEL_87358df0bb1e4b67b586b5f86f335e55",
            "max": 1,
            "min": 0,
            "orientation": "horizontal",
            "readout": true,
            "readout_format": ".2f",
            "step": 0.02,
            "style": "IPY_MODEL_22c4ca1a3e6d4befb40b75dad981dd99",
            "value": 0
          }
        },
        "ea680bcff3394f8c9bd2d9b776b186b3": {
          "model_module": "@jupyter-widgets/output",
          "model_name": "OutputModel",
          "model_module_version": "1.0.0",
          "state": {
            "_dom_classes": [],
            "_model_module": "@jupyter-widgets/output",
            "_model_module_version": "1.0.0",
            "_model_name": "OutputModel",
            "_view_count": null,
            "_view_module": "@jupyter-widgets/output",
            "_view_module_version": "1.0.0",
            "_view_name": "OutputView",
            "layout": "IPY_MODEL_0aee6f3369bf4c87a852664d4313137e",
            "msg_id": "",
            "outputs": [
              {
                "output_type": "display_data",
                "data": {
                  "text/plain": "<Figure size 864x288 with 3 Axes>",
                  "image/png": "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\n"
                },
                "metadata": {
                  "needs_background": "light"
                }
              },
              {
                "output_type": "stream",
                "name": "stdout",
                "text": [
                  "                precision    recall  f1-score   support\n",
                  "\n",
                  "Pouco Violento       0.00      0.00      0.00     20102\n",
                  "Muito Violento       0.83      1.00      0.91     99949\n",
                  "\n",
                  "      accuracy                           0.83    120051\n",
                  "     macro avg       0.42      0.50      0.45    120051\n",
                  "  weighted avg       0.69      0.83      0.76    120051\n",
                  "\n"
                ]
              }
            ]
          }
        },
        "19df6e943fec4ba98076b8cd66819adf": {
          "model_module": "@jupyter-widgets/base",
          "model_name": "LayoutModel",
          "model_module_version": "1.2.0",
          "state": {
            "_model_module": "@jupyter-widgets/base",
            "_model_module_version": "1.2.0",
            "_model_name": "LayoutModel",
            "_view_count": null,
            "_view_module": "@jupyter-widgets/base",
            "_view_module_version": "1.2.0",
            "_view_name": "LayoutView",
            "align_content": null,
            "align_items": null,
            "align_self": null,
            "border": null,
            "bottom": null,
            "display": null,
            "flex": null,
            "flex_flow": null,
            "grid_area": null,
            "grid_auto_columns": null,
            "grid_auto_flow": null,
            "grid_auto_rows": null,
            "grid_column": null,
            "grid_gap": null,
            "grid_row": null,
            "grid_template_areas": null,
            "grid_template_columns": null,
            "grid_template_rows": null,
            "height": null,
            "justify_content": null,
            "justify_items": null,
            "left": null,
            "margin": null,
            "max_height": null,
            "max_width": null,
            "min_height": null,
            "min_width": null,
            "object_fit": null,
            "object_position": null,
            "order": null,
            "overflow": null,
            "overflow_x": null,
            "overflow_y": null,
            "padding": null,
            "right": null,
            "top": null,
            "visibility": null,
            "width": null
          }
        },
        "87358df0bb1e4b67b586b5f86f335e55": {
          "model_module": "@jupyter-widgets/base",
          "model_name": "LayoutModel",
          "model_module_version": "1.2.0",
          "state": {
            "_model_module": "@jupyter-widgets/base",
            "_model_module_version": "1.2.0",
            "_model_name": "LayoutModel",
            "_view_count": null,
            "_view_module": "@jupyter-widgets/base",
            "_view_module_version": "1.2.0",
            "_view_name": "LayoutView",
            "align_content": null,
            "align_items": null,
            "align_self": null,
            "border": null,
            "bottom": null,
            "display": null,
            "flex": null,
            "flex_flow": null,
            "grid_area": null,
            "grid_auto_columns": null,
            "grid_auto_flow": null,
            "grid_auto_rows": null,
            "grid_column": null,
            "grid_gap": null,
            "grid_row": null,
            "grid_template_areas": null,
            "grid_template_columns": null,
            "grid_template_rows": null,
            "height": null,
            "justify_content": null,
            "justify_items": null,
            "left": null,
            "margin": null,
            "max_height": null,
            "max_width": null,
            "min_height": null,
            "min_width": null,
            "object_fit": null,
            "object_position": null,
            "order": null,
            "overflow": null,
            "overflow_x": null,
            "overflow_y": null,
            "padding": null,
            "right": null,
            "top": null,
            "visibility": null,
            "width": null
          }
        },
        "22c4ca1a3e6d4befb40b75dad981dd99": {
          "model_module": "@jupyter-widgets/controls",
          "model_name": "SliderStyleModel",
          "model_module_version": "1.5.0",
          "state": {
            "_model_module": "@jupyter-widgets/controls",
            "_model_module_version": "1.5.0",
            "_model_name": "SliderStyleModel",
            "_view_count": null,
            "_view_module": "@jupyter-widgets/base",
            "_view_module_version": "1.2.0",
            "_view_name": "StyleView",
            "description_width": "",
            "handle_color": null
          }
        },
        "0aee6f3369bf4c87a852664d4313137e": {
          "model_module": "@jupyter-widgets/base",
          "model_name": "LayoutModel",
          "model_module_version": "1.2.0",
          "state": {
            "_model_module": "@jupyter-widgets/base",
            "_model_module_version": "1.2.0",
            "_model_name": "LayoutModel",
            "_view_count": null,
            "_view_module": "@jupyter-widgets/base",
            "_view_module_version": "1.2.0",
            "_view_name": "LayoutView",
            "align_content": null,
            "align_items": null,
            "align_self": null,
            "border": null,
            "bottom": null,
            "display": null,
            "flex": null,
            "flex_flow": null,
            "grid_area": null,
            "grid_auto_columns": null,
            "grid_auto_flow": null,
            "grid_auto_rows": null,
            "grid_column": null,
            "grid_gap": null,
            "grid_row": null,
            "grid_template_areas": null,
            "grid_template_columns": null,
            "grid_template_rows": null,
            "height": null,
            "justify_content": null,
            "justify_items": null,
            "left": null,
            "margin": null,
            "max_height": null,
            "max_width": null,
            "min_height": null,
            "min_width": null,
            "object_fit": null,
            "object_position": null,
            "order": null,
            "overflow": null,
            "overflow_x": null,
            "overflow_y": null,
            "padding": null,
            "right": null,
            "top": null,
            "visibility": null,
            "width": null
          }
        }
      }
    }
  },
  "cells": [
    {
      "cell_type": "markdown",
      "metadata": {
        "id": "view-in-github",
        "colab_type": "text"
      },
      "source": [
        "<a href=\"https://colab.research.google.com/github/BIRDRED/datascience/blob/main/Projeto_Violencia.ipynb\" target=\"_parent\"><img src=\"https://colab.research.google.com/assets/colab-badge.svg\" alt=\"Open In Colab\"/></a>"
      ]
    },
    {
      "cell_type": "markdown",
      "source": [
        "# INTRODUÇÃO"
      ],
      "metadata": {
        "id": "UfgFiW3E2VUm"
      }
    },
    {
      "cell_type": "markdown",
      "source": [
        "O problema referido em questão trata dos dados obtidos no Mapa de violencia (https://www.ipea.gov.br/atlasviolencia/) e em seguida foi feita a classificação através de Cluster (https://github.com/BIRDRED/datascience/blob/main/Projeto_Violencia_Clusterizacao.ipynb) e foi separado em duas classes como Municipio violento e não violento."
      ],
      "metadata": {
        "id": "VmiPAzYk2cAM"
      }
    },
    {
      "cell_type": "markdown",
      "source": [
        "O objetivo desse processo é ter uma classificação dos dados e utilizar posteriormente nos dados da seguradora para auxiliar na avaliação do segurado quando tiver os dados de localização."
      ],
      "metadata": {
        "id": "OBL2Quq63piX"
      }
    },
    {
      "cell_type": "markdown",
      "source": [
        "#IMPORT\n"
      ],
      "metadata": {
        "id": "2lj1_0NOU-Tg"
      }
    },
    {
      "cell_type": "code",
      "execution_count": 1,
      "metadata": {
        "id": "8MRvI9xDRrHc",
        "colab": {
          "base_uri": "https://localhost:8080/"
        },
        "outputId": "b4de9a18-a92e-4c22-b7e8-a9bfe221018d"
      },
      "outputs": [
        {
          "output_type": "stream",
          "name": "stdout",
          "text": [
            "Mounted at /content/drive\n"
          ]
        }
      ],
      "source": [
        "from google.colab import drive\n",
        "drive.mount('/content/drive')"
      ]
    },
    {
      "cell_type": "code",
      "source": [
        "import matplotlib.pyplot as plt\n",
        "import seaborn as sns\n",
        "import pandas as pd\n",
        "import numpy as np\n",
        "from sklearn import tree\n",
        "from sklearn import svm\n",
        "from sklearn import preprocessing, model_selection,metrics\n",
        "from sklearn import metrics\n",
        "import sklearn.linear_model as lm\n",
        "from sklearn.model_selection import validation_curve\n",
        "from sklearn.preprocessing import MinMaxScaler\n",
        "from sklearn.preprocessing import StandardScaler\n",
        "from sklearn.metrics import make_scorer, precision_score, recall_score, f1_score, accuracy_score, classification_report\n",
        "from sklearn import metrics\n",
        "import graphviz\n",
        "from sklearn.inspection import permutation_importance\n",
        "\n",
        "\n",
        "from ipywidgets import interact, interactive, fixed\n",
        "import ipywidgets as widgets\n",
        "\n",
        "\n",
        "%matplotlib inline"
      ],
      "metadata": {
        "id": "r3ebGE-0Rvc7"
      },
      "execution_count": 2,
      "outputs": []
    },
    {
      "cell_type": "markdown",
      "source": [
        "# Avaliação da Base"
      ],
      "metadata": {
        "id": "XTNdi-oi5DGA"
      }
    },
    {
      "cell_type": "markdown",
      "source": [
        "Pouca coerencia nas classificações dos Clusters, pois os homicidios como principal coluna deveria ter mais pesos para as classificações dos Clusters"
      ],
      "metadata": {
        "id": "Mxs-X3v9AT2s"
      }
    },
    {
      "cell_type": "code",
      "source": [
        "df_violencia = pd.read_csv('/content/drive/MyDrive/Pós-Graduação/Aprendizados de Dados em Tempo Real/Projetos/Violencia_Clusters.csv', sep=\";\")"
      ],
      "metadata": {
        "id": "5o-pjHk35LT_"
      },
      "execution_count": 86,
      "outputs": []
    },
    {
      "cell_type": "code",
      "source": [
        "df_violencia.sort_values('homicidios',ascending=False).head()"
      ],
      "metadata": {
        "colab": {
          "base_uri": "https://localhost:8080/",
          "height": 444
        },
        "id": "S-LuQ2wj5Ncj",
        "outputId": "154f1ca7-c48f-4c67-87d1-fba21aa3357f"
      },
      "execution_count": 103,
      "outputs": [
        {
          "output_type": "execute_result",
          "data": {
            "text/plain": [
              "           cod                   nome  período  homicidios  \\\n",
              "78036  2312502  São João do Jaguaribe     2016      231.24   \n",
              "78035  2312502  São João do Jaguaribe     2016      231.24   \n",
              "95722  2405900              João Dias     2017      225.90   \n",
              "95721  2405900              João Dias     2017      225.90   \n",
              "92074  1400050            Alto Alegre     2017      222.00   \n",
              "\n",
              "       homicidio jovens armas de fogo  suicidio arma de fogo  \\\n",
              "78036                          406.27                    0.0   \n",
              "78035                          406.27                    0.0   \n",
              "95722                          417.83                    0.0   \n",
              "95721                          417.83                    0.0   \n",
              "92074                          285.57                    0.0   \n",
              "\n",
              "       violencia por causa indeterminada  suicidio homens  suicidio mulheres  \\\n",
              "78036                               0.00             0.00               24.9   \n",
              "78035                               0.00             0.00               24.9   \n",
              "95722                               0.00             0.00                0.0   \n",
              "95721                               0.00             0.00                0.0   \n",
              "92074                               6.34            11.94               27.0   \n",
              "\n",
              "       intervencao_legal  homicidio_15a29  clusters     TipoCluster  \n",
              "78036                0.0           464.31         1  Pouco Violento  \n",
              "78035                0.0           464.31         1  Pouco Violento  \n",
              "95722                0.0           417.83         1  Pouco Violento  \n",
              "95721                0.0           417.83         1  Pouco Violento  \n",
              "92074                0.0           389.41         0  Muito Violento  "
            ],
            "text/html": [
              "\n",
              "  <div id=\"df-3902b1fc-a6bb-4ca1-b7e8-2239dc62ae4e\">\n",
              "    <div class=\"colab-df-container\">\n",
              "      <div>\n",
              "<style scoped>\n",
              "    .dataframe tbody tr th:only-of-type {\n",
              "        vertical-align: middle;\n",
              "    }\n",
              "\n",
              "    .dataframe tbody tr th {\n",
              "        vertical-align: top;\n",
              "    }\n",
              "\n",
              "    .dataframe thead th {\n",
              "        text-align: right;\n",
              "    }\n",
              "</style>\n",
              "<table border=\"1\" class=\"dataframe\">\n",
              "  <thead>\n",
              "    <tr style=\"text-align: right;\">\n",
              "      <th></th>\n",
              "      <th>cod</th>\n",
              "      <th>nome</th>\n",
              "      <th>período</th>\n",
              "      <th>homicidios</th>\n",
              "      <th>homicidio jovens armas de fogo</th>\n",
              "      <th>suicidio arma de fogo</th>\n",
              "      <th>violencia por causa indeterminada</th>\n",
              "      <th>suicidio homens</th>\n",
              "      <th>suicidio mulheres</th>\n",
              "      <th>intervencao_legal</th>\n",
              "      <th>homicidio_15a29</th>\n",
              "      <th>clusters</th>\n",
              "      <th>TipoCluster</th>\n",
              "    </tr>\n",
              "  </thead>\n",
              "  <tbody>\n",
              "    <tr>\n",
              "      <th>78036</th>\n",
              "      <td>2312502</td>\n",
              "      <td>São João do Jaguaribe</td>\n",
              "      <td>2016</td>\n",
              "      <td>231.24</td>\n",
              "      <td>406.27</td>\n",
              "      <td>0.0</td>\n",
              "      <td>0.00</td>\n",
              "      <td>0.00</td>\n",
              "      <td>24.9</td>\n",
              "      <td>0.0</td>\n",
              "      <td>464.31</td>\n",
              "      <td>1</td>\n",
              "      <td>Pouco Violento</td>\n",
              "    </tr>\n",
              "    <tr>\n",
              "      <th>78035</th>\n",
              "      <td>2312502</td>\n",
              "      <td>São João do Jaguaribe</td>\n",
              "      <td>2016</td>\n",
              "      <td>231.24</td>\n",
              "      <td>406.27</td>\n",
              "      <td>0.0</td>\n",
              "      <td>0.00</td>\n",
              "      <td>0.00</td>\n",
              "      <td>24.9</td>\n",
              "      <td>0.0</td>\n",
              "      <td>464.31</td>\n",
              "      <td>1</td>\n",
              "      <td>Pouco Violento</td>\n",
              "    </tr>\n",
              "    <tr>\n",
              "      <th>95722</th>\n",
              "      <td>2405900</td>\n",
              "      <td>João Dias</td>\n",
              "      <td>2017</td>\n",
              "      <td>225.90</td>\n",
              "      <td>417.83</td>\n",
              "      <td>0.0</td>\n",
              "      <td>0.00</td>\n",
              "      <td>0.00</td>\n",
              "      <td>0.0</td>\n",
              "      <td>0.0</td>\n",
              "      <td>417.83</td>\n",
              "      <td>1</td>\n",
              "      <td>Pouco Violento</td>\n",
              "    </tr>\n",
              "    <tr>\n",
              "      <th>95721</th>\n",
              "      <td>2405900</td>\n",
              "      <td>João Dias</td>\n",
              "      <td>2017</td>\n",
              "      <td>225.90</td>\n",
              "      <td>417.83</td>\n",
              "      <td>0.0</td>\n",
              "      <td>0.00</td>\n",
              "      <td>0.00</td>\n",
              "      <td>0.0</td>\n",
              "      <td>0.0</td>\n",
              "      <td>417.83</td>\n",
              "      <td>1</td>\n",
              "      <td>Pouco Violento</td>\n",
              "    </tr>\n",
              "    <tr>\n",
              "      <th>92074</th>\n",
              "      <td>1400050</td>\n",
              "      <td>Alto Alegre</td>\n",
              "      <td>2017</td>\n",
              "      <td>222.00</td>\n",
              "      <td>285.57</td>\n",
              "      <td>0.0</td>\n",
              "      <td>6.34</td>\n",
              "      <td>11.94</td>\n",
              "      <td>27.0</td>\n",
              "      <td>0.0</td>\n",
              "      <td>389.41</td>\n",
              "      <td>0</td>\n",
              "      <td>Muito Violento</td>\n",
              "    </tr>\n",
              "  </tbody>\n",
              "</table>\n",
              "</div>\n",
              "      <button class=\"colab-df-convert\" onclick=\"convertToInteractive('df-3902b1fc-a6bb-4ca1-b7e8-2239dc62ae4e')\"\n",
              "              title=\"Convert this dataframe to an interactive table.\"\n",
              "              style=\"display:none;\">\n",
              "        \n",
              "  <svg xmlns=\"http://www.w3.org/2000/svg\" height=\"24px\"viewBox=\"0 0 24 24\"\n",
              "       width=\"24px\">\n",
              "    <path d=\"M0 0h24v24H0V0z\" fill=\"none\"/>\n",
              "    <path d=\"M18.56 5.44l.94 2.06.94-2.06 2.06-.94-2.06-.94-.94-2.06-.94 2.06-2.06.94zm-11 1L8.5 8.5l.94-2.06 2.06-.94-2.06-.94L8.5 2.5l-.94 2.06-2.06.94zm10 10l.94 2.06.94-2.06 2.06-.94-2.06-.94-.94-2.06-.94 2.06-2.06.94z\"/><path d=\"M17.41 7.96l-1.37-1.37c-.4-.4-.92-.59-1.43-.59-.52 0-1.04.2-1.43.59L10.3 9.45l-7.72 7.72c-.78.78-.78 2.05 0 2.83L4 21.41c.39.39.9.59 1.41.59.51 0 1.02-.2 1.41-.59l7.78-7.78 2.81-2.81c.8-.78.8-2.07 0-2.86zM5.41 20L4 18.59l7.72-7.72 1.47 1.35L5.41 20z\"/>\n",
              "  </svg>\n",
              "      </button>\n",
              "      \n",
              "  <style>\n",
              "    .colab-df-container {\n",
              "      display:flex;\n",
              "      flex-wrap:wrap;\n",
              "      gap: 12px;\n",
              "    }\n",
              "\n",
              "    .colab-df-convert {\n",
              "      background-color: #E8F0FE;\n",
              "      border: none;\n",
              "      border-radius: 50%;\n",
              "      cursor: pointer;\n",
              "      display: none;\n",
              "      fill: #1967D2;\n",
              "      height: 32px;\n",
              "      padding: 0 0 0 0;\n",
              "      width: 32px;\n",
              "    }\n",
              "\n",
              "    .colab-df-convert:hover {\n",
              "      background-color: #E2EBFA;\n",
              "      box-shadow: 0px 1px 2px rgba(60, 64, 67, 0.3), 0px 1px 3px 1px rgba(60, 64, 67, 0.15);\n",
              "      fill: #174EA6;\n",
              "    }\n",
              "\n",
              "    [theme=dark] .colab-df-convert {\n",
              "      background-color: #3B4455;\n",
              "      fill: #D2E3FC;\n",
              "    }\n",
              "\n",
              "    [theme=dark] .colab-df-convert:hover {\n",
              "      background-color: #434B5C;\n",
              "      box-shadow: 0px 1px 3px 1px rgba(0, 0, 0, 0.15);\n",
              "      filter: drop-shadow(0px 1px 2px rgba(0, 0, 0, 0.3));\n",
              "      fill: #FFFFFF;\n",
              "    }\n",
              "  </style>\n",
              "\n",
              "      <script>\n",
              "        const buttonEl =\n",
              "          document.querySelector('#df-3902b1fc-a6bb-4ca1-b7e8-2239dc62ae4e button.colab-df-convert');\n",
              "        buttonEl.style.display =\n",
              "          google.colab.kernel.accessAllowed ? 'block' : 'none';\n",
              "\n",
              "        async function convertToInteractive(key) {\n",
              "          const element = document.querySelector('#df-3902b1fc-a6bb-4ca1-b7e8-2239dc62ae4e');\n",
              "          const dataTable =\n",
              "            await google.colab.kernel.invokeFunction('convertToInteractive',\n",
              "                                                     [key], {});\n",
              "          if (!dataTable) return;\n",
              "\n",
              "          const docLinkHtml = 'Like what you see? Visit the ' +\n",
              "            '<a target=\"_blank\" href=https://colab.research.google.com/notebooks/data_table.ipynb>data table notebook</a>'\n",
              "            + ' to learn more about interactive tables.';\n",
              "          element.innerHTML = '';\n",
              "          dataTable['output_type'] = 'display_data';\n",
              "          await google.colab.output.renderOutput(dataTable, element);\n",
              "          const docLink = document.createElement('div');\n",
              "          docLink.innerHTML = docLinkHtml;\n",
              "          element.appendChild(docLink);\n",
              "        }\n",
              "      </script>\n",
              "    </div>\n",
              "  </div>\n",
              "  "
            ]
          },
          "metadata": {},
          "execution_count": 103
        }
      ]
    },
    {
      "cell_type": "code",
      "source": [
        "df_violencia.sort_values('homicidios',ascending=True).head()"
      ],
      "metadata": {
        "colab": {
          "base_uri": "https://localhost:8080/",
          "height": 409
        },
        "id": "xCqGgUCl7bv5",
        "outputId": "7356b868-99bf-4100-fc20-e159d3d9f18b"
      },
      "execution_count": 104,
      "outputs": [
        {
          "output_type": "execute_result",
          "data": {
            "text/plain": [
              "           cod                nome  período  homicidios  \\\n",
              "31989  1701002              Ananás     2011         0.0   \n",
              "77338  2101939  Bernardo do Mearim     2015         0.0   \n",
              "48594  4308433         Forquetinha     2013         0.0   \n",
              "48593  4308433         Forquetinha     2013         0.0   \n",
              "77339  2101806      Benedito Leite     2015         0.0   \n",
              "\n",
              "       homicidio jovens armas de fogo  suicidio arma de fogo  \\\n",
              "31989                             0.0                    0.0   \n",
              "77338                             0.0                    0.0   \n",
              "48594                             0.0                    0.0   \n",
              "48593                             0.0                    0.0   \n",
              "77339                             0.0                    0.0   \n",
              "\n",
              "       violencia por causa indeterminada  suicidio homens  suicidio mulheres  \\\n",
              "31989                                0.0            19.80                0.0   \n",
              "77338                                0.0             0.00                0.0   \n",
              "48594                                0.0             0.00                0.0   \n",
              "48593                                0.0             0.00                0.0   \n",
              "77339                               17.8            34.15                0.0   \n",
              "\n",
              "       intervencao_legal  homicidio_15a29  clusters     TipoCluster  \n",
              "31989                0.0              0.0         0  Muito Violento  \n",
              "77338                0.0              0.0         1  Pouco Violento  \n",
              "48594                0.0              0.0         1  Pouco Violento  \n",
              "48593                0.0              0.0         1  Pouco Violento  \n",
              "77339                0.0              0.0         1  Pouco Violento  "
            ],
            "text/html": [
              "\n",
              "  <div id=\"df-ac131b51-e4f5-4260-9b94-d8ba9c8711a3\">\n",
              "    <div class=\"colab-df-container\">\n",
              "      <div>\n",
              "<style scoped>\n",
              "    .dataframe tbody tr th:only-of-type {\n",
              "        vertical-align: middle;\n",
              "    }\n",
              "\n",
              "    .dataframe tbody tr th {\n",
              "        vertical-align: top;\n",
              "    }\n",
              "\n",
              "    .dataframe thead th {\n",
              "        text-align: right;\n",
              "    }\n",
              "</style>\n",
              "<table border=\"1\" class=\"dataframe\">\n",
              "  <thead>\n",
              "    <tr style=\"text-align: right;\">\n",
              "      <th></th>\n",
              "      <th>cod</th>\n",
              "      <th>nome</th>\n",
              "      <th>período</th>\n",
              "      <th>homicidios</th>\n",
              "      <th>homicidio jovens armas de fogo</th>\n",
              "      <th>suicidio arma de fogo</th>\n",
              "      <th>violencia por causa indeterminada</th>\n",
              "      <th>suicidio homens</th>\n",
              "      <th>suicidio mulheres</th>\n",
              "      <th>intervencao_legal</th>\n",
              "      <th>homicidio_15a29</th>\n",
              "      <th>clusters</th>\n",
              "      <th>TipoCluster</th>\n",
              "    </tr>\n",
              "  </thead>\n",
              "  <tbody>\n",
              "    <tr>\n",
              "      <th>31989</th>\n",
              "      <td>1701002</td>\n",
              "      <td>Ananás</td>\n",
              "      <td>2011</td>\n",
              "      <td>0.0</td>\n",
              "      <td>0.0</td>\n",
              "      <td>0.0</td>\n",
              "      <td>0.0</td>\n",
              "      <td>19.80</td>\n",
              "      <td>0.0</td>\n",
              "      <td>0.0</td>\n",
              "      <td>0.0</td>\n",
              "      <td>0</td>\n",
              "      <td>Muito Violento</td>\n",
              "    </tr>\n",
              "    <tr>\n",
              "      <th>77338</th>\n",
              "      <td>2101939</td>\n",
              "      <td>Bernardo do Mearim</td>\n",
              "      <td>2015</td>\n",
              "      <td>0.0</td>\n",
              "      <td>0.0</td>\n",
              "      <td>0.0</td>\n",
              "      <td>0.0</td>\n",
              "      <td>0.00</td>\n",
              "      <td>0.0</td>\n",
              "      <td>0.0</td>\n",
              "      <td>0.0</td>\n",
              "      <td>1</td>\n",
              "      <td>Pouco Violento</td>\n",
              "    </tr>\n",
              "    <tr>\n",
              "      <th>48594</th>\n",
              "      <td>4308433</td>\n",
              "      <td>Forquetinha</td>\n",
              "      <td>2013</td>\n",
              "      <td>0.0</td>\n",
              "      <td>0.0</td>\n",
              "      <td>0.0</td>\n",
              "      <td>0.0</td>\n",
              "      <td>0.00</td>\n",
              "      <td>0.0</td>\n",
              "      <td>0.0</td>\n",
              "      <td>0.0</td>\n",
              "      <td>1</td>\n",
              "      <td>Pouco Violento</td>\n",
              "    </tr>\n",
              "    <tr>\n",
              "      <th>48593</th>\n",
              "      <td>4308433</td>\n",
              "      <td>Forquetinha</td>\n",
              "      <td>2013</td>\n",
              "      <td>0.0</td>\n",
              "      <td>0.0</td>\n",
              "      <td>0.0</td>\n",
              "      <td>0.0</td>\n",
              "      <td>0.00</td>\n",
              "      <td>0.0</td>\n",
              "      <td>0.0</td>\n",
              "      <td>0.0</td>\n",
              "      <td>1</td>\n",
              "      <td>Pouco Violento</td>\n",
              "    </tr>\n",
              "    <tr>\n",
              "      <th>77339</th>\n",
              "      <td>2101806</td>\n",
              "      <td>Benedito Leite</td>\n",
              "      <td>2015</td>\n",
              "      <td>0.0</td>\n",
              "      <td>0.0</td>\n",
              "      <td>0.0</td>\n",
              "      <td>17.8</td>\n",
              "      <td>34.15</td>\n",
              "      <td>0.0</td>\n",
              "      <td>0.0</td>\n",
              "      <td>0.0</td>\n",
              "      <td>1</td>\n",
              "      <td>Pouco Violento</td>\n",
              "    </tr>\n",
              "  </tbody>\n",
              "</table>\n",
              "</div>\n",
              "      <button class=\"colab-df-convert\" onclick=\"convertToInteractive('df-ac131b51-e4f5-4260-9b94-d8ba9c8711a3')\"\n",
              "              title=\"Convert this dataframe to an interactive table.\"\n",
              "              style=\"display:none;\">\n",
              "        \n",
              "  <svg xmlns=\"http://www.w3.org/2000/svg\" height=\"24px\"viewBox=\"0 0 24 24\"\n",
              "       width=\"24px\">\n",
              "    <path d=\"M0 0h24v24H0V0z\" fill=\"none\"/>\n",
              "    <path d=\"M18.56 5.44l.94 2.06.94-2.06 2.06-.94-2.06-.94-.94-2.06-.94 2.06-2.06.94zm-11 1L8.5 8.5l.94-2.06 2.06-.94-2.06-.94L8.5 2.5l-.94 2.06-2.06.94zm10 10l.94 2.06.94-2.06 2.06-.94-2.06-.94-.94-2.06-.94 2.06-2.06.94z\"/><path d=\"M17.41 7.96l-1.37-1.37c-.4-.4-.92-.59-1.43-.59-.52 0-1.04.2-1.43.59L10.3 9.45l-7.72 7.72c-.78.78-.78 2.05 0 2.83L4 21.41c.39.39.9.59 1.41.59.51 0 1.02-.2 1.41-.59l7.78-7.78 2.81-2.81c.8-.78.8-2.07 0-2.86zM5.41 20L4 18.59l7.72-7.72 1.47 1.35L5.41 20z\"/>\n",
              "  </svg>\n",
              "      </button>\n",
              "      \n",
              "  <style>\n",
              "    .colab-df-container {\n",
              "      display:flex;\n",
              "      flex-wrap:wrap;\n",
              "      gap: 12px;\n",
              "    }\n",
              "\n",
              "    .colab-df-convert {\n",
              "      background-color: #E8F0FE;\n",
              "      border: none;\n",
              "      border-radius: 50%;\n",
              "      cursor: pointer;\n",
              "      display: none;\n",
              "      fill: #1967D2;\n",
              "      height: 32px;\n",
              "      padding: 0 0 0 0;\n",
              "      width: 32px;\n",
              "    }\n",
              "\n",
              "    .colab-df-convert:hover {\n",
              "      background-color: #E2EBFA;\n",
              "      box-shadow: 0px 1px 2px rgba(60, 64, 67, 0.3), 0px 1px 3px 1px rgba(60, 64, 67, 0.15);\n",
              "      fill: #174EA6;\n",
              "    }\n",
              "\n",
              "    [theme=dark] .colab-df-convert {\n",
              "      background-color: #3B4455;\n",
              "      fill: #D2E3FC;\n",
              "    }\n",
              "\n",
              "    [theme=dark] .colab-df-convert:hover {\n",
              "      background-color: #434B5C;\n",
              "      box-shadow: 0px 1px 3px 1px rgba(0, 0, 0, 0.15);\n",
              "      filter: drop-shadow(0px 1px 2px rgba(0, 0, 0, 0.3));\n",
              "      fill: #FFFFFF;\n",
              "    }\n",
              "  </style>\n",
              "\n",
              "      <script>\n",
              "        const buttonEl =\n",
              "          document.querySelector('#df-ac131b51-e4f5-4260-9b94-d8ba9c8711a3 button.colab-df-convert');\n",
              "        buttonEl.style.display =\n",
              "          google.colab.kernel.accessAllowed ? 'block' : 'none';\n",
              "\n",
              "        async function convertToInteractive(key) {\n",
              "          const element = document.querySelector('#df-ac131b51-e4f5-4260-9b94-d8ba9c8711a3');\n",
              "          const dataTable =\n",
              "            await google.colab.kernel.invokeFunction('convertToInteractive',\n",
              "                                                     [key], {});\n",
              "          if (!dataTable) return;\n",
              "\n",
              "          const docLinkHtml = 'Like what you see? Visit the ' +\n",
              "            '<a target=\"_blank\" href=https://colab.research.google.com/notebooks/data_table.ipynb>data table notebook</a>'\n",
              "            + ' to learn more about interactive tables.';\n",
              "          element.innerHTML = '';\n",
              "          dataTable['output_type'] = 'display_data';\n",
              "          await google.colab.output.renderOutput(dataTable, element);\n",
              "          const docLink = document.createElement('div');\n",
              "          docLink.innerHTML = docLinkHtml;\n",
              "          element.appendChild(docLink);\n",
              "        }\n",
              "      </script>\n",
              "    </div>\n",
              "  </div>\n",
              "  "
            ]
          },
          "metadata": {},
          "execution_count": 104
        }
      ]
    },
    {
      "cell_type": "code",
      "source": [
        "df_violencia['TipoCluster'].value_counts()"
      ],
      "metadata": {
        "colab": {
          "base_uri": "https://localhost:8080/"
        },
        "id": "B0CsDtzl7qeZ",
        "outputId": "4c5cea04-d5ed-4052-8926-f9db0c80752a"
      },
      "execution_count": 107,
      "outputs": [
        {
          "output_type": "execute_result",
          "data": {
            "text/plain": [
              "Pouco Violento    99991\n",
              "Muito Violento    20060\n",
              "Name: TipoCluster, dtype: int64"
            ]
          },
          "metadata": {},
          "execution_count": 107
        }
      ]
    },
    {
      "cell_type": "markdown",
      "source": [
        "#LEITURA DE ARQUIVO"
      ],
      "metadata": {
        "id": "Io_GpRYySAh3"
      }
    },
    {
      "cell_type": "code",
      "source": [
        "df_violencia = pd.read_csv('/content/drive/MyDrive/Pós-Graduação/Aprendizados de Dados em Tempo Real/Projetos/Violencia_Clusters.csv', sep=\";\")"
      ],
      "metadata": {
        "id": "DsWCOwXtR_DN"
      },
      "execution_count": 11,
      "outputs": []
    },
    {
      "cell_type": "code",
      "source": [
        "label_map = df_violencia[['clusters', 'TipoCluster']].drop_duplicates()\n",
        "label_map"
      ],
      "metadata": {
        "id": "o2S4QOHbIZ6m",
        "colab": {
          "base_uri": "https://localhost:8080/",
          "height": 112
        },
        "outputId": "924c404c-dd78-4514-e0d3-6f727379276c"
      },
      "execution_count": 12,
      "outputs": [
        {
          "output_type": "execute_result",
          "data": {
            "text/plain": [
              "    clusters     TipoCluster\n",
              "0          1  Pouco Violento\n",
              "21         0  Muito Violento"
            ],
            "text/html": [
              "\n",
              "  <div id=\"df-6420fdfb-6071-4f0e-a2e3-9319f86053ea\">\n",
              "    <div class=\"colab-df-container\">\n",
              "      <div>\n",
              "<style scoped>\n",
              "    .dataframe tbody tr th:only-of-type {\n",
              "        vertical-align: middle;\n",
              "    }\n",
              "\n",
              "    .dataframe tbody tr th {\n",
              "        vertical-align: top;\n",
              "    }\n",
              "\n",
              "    .dataframe thead th {\n",
              "        text-align: right;\n",
              "    }\n",
              "</style>\n",
              "<table border=\"1\" class=\"dataframe\">\n",
              "  <thead>\n",
              "    <tr style=\"text-align: right;\">\n",
              "      <th></th>\n",
              "      <th>clusters</th>\n",
              "      <th>TipoCluster</th>\n",
              "    </tr>\n",
              "  </thead>\n",
              "  <tbody>\n",
              "    <tr>\n",
              "      <th>0</th>\n",
              "      <td>1</td>\n",
              "      <td>Pouco Violento</td>\n",
              "    </tr>\n",
              "    <tr>\n",
              "      <th>21</th>\n",
              "      <td>0</td>\n",
              "      <td>Muito Violento</td>\n",
              "    </tr>\n",
              "  </tbody>\n",
              "</table>\n",
              "</div>\n",
              "      <button class=\"colab-df-convert\" onclick=\"convertToInteractive('df-6420fdfb-6071-4f0e-a2e3-9319f86053ea')\"\n",
              "              title=\"Convert this dataframe to an interactive table.\"\n",
              "              style=\"display:none;\">\n",
              "        \n",
              "  <svg xmlns=\"http://www.w3.org/2000/svg\" height=\"24px\"viewBox=\"0 0 24 24\"\n",
              "       width=\"24px\">\n",
              "    <path d=\"M0 0h24v24H0V0z\" fill=\"none\"/>\n",
              "    <path d=\"M18.56 5.44l.94 2.06.94-2.06 2.06-.94-2.06-.94-.94-2.06-.94 2.06-2.06.94zm-11 1L8.5 8.5l.94-2.06 2.06-.94-2.06-.94L8.5 2.5l-.94 2.06-2.06.94zm10 10l.94 2.06.94-2.06 2.06-.94-2.06-.94-.94-2.06-.94 2.06-2.06.94z\"/><path d=\"M17.41 7.96l-1.37-1.37c-.4-.4-.92-.59-1.43-.59-.52 0-1.04.2-1.43.59L10.3 9.45l-7.72 7.72c-.78.78-.78 2.05 0 2.83L4 21.41c.39.39.9.59 1.41.59.51 0 1.02-.2 1.41-.59l7.78-7.78 2.81-2.81c.8-.78.8-2.07 0-2.86zM5.41 20L4 18.59l7.72-7.72 1.47 1.35L5.41 20z\"/>\n",
              "  </svg>\n",
              "      </button>\n",
              "      \n",
              "  <style>\n",
              "    .colab-df-container {\n",
              "      display:flex;\n",
              "      flex-wrap:wrap;\n",
              "      gap: 12px;\n",
              "    }\n",
              "\n",
              "    .colab-df-convert {\n",
              "      background-color: #E8F0FE;\n",
              "      border: none;\n",
              "      border-radius: 50%;\n",
              "      cursor: pointer;\n",
              "      display: none;\n",
              "      fill: #1967D2;\n",
              "      height: 32px;\n",
              "      padding: 0 0 0 0;\n",
              "      width: 32px;\n",
              "    }\n",
              "\n",
              "    .colab-df-convert:hover {\n",
              "      background-color: #E2EBFA;\n",
              "      box-shadow: 0px 1px 2px rgba(60, 64, 67, 0.3), 0px 1px 3px 1px rgba(60, 64, 67, 0.15);\n",
              "      fill: #174EA6;\n",
              "    }\n",
              "\n",
              "    [theme=dark] .colab-df-convert {\n",
              "      background-color: #3B4455;\n",
              "      fill: #D2E3FC;\n",
              "    }\n",
              "\n",
              "    [theme=dark] .colab-df-convert:hover {\n",
              "      background-color: #434B5C;\n",
              "      box-shadow: 0px 1px 3px 1px rgba(0, 0, 0, 0.15);\n",
              "      filter: drop-shadow(0px 1px 2px rgba(0, 0, 0, 0.3));\n",
              "      fill: #FFFFFF;\n",
              "    }\n",
              "  </style>\n",
              "\n",
              "      <script>\n",
              "        const buttonEl =\n",
              "          document.querySelector('#df-6420fdfb-6071-4f0e-a2e3-9319f86053ea button.colab-df-convert');\n",
              "        buttonEl.style.display =\n",
              "          google.colab.kernel.accessAllowed ? 'block' : 'none';\n",
              "\n",
              "        async function convertToInteractive(key) {\n",
              "          const element = document.querySelector('#df-6420fdfb-6071-4f0e-a2e3-9319f86053ea');\n",
              "          const dataTable =\n",
              "            await google.colab.kernel.invokeFunction('convertToInteractive',\n",
              "                                                     [key], {});\n",
              "          if (!dataTable) return;\n",
              "\n",
              "          const docLinkHtml = 'Like what you see? Visit the ' +\n",
              "            '<a target=\"_blank\" href=https://colab.research.google.com/notebooks/data_table.ipynb>data table notebook</a>'\n",
              "            + ' to learn more about interactive tables.';\n",
              "          element.innerHTML = '';\n",
              "          dataTable['output_type'] = 'display_data';\n",
              "          await google.colab.output.renderOutput(dataTable, element);\n",
              "          const docLink = document.createElement('div');\n",
              "          docLink.innerHTML = docLinkHtml;\n",
              "          element.appendChild(docLink);\n",
              "        }\n",
              "      </script>\n",
              "    </div>\n",
              "  </div>\n",
              "  "
            ]
          },
          "metadata": {},
          "execution_count": 12
        }
      ]
    },
    {
      "cell_type": "code",
      "source": [
        "df_violencia.drop(['nome','TipoCluster'], axis=1, inplace=True)"
      ],
      "metadata": {
        "id": "04rw52K1S0gM"
      },
      "execution_count": 13,
      "outputs": []
    },
    {
      "cell_type": "markdown",
      "source": [
        "## Variaveis comuns"
      ],
      "metadata": {
        "id": "yLyejt3lABPy"
      }
    },
    {
      "cell_type": "code",
      "source": [
        "label_periodo = [2007, 2008, 2009, 2010, 2011, 2012, 2013, 2014, 2015, 2016]\n",
        "label_periodo_tst = [2017,2018,2019]"
      ],
      "metadata": {
        "id": "CCurhX3eTHCf"
      },
      "execution_count": 25,
      "outputs": []
    },
    {
      "cell_type": "code",
      "source": [
        "classification_scores = ['accuracy','precision_weighted',\n",
        "                         'recall_weighted', 'roc_auc_ovr_weighted',\n",
        "                         'f1_weighted']"
      ],
      "metadata": {
        "id": "wLoq7OQkARA2"
      },
      "execution_count": 15,
      "outputs": []
    },
    {
      "cell_type": "code",
      "source": [
        "cvfold = model_selection.StratifiedKFold(n_splits = 10, random_state = 0, shuffle=True)"
      ],
      "metadata": {
        "id": "I8TvRwXGAU1R"
      },
      "execution_count": 16,
      "outputs": []
    },
    {
      "cell_type": "code",
      "source": [
        "target_cols = ['cod','período','clusters']"
      ],
      "metadata": {
        "id": "rXwkv4rqRy1v"
      },
      "execution_count": 17,
      "outputs": []
    },
    {
      "cell_type": "code",
      "source": [
        "target_col = 'clusters'"
      ],
      "metadata": {
        "id": "mK_WWUn961ip"
      },
      "execution_count": 18,
      "outputs": []
    },
    {
      "cell_type": "markdown",
      "source": [
        "#ÁRVORE"
      ],
      "metadata": {
        "id": "Yx_HizVdTNIv"
      }
    },
    {
      "cell_type": "markdown",
      "source": [
        "## Verificação dos Parametros"
      ],
      "metadata": {
        "id": "x9AjotDT9Nkj"
      }
    },
    {
      "cell_type": "markdown",
      "source": [
        "Para a classificação dos parametros do modelo dos dados foi utilizado a profundidade 50 pois a partir dela fica estável e de maior número gerando a acurácia de 92%"
      ],
      "metadata": {
        "id": "aoTKhBg2Arm3"
      }
    },
    {
      "cell_type": "code",
      "source": [
        "#Separação dos dataframes\n",
        "xtrain = df_violencia[df_violencia['período'].isin(label_periodo)].drop(target_cols, axis=1)\n",
        "xtest = df_violencia[df_violencia['período'].isin(label_periodo_tst)].drop(target_cols, axis=1)\n",
        "ytrain = df_violencia[df_violencia['período'].isin(label_periodo)]['clusters']\n",
        "ytest = df_violencia[df_violencia['período'].isin(label_periodo_tst)]['clusters']P"
      ],
      "metadata": {
        "id": "vbeQ277N7By-"
      },
      "execution_count": null,
      "outputs": []
    },
    {
      "cell_type": "code",
      "source": [
        "violencia_feature_names = list(xtest.drop([], axis=1).columns)"
      ],
      "metadata": {
        "id": "4fDXTC8jvxPp"
      },
      "execution_count": null,
      "outputs": []
    },
    {
      "cell_type": "code",
      "source": [
        "def plot_parameter_validation_curve(param_name, grid_search,\n",
        "                                    model, model_name, scoring,\n",
        "                                    logx):\n",
        "    print('Parameter:', param_name)\n",
        "    print('GridSearch:', grid_search[param_name])\n",
        "    print('Scoring:', scoring)\n",
        "    plt.figure(figsize=(6,4))\n",
        "    train_scores, test_scores = validation_curve(model,\n",
        "                                                 X = xtrain, \n",
        "                                                 y = ytrain, \n",
        "                                                 param_name=param_name, \n",
        "                                                 param_range= grid_search[param_name],\n",
        "                                                 scoring=scoring,\n",
        "                                                 cv=cvfold,\n",
        "                                                 n_jobs=-1)\n",
        "    train_scores_mean = np.mean(train_scores, axis=1)\n",
        "    train_scores_std = np.std(train_scores, axis=1)\n",
        "    test_scores_mean = np.mean(test_scores, axis=1)\n",
        "    test_scores_std = np.std(test_scores, axis=1)\n",
        "    plt.title(\"Curva Validação Modelo \" + model_name)\n",
        "    plt.xlabel(param_name)\n",
        "    plt.ylabel(\"Score (\"+scoring+\")\")\n",
        "    if logx:\n",
        "        plt.semilogx(grid_search[param_name], train_scores_mean,'-o', label=\"Treino\",\n",
        "                     color=\"darkorange\", lw=2)\n",
        "        plt.semilogx(grid_search[param_name], test_scores_mean,'-o', label=\"Validação-Cruzada\",\n",
        "                     color=\"navy\", lw=2)\n",
        "    else:\n",
        "        plt.plot(grid_search[param_name], train_scores_mean,'-o', label=\"Treino\",\n",
        "                     color=\"darkorange\", lw=2)\n",
        "        plt.plot(grid_search[param_name], test_scores_mean,'-o', label=\"Validação-Cruzada\",\n",
        "                 color=\"navy\", lw=2)\n",
        "    plt.fill_between(grid_search[param_name], train_scores_mean - train_scores_std,\n",
        "                     train_scores_mean + train_scores_std, alpha=0.2,\n",
        "                     color=\"darkorange\", lw=2)\n",
        "    plt.fill_between(grid_search[param_name], test_scores_mean - test_scores_std,\n",
        "                     test_scores_mean + test_scores_std, alpha=0.2,\n",
        "                     color=\"navy\", lw=2)\n",
        "    plt.legend(loc='best')\n",
        "    plt.grid(True)\n",
        "    plt.show()"
      ],
      "metadata": {
        "id": "i9WuL2b95tcE"
      },
      "execution_count": null,
      "outputs": []
    },
    {
      "cell_type": "code",
      "source": [
        "grid_search_arv = {\n",
        "    'max_depth': [2, 3, 4, 5, 6, 7, 8, 9, 10,11,12,13,20,30,40,50,100],\n",
        "    'criterion': ['gini', 'entropy'],\n",
        "    'min_samples_split': [2, 4, 6, 8],\n",
        "    'max_features': [\"auto\", \"sqrt\", \"log2\"],\n",
        "}\n",
        "\n",
        "\n",
        "interact(plot_parameter_validation_curve,\n",
        "         param_name = list(grid_search_arv.keys()), \n",
        "         grid_search = fixed(grid_search_arv),\n",
        "         model = fixed(tree.DecisionTreeClassifier()),\n",
        "         model_name = fixed('Árvore de Decisão'),\n",
        "         scoring = classification_scores,\n",
        "         logx = False\n",
        ")"
      ],
      "metadata": {
        "colab": {
          "base_uri": "https://localhost:8080/",
          "height": 463,
          "referenced_widgets": [
            "9900e6ad8d8a40c1a7a3e7fc01276b10",
            "008cdcccdb0f4029be209878ddcfde42",
            "29186a88427d48bc98c8852313b7e838",
            "5cf0e56ca2354f2790f30e9577690ac2",
            "8cec71c277264849ab2d3107421cce3f",
            "2b62e8761d4942d58a958d356ca4bf58",
            "a71a495b15c14641907285ef24ba325a",
            "afe034b2cd6e426d8224c3df6a3fb04b",
            "9a169112f9bb4d028fe0642b8bb39b59",
            "9f425945b85d422b968222914dffee6e",
            "1a10ade73e7246358f49f3eda6b9dc54",
            "f0f88aa8790744a9ae712fdd73f4ee23",
            "2fe6726b03614087bce666c33aa00cc6"
          ]
        },
        "id": "qsYrBOci3rx-",
        "outputId": "99a5654d-59d0-4bc6-fed6-2d0d565e8fcd"
      },
      "execution_count": null,
      "outputs": [
        {
          "output_type": "display_data",
          "data": {
            "text/plain": [
              "interactive(children=(Dropdown(description='param_name', options=('max_depth', 'criterion', 'min_samples_split…"
            ],
            "application/vnd.jupyter.widget-view+json": {
              "version_major": 2,
              "version_minor": 0,
              "model_id": "9900e6ad8d8a40c1a7a3e7fc01276b10"
            }
          },
          "metadata": {}
        },
        {
          "output_type": "execute_result",
          "data": {
            "text/plain": [
              "<function __main__.plot_parameter_validation_curve>"
            ]
          },
          "metadata": {},
          "execution_count": 80
        }
      ]
    },
    {
      "cell_type": "markdown",
      "source": [
        "## Modelos de Dados"
      ],
      "metadata": {
        "id": "_-qCwqej9UwL"
      }
    },
    {
      "cell_type": "code",
      "source": [
        "df_train = xtrain.copy()\n",
        "df_test = xtest.copy()\n",
        "df_train['train_set'] = 1\n",
        "df_test['train_set'] = 0\n",
        "df_train[target_col] = ytrain\n",
        "df_test[target_col] = ytest\n",
        "\n",
        "\n",
        "model_violencia = tree.DecisionTreeClassifier(criterion='entropy', max_depth = 50)\n",
        "model_violencia.fit(xtrain, ytrain)\n",
        "df_train['decision'] = model_violencia.predict(xtrain)\n",
        "df_test['decision']  = model_violencia.predict(xtest)\n",
        "df_train['probability'] = model_violencia.predict_proba(xtrain)[:,1]\n",
        "df_test['probability']  = model_violencia.predict_proba(xtest)[:,1]\n",
        "\n",
        "df_violencia_arv = pd.concat((df_train, df_test), axis=0)"
      ],
      "metadata": {
        "id": "u8pOsSuCTMhO"
      },
      "execution_count": null,
      "outputs": []
    },
    {
      "cell_type": "code",
      "source": [
        "df_violencia_arv"
      ],
      "metadata": {
        "colab": {
          "base_uri": "https://localhost:8080/",
          "height": 540
        },
        "id": "klZtOrdk7OAN",
        "outputId": "bc3f4780-8036-4bd0-f384-6470ae03c0ef"
      },
      "execution_count": null,
      "outputs": [
        {
          "output_type": "execute_result",
          "data": {
            "text/plain": [
              "        homicidios  homicidio jovens armas de fogo  suicidio arma de fogo  \\\n",
              "0            15.10                           29.56                    0.0   \n",
              "1            14.98                            0.00                   14.9   \n",
              "2            12.53                           49.38                    0.0   \n",
              "3            10.43                            0.00                    0.0   \n",
              "4            44.35                           90.01                    0.0   \n",
              "...            ...                             ...                    ...   \n",
              "120046       44.03                            0.00                    8.8   \n",
              "120047       18.44                            0.00                    0.0   \n",
              "120048       18.44                            0.00                    0.0   \n",
              "120049       19.74                            0.00                    0.0   \n",
              "120050       19.74                            0.00                    0.0   \n",
              "\n",
              "        violencia por causa indeterminada  suicidio homens  suicidio mulheres  \\\n",
              "0                                    7.55             7.70                0.0   \n",
              "1                                    0.00            29.85                0.0   \n",
              "2                                    0.00             0.00                0.0   \n",
              "3                                    0.00             0.00                0.0   \n",
              "4                                    0.00             0.00                0.0   \n",
              "...                                   ...              ...                ...   \n",
              "120046                               0.00             2.00               19.6   \n",
              "120047                               9.21             0.00                0.0   \n",
              "120048                               9.21             0.00                0.0   \n",
              "120049                               0.00             1.00                0.0   \n",
              "120050                               0.00             1.00                0.0   \n",
              "\n",
              "        intervencao_legal  homicidio_15a29  train_set  clusters  decision  \\\n",
              "0                     0.0            29.56          1         1         1   \n",
              "1                     0.0             0.00          1         1         1   \n",
              "2                     0.0            49.38          1         1         1   \n",
              "3                     0.0             0.00          1         1         1   \n",
              "4                     0.0            90.01          1         1         1   \n",
              "...                   ...              ...        ...       ...       ...   \n",
              "120046                0.0            41.89          0         1         1   \n",
              "120047                0.0             0.00          0         1         1   \n",
              "120048                0.0             0.00          0         1         1   \n",
              "120049                0.0            37.66          0         1         0   \n",
              "120050                0.0            37.66          0         1         0   \n",
              "\n",
              "        probability  \n",
              "0          1.000000  \n",
              "1          1.000000  \n",
              "2          1.000000  \n",
              "3          1.000000  \n",
              "4          0.951807  \n",
              "...             ...  \n",
              "120046     1.000000  \n",
              "120047     0.933333  \n",
              "120048     0.933333  \n",
              "120049     0.000000  \n",
              "120050     0.000000  \n",
              "\n",
              "[120051 rows x 12 columns]"
            ],
            "text/html": [
              "\n",
              "  <div id=\"df-553a6c2c-fede-44fb-b3c2-a878f9fb7420\">\n",
              "    <div class=\"colab-df-container\">\n",
              "      <div>\n",
              "<style scoped>\n",
              "    .dataframe tbody tr th:only-of-type {\n",
              "        vertical-align: middle;\n",
              "    }\n",
              "\n",
              "    .dataframe tbody tr th {\n",
              "        vertical-align: top;\n",
              "    }\n",
              "\n",
              "    .dataframe thead th {\n",
              "        text-align: right;\n",
              "    }\n",
              "</style>\n",
              "<table border=\"1\" class=\"dataframe\">\n",
              "  <thead>\n",
              "    <tr style=\"text-align: right;\">\n",
              "      <th></th>\n",
              "      <th>homicidios</th>\n",
              "      <th>homicidio jovens armas de fogo</th>\n",
              "      <th>suicidio arma de fogo</th>\n",
              "      <th>violencia por causa indeterminada</th>\n",
              "      <th>suicidio homens</th>\n",
              "      <th>suicidio mulheres</th>\n",
              "      <th>intervencao_legal</th>\n",
              "      <th>homicidio_15a29</th>\n",
              "      <th>train_set</th>\n",
              "      <th>clusters</th>\n",
              "      <th>decision</th>\n",
              "      <th>probability</th>\n",
              "    </tr>\n",
              "  </thead>\n",
              "  <tbody>\n",
              "    <tr>\n",
              "      <th>0</th>\n",
              "      <td>15.10</td>\n",
              "      <td>29.56</td>\n",
              "      <td>0.0</td>\n",
              "      <td>7.55</td>\n",
              "      <td>7.70</td>\n",
              "      <td>0.0</td>\n",
              "      <td>0.0</td>\n",
              "      <td>29.56</td>\n",
              "      <td>1</td>\n",
              "      <td>1</td>\n",
              "      <td>1</td>\n",
              "      <td>1.000000</td>\n",
              "    </tr>\n",
              "    <tr>\n",
              "      <th>1</th>\n",
              "      <td>14.98</td>\n",
              "      <td>0.00</td>\n",
              "      <td>14.9</td>\n",
              "      <td>0.00</td>\n",
              "      <td>29.85</td>\n",
              "      <td>0.0</td>\n",
              "      <td>0.0</td>\n",
              "      <td>0.00</td>\n",
              "      <td>1</td>\n",
              "      <td>1</td>\n",
              "      <td>1</td>\n",
              "      <td>1.000000</td>\n",
              "    </tr>\n",
              "    <tr>\n",
              "      <th>2</th>\n",
              "      <td>12.53</td>\n",
              "      <td>49.38</td>\n",
              "      <td>0.0</td>\n",
              "      <td>0.00</td>\n",
              "      <td>0.00</td>\n",
              "      <td>0.0</td>\n",
              "      <td>0.0</td>\n",
              "      <td>49.38</td>\n",
              "      <td>1</td>\n",
              "      <td>1</td>\n",
              "      <td>1</td>\n",
              "      <td>1.000000</td>\n",
              "    </tr>\n",
              "    <tr>\n",
              "      <th>3</th>\n",
              "      <td>10.43</td>\n",
              "      <td>0.00</td>\n",
              "      <td>0.0</td>\n",
              "      <td>0.00</td>\n",
              "      <td>0.00</td>\n",
              "      <td>0.0</td>\n",
              "      <td>0.0</td>\n",
              "      <td>0.00</td>\n",
              "      <td>1</td>\n",
              "      <td>1</td>\n",
              "      <td>1</td>\n",
              "      <td>1.000000</td>\n",
              "    </tr>\n",
              "    <tr>\n",
              "      <th>4</th>\n",
              "      <td>44.35</td>\n",
              "      <td>90.01</td>\n",
              "      <td>0.0</td>\n",
              "      <td>0.00</td>\n",
              "      <td>0.00</td>\n",
              "      <td>0.0</td>\n",
              "      <td>0.0</td>\n",
              "      <td>90.01</td>\n",
              "      <td>1</td>\n",
              "      <td>1</td>\n",
              "      <td>1</td>\n",
              "      <td>0.951807</td>\n",
              "    </tr>\n",
              "    <tr>\n",
              "      <th>...</th>\n",
              "      <td>...</td>\n",
              "      <td>...</td>\n",
              "      <td>...</td>\n",
              "      <td>...</td>\n",
              "      <td>...</td>\n",
              "      <td>...</td>\n",
              "      <td>...</td>\n",
              "      <td>...</td>\n",
              "      <td>...</td>\n",
              "      <td>...</td>\n",
              "      <td>...</td>\n",
              "      <td>...</td>\n",
              "    </tr>\n",
              "    <tr>\n",
              "      <th>120046</th>\n",
              "      <td>44.03</td>\n",
              "      <td>0.00</td>\n",
              "      <td>8.8</td>\n",
              "      <td>0.00</td>\n",
              "      <td>2.00</td>\n",
              "      <td>19.6</td>\n",
              "      <td>0.0</td>\n",
              "      <td>41.89</td>\n",
              "      <td>0</td>\n",
              "      <td>1</td>\n",
              "      <td>1</td>\n",
              "      <td>1.000000</td>\n",
              "    </tr>\n",
              "    <tr>\n",
              "      <th>120047</th>\n",
              "      <td>18.44</td>\n",
              "      <td>0.00</td>\n",
              "      <td>0.0</td>\n",
              "      <td>9.21</td>\n",
              "      <td>0.00</td>\n",
              "      <td>0.0</td>\n",
              "      <td>0.0</td>\n",
              "      <td>0.00</td>\n",
              "      <td>0</td>\n",
              "      <td>1</td>\n",
              "      <td>1</td>\n",
              "      <td>0.933333</td>\n",
              "    </tr>\n",
              "    <tr>\n",
              "      <th>120048</th>\n",
              "      <td>18.44</td>\n",
              "      <td>0.00</td>\n",
              "      <td>0.0</td>\n",
              "      <td>9.21</td>\n",
              "      <td>0.00</td>\n",
              "      <td>0.0</td>\n",
              "      <td>0.0</td>\n",
              "      <td>0.00</td>\n",
              "      <td>0</td>\n",
              "      <td>1</td>\n",
              "      <td>1</td>\n",
              "      <td>0.933333</td>\n",
              "    </tr>\n",
              "    <tr>\n",
              "      <th>120049</th>\n",
              "      <td>19.74</td>\n",
              "      <td>0.00</td>\n",
              "      <td>0.0</td>\n",
              "      <td>0.00</td>\n",
              "      <td>1.00</td>\n",
              "      <td>0.0</td>\n",
              "      <td>0.0</td>\n",
              "      <td>37.66</td>\n",
              "      <td>0</td>\n",
              "      <td>1</td>\n",
              "      <td>0</td>\n",
              "      <td>0.000000</td>\n",
              "    </tr>\n",
              "    <tr>\n",
              "      <th>120050</th>\n",
              "      <td>19.74</td>\n",
              "      <td>0.00</td>\n",
              "      <td>0.0</td>\n",
              "      <td>0.00</td>\n",
              "      <td>1.00</td>\n",
              "      <td>0.0</td>\n",
              "      <td>0.0</td>\n",
              "      <td>37.66</td>\n",
              "      <td>0</td>\n",
              "      <td>1</td>\n",
              "      <td>0</td>\n",
              "      <td>0.000000</td>\n",
              "    </tr>\n",
              "  </tbody>\n",
              "</table>\n",
              "<p>120051 rows × 12 columns</p>\n",
              "</div>\n",
              "      <button class=\"colab-df-convert\" onclick=\"convertToInteractive('df-553a6c2c-fede-44fb-b3c2-a878f9fb7420')\"\n",
              "              title=\"Convert this dataframe to an interactive table.\"\n",
              "              style=\"display:none;\">\n",
              "        \n",
              "  <svg xmlns=\"http://www.w3.org/2000/svg\" height=\"24px\"viewBox=\"0 0 24 24\"\n",
              "       width=\"24px\">\n",
              "    <path d=\"M0 0h24v24H0V0z\" fill=\"none\"/>\n",
              "    <path d=\"M18.56 5.44l.94 2.06.94-2.06 2.06-.94-2.06-.94-.94-2.06-.94 2.06-2.06.94zm-11 1L8.5 8.5l.94-2.06 2.06-.94-2.06-.94L8.5 2.5l-.94 2.06-2.06.94zm10 10l.94 2.06.94-2.06 2.06-.94-2.06-.94-.94-2.06-.94 2.06-2.06.94z\"/><path d=\"M17.41 7.96l-1.37-1.37c-.4-.4-.92-.59-1.43-.59-.52 0-1.04.2-1.43.59L10.3 9.45l-7.72 7.72c-.78.78-.78 2.05 0 2.83L4 21.41c.39.39.9.59 1.41.59.51 0 1.02-.2 1.41-.59l7.78-7.78 2.81-2.81c.8-.78.8-2.07 0-2.86zM5.41 20L4 18.59l7.72-7.72 1.47 1.35L5.41 20z\"/>\n",
              "  </svg>\n",
              "      </button>\n",
              "      \n",
              "  <style>\n",
              "    .colab-df-container {\n",
              "      display:flex;\n",
              "      flex-wrap:wrap;\n",
              "      gap: 12px;\n",
              "    }\n",
              "\n",
              "    .colab-df-convert {\n",
              "      background-color: #E8F0FE;\n",
              "      border: none;\n",
              "      border-radius: 50%;\n",
              "      cursor: pointer;\n",
              "      display: none;\n",
              "      fill: #1967D2;\n",
              "      height: 32px;\n",
              "      padding: 0 0 0 0;\n",
              "      width: 32px;\n",
              "    }\n",
              "\n",
              "    .colab-df-convert:hover {\n",
              "      background-color: #E2EBFA;\n",
              "      box-shadow: 0px 1px 2px rgba(60, 64, 67, 0.3), 0px 1px 3px 1px rgba(60, 64, 67, 0.15);\n",
              "      fill: #174EA6;\n",
              "    }\n",
              "\n",
              "    [theme=dark] .colab-df-convert {\n",
              "      background-color: #3B4455;\n",
              "      fill: #D2E3FC;\n",
              "    }\n",
              "\n",
              "    [theme=dark] .colab-df-convert:hover {\n",
              "      background-color: #434B5C;\n",
              "      box-shadow: 0px 1px 3px 1px rgba(0, 0, 0, 0.15);\n",
              "      filter: drop-shadow(0px 1px 2px rgba(0, 0, 0, 0.3));\n",
              "      fill: #FFFFFF;\n",
              "    }\n",
              "  </style>\n",
              "\n",
              "      <script>\n",
              "        const buttonEl =\n",
              "          document.querySelector('#df-553a6c2c-fede-44fb-b3c2-a878f9fb7420 button.colab-df-convert');\n",
              "        buttonEl.style.display =\n",
              "          google.colab.kernel.accessAllowed ? 'block' : 'none';\n",
              "\n",
              "        async function convertToInteractive(key) {\n",
              "          const element = document.querySelector('#df-553a6c2c-fede-44fb-b3c2-a878f9fb7420');\n",
              "          const dataTable =\n",
              "            await google.colab.kernel.invokeFunction('convertToInteractive',\n",
              "                                                     [key], {});\n",
              "          if (!dataTable) return;\n",
              "\n",
              "          const docLinkHtml = 'Like what you see? Visit the ' +\n",
              "            '<a target=\"_blank\" href=https://colab.research.google.com/notebooks/data_table.ipynb>data table notebook</a>'\n",
              "            + ' to learn more about interactive tables.';\n",
              "          element.innerHTML = '';\n",
              "          dataTable['output_type'] = 'display_data';\n",
              "          await google.colab.output.renderOutput(dataTable, element);\n",
              "          const docLink = document.createElement('div');\n",
              "          docLink.innerHTML = docLinkHtml;\n",
              "          element.appendChild(docLink);\n",
              "        }\n",
              "      </script>\n",
              "    </div>\n",
              "  </div>\n",
              "  "
            ]
          },
          "metadata": {},
          "execution_count": 82
        }
      ]
    },
    {
      "cell_type": "code",
      "source": [
        "df_violencia_arv[df_violencia_arv['train_set'] == 0]['clusters'].value_counts()"
      ],
      "metadata": {
        "colab": {
          "base_uri": "https://localhost:8080/"
        },
        "id": "-l2ytDXBTgFQ",
        "outputId": "2fa8b130-1b62-4513-d004-fcb113bff092"
      },
      "execution_count": null,
      "outputs": [
        {
          "output_type": "execute_result",
          "data": {
            "text/plain": [
              "1    27775\n",
              "0     4073\n",
              "Name: clusters, dtype: int64"
            ]
          },
          "metadata": {},
          "execution_count": 83
        }
      ]
    },
    {
      "cell_type": "code",
      "source": [
        "df_violencia_arv[df_violencia_arv['train_set'] == 0]['decision'].value_counts()"
      ],
      "metadata": {
        "colab": {
          "base_uri": "https://localhost:8080/"
        },
        "id": "tNPmS1CsTfcW",
        "outputId": "584cf72f-f4e2-44f7-ab39-3789fb42ebd2"
      },
      "execution_count": null,
      "outputs": [
        {
          "output_type": "execute_result",
          "data": {
            "text/plain": [
              "1    27368\n",
              "0     4480\n",
              "Name: decision, dtype: int64"
            ]
          },
          "metadata": {},
          "execution_count": 84
        }
      ]
    },
    {
      "cell_type": "markdown",
      "source": [
        "## Métricas de Avaliação"
      ],
      "metadata": {
        "id": "hLpPmd-WtTYJ"
      }
    },
    {
      "cell_type": "markdown",
      "source": [
        "### Matriz de Confusão"
      ],
      "metadata": {
        "id": "EGf9TV-gkLLC"
      }
    },
    {
      "cell_type": "markdown",
      "source": [
        "Nessa Matriz de confusão é possivel verificar que mesmo com maior assertividade há um grande número de classificação erronea de Municipios poucos violentos"
      ],
      "metadata": {
        "id": "_Kv48gSoBLjT"
      }
    },
    {
      "cell_type": "code",
      "source": [
        "cm = metrics.confusion_matrix(df_violencia_arv[df_violencia_arv['train_set'] == 0][target_col],\n",
        "                              df_violencia_arv[df_violencia_arv['train_set'] == 0]['decision'])\n",
        "\n",
        "sns.heatmap(cm, annot=True, fmt = '.0f')\n",
        "\n",
        "plt.xlabel('Classificação')\n",
        "plt.ylabel('Verdade')\n",
        "plt.gca().set_xticklabels(label_map.TipoCluster.values)\n",
        "plt.gca().set_yticklabels(label_map.TipoCluster.values)"
      ],
      "metadata": {
        "id": "X-iZ4LGntgJh",
        "colab": {
          "base_uri": "https://localhost:8080/",
          "height": 296
        },
        "outputId": "c95d5f3f-4d2e-4cf1-d41c-28ce2d245bf9"
      },
      "execution_count": null,
      "outputs": [
        {
          "output_type": "execute_result",
          "data": {
            "text/plain": [
              "[Text(0, 0.5, 'Pouco Violento'), Text(0, 1.5, 'Muito Violento')]"
            ]
          },
          "metadata": {},
          "execution_count": 85
        },
        {
          "output_type": "display_data",
          "data": {
            "text/plain": [
              "<Figure size 432x288 with 2 Axes>"
            ],
            "image/png": "[encoded data removed]"
          },
          "metadata": {
            "needs_background": "light"
          }
        }
      ]
    },
    {
      "cell_type": "markdown",
      "source": [
        "### Métricas de Avaliação"
      ],
      "metadata": {
        "id": "kSpRmX2TcruY"
      }
    },
    {
      "cell_type": "markdown",
      "source": [
        "A partir da avaliação da Matriz de Confusão foi preciso avaliar que o baixo número da precisão e do f1-score, portanto a assertividade da Árvore é questionada"
      ],
      "metadata": {
        "id": "plbopygsBaSD"
      }
    },
    {
      "cell_type": "code",
      "source": [
        "print(metrics.classification_report(df_violencia_arv[target_col],\n",
        "                              df_violencia_arv['decision'],\n",
        "                              target_names = label_map.TipoCluster.values))"
      ],
      "metadata": {
        "colab": {
          "base_uri": "https://localhost:8080/"
        },
        "id": "0SB76iKGcvjA",
        "outputId": "4ab1743d-e0db-43a2-b241-6b771230f5e1"
      },
      "execution_count": null,
      "outputs": [
        {
          "output_type": "stream",
          "name": "stdout",
          "text": [
            "                precision    recall  f1-score   support\n",
            "\n",
            "Pouco Violento       0.62      0.49      0.55     20102\n",
            "Muito Violento       0.90      0.94      0.92     99949\n",
            "\n",
            "      accuracy                           0.87    120051\n",
            "     macro avg       0.76      0.72      0.73    120051\n",
            "  weighted avg       0.86      0.87      0.86    120051\n",
            "\n"
          ]
        }
      ]
    },
    {
      "cell_type": "markdown",
      "source": [
        "### Distribuição de Probabilidade "
      ],
      "metadata": {
        "id": "v_56h2LsdiMZ"
      }
    },
    {
      "cell_type": "code",
      "source": [
        "label_map[label_map.clusters == 1].TipoCluster"
      ],
      "metadata": {
        "colab": {
          "base_uri": "https://localhost:8080/"
        },
        "id": "lEHc11Ymdt38",
        "outputId": "25020146-3e14-4796-881a-c12ec30bdaee"
      },
      "execution_count": null,
      "outputs": [
        {
          "output_type": "execute_result",
          "data": {
            "text/plain": [
              "0    Pouco Violento\n",
              "Name: TipoCluster, dtype: object"
            ]
          },
          "metadata": {},
          "execution_count": 87
        }
      ]
    },
    {
      "cell_type": "code",
      "source": [
        "label_map"
      ],
      "metadata": {
        "colab": {
          "base_uri": "https://localhost:8080/",
          "height": 112
        },
        "id": "tSZBtYtJeBUY",
        "outputId": "73845d7e-63b9-4d57-aa4d-97fe48a60353"
      },
      "execution_count": null,
      "outputs": [
        {
          "output_type": "execute_result",
          "data": {
            "text/plain": [
              "    clusters     TipoCluster\n",
              "0          1  Pouco Violento\n",
              "21         0  Muito Violento"
            ],
            "text/html": [
              "\n",
              "  <div id=\"df-d8fdaf84-24a4-4aa1-b3e7-cafb0aee3997\">\n",
              "    <div class=\"colab-df-container\">\n",
              "      <div>\n",
              "<style scoped>\n",
              "    .dataframe tbody tr th:only-of-type {\n",
              "        vertical-align: middle;\n",
              "    }\n",
              "\n",
              "    .dataframe tbody tr th {\n",
              "        vertical-align: top;\n",
              "    }\n",
              "\n",
              "    .dataframe thead th {\n",
              "        text-align: right;\n",
              "    }\n",
              "</style>\n",
              "<table border=\"1\" class=\"dataframe\">\n",
              "  <thead>\n",
              "    <tr style=\"text-align: right;\">\n",
              "      <th></th>\n",
              "      <th>clusters</th>\n",
              "      <th>TipoCluster</th>\n",
              "    </tr>\n",
              "  </thead>\n",
              "  <tbody>\n",
              "    <tr>\n",
              "      <th>0</th>\n",
              "      <td>1</td>\n",
              "      <td>Pouco Violento</td>\n",
              "    </tr>\n",
              "    <tr>\n",
              "      <th>21</th>\n",
              "      <td>0</td>\n",
              "      <td>Muito Violento</td>\n",
              "    </tr>\n",
              "  </tbody>\n",
              "</table>\n",
              "</div>\n",
              "      <button class=\"colab-df-convert\" onclick=\"convertToInteractive('df-d8fdaf84-24a4-4aa1-b3e7-cafb0aee3997')\"\n",
              "              title=\"Convert this dataframe to an interactive table.\"\n",
              "              style=\"display:none;\">\n",
              "        \n",
              "  <svg xmlns=\"http://www.w3.org/2000/svg\" height=\"24px\"viewBox=\"0 0 24 24\"\n",
              "       width=\"24px\">\n",
              "    <path d=\"M0 0h24v24H0V0z\" fill=\"none\"/>\n",
              "    <path d=\"M18.56 5.44l.94 2.06.94-2.06 2.06-.94-2.06-.94-.94-2.06-.94 2.06-2.06.94zm-11 1L8.5 8.5l.94-2.06 2.06-.94-2.06-.94L8.5 2.5l-.94 2.06-2.06.94zm10 10l.94 2.06.94-2.06 2.06-.94-2.06-.94-.94-2.06-.94 2.06-2.06.94z\"/><path d=\"M17.41 7.96l-1.37-1.37c-.4-.4-.92-.59-1.43-.59-.52 0-1.04.2-1.43.59L10.3 9.45l-7.72 7.72c-.78.78-.78 2.05 0 2.83L4 21.41c.39.39.9.59 1.41.59.51 0 1.02-.2 1.41-.59l7.78-7.78 2.81-2.81c.8-.78.8-2.07 0-2.86zM5.41 20L4 18.59l7.72-7.72 1.47 1.35L5.41 20z\"/>\n",
              "  </svg>\n",
              "      </button>\n",
              "      \n",
              "  <style>\n",
              "    .colab-df-container {\n",
              "      display:flex;\n",
              "      flex-wrap:wrap;\n",
              "      gap: 12px;\n",
              "    }\n",
              "\n",
              "    .colab-df-convert {\n",
              "      background-color: #E8F0FE;\n",
              "      border: none;\n",
              "      border-radius: 50%;\n",
              "      cursor: pointer;\n",
              "      display: none;\n",
              "      fill: #1967D2;\n",
              "      height: 32px;\n",
              "      padding: 0 0 0 0;\n",
              "      width: 32px;\n",
              "    }\n",
              "\n",
              "    .colab-df-convert:hover {\n",
              "      background-color: #E2EBFA;\n",
              "      box-shadow: 0px 1px 2px rgba(60, 64, 67, 0.3), 0px 1px 3px 1px rgba(60, 64, 67, 0.15);\n",
              "      fill: #174EA6;\n",
              "    }\n",
              "\n",
              "    [theme=dark] .colab-df-convert {\n",
              "      background-color: #3B4455;\n",
              "      fill: #D2E3FC;\n",
              "    }\n",
              "\n",
              "    [theme=dark] .colab-df-convert:hover {\n",
              "      background-color: #434B5C;\n",
              "      box-shadow: 0px 1px 3px 1px rgba(0, 0, 0, 0.15);\n",
              "      filter: drop-shadow(0px 1px 2px rgba(0, 0, 0, 0.3));\n",
              "      fill: #FFFFFF;\n",
              "    }\n",
              "  </style>\n",
              "\n",
              "      <script>\n",
              "        const buttonEl =\n",
              "          document.querySelector('#df-d8fdaf84-24a4-4aa1-b3e7-cafb0aee3997 button.colab-df-convert');\n",
              "        buttonEl.style.display =\n",
              "          google.colab.kernel.accessAllowed ? 'block' : 'none';\n",
              "\n",
              "        async function convertToInteractive(key) {\n",
              "          const element = document.querySelector('#df-d8fdaf84-24a4-4aa1-b3e7-cafb0aee3997');\n",
              "          const dataTable =\n",
              "            await google.colab.kernel.invokeFunction('convertToInteractive',\n",
              "                                                     [key], {});\n",
              "          if (!dataTable) return;\n",
              "\n",
              "          const docLinkHtml = 'Like what you see? Visit the ' +\n",
              "            '<a target=\"_blank\" href=https://colab.research.google.com/notebooks/data_table.ipynb>data table notebook</a>'\n",
              "            + ' to learn more about interactive tables.';\n",
              "          element.innerHTML = '';\n",
              "          dataTable['output_type'] = 'display_data';\n",
              "          await google.colab.output.renderOutput(dataTable, element);\n",
              "          const docLink = document.createElement('div');\n",
              "          docLink.innerHTML = docLinkHtml;\n",
              "          element.appendChild(docLink);\n",
              "        }\n",
              "      </script>\n",
              "    </div>\n",
              "  </div>\n",
              "  "
            ]
          },
          "metadata": {},
          "execution_count": 88
        }
      ]
    },
    {
      "cell_type": "code",
      "source": [
        "plt.figure(figsize=(6,4))\n",
        "for i in label_map.clusters.unique():\n",
        "    sns.distplot(df_violencia_arv[df_violencia_arv[target_col] == i].probability,\n",
        "                 label=label_map[label_map.clusters == i].TipoCluster,\n",
        "                 ax = plt.gca())\n",
        "\n",
        "plt.title('Distribuição de Probabilidade por Classe')\n",
        "plt.ylabel('Tipo de Violencia')\n",
        "plt.xlabel('Probabilidade')\n",
        "plt.xlim((0,1))\n",
        "plt.grid()\n",
        "plt.legend()"
      ],
      "metadata": {
        "colab": {
          "base_uri": "https://localhost:8080/",
          "height": 312
        },
        "id": "sXuikUWPdkpE",
        "outputId": "49414e8e-8ae5-409b-84b3-e900738897de"
      },
      "execution_count": null,
      "outputs": [
        {
          "output_type": "execute_result",
          "data": {
            "text/plain": [
              "<matplotlib.legend.Legend at 0x7f5cfcc97e10>"
            ]
          },
          "metadata": {},
          "execution_count": 89
        },
        {
          "output_type": "display_data",
          "data": {
            "text/plain": [
              "<Figure size 432x288 with 1 Axes>"
            ],
            "image/png": "[encoded data removed]"
          },
          "metadata": {
            "needs_background": "light"
          }
        }
      ]
    },
    {
      "cell_type": "markdown",
      "source": [
        "### Curva ROC"
      ],
      "metadata": {
        "id": "oigS72-fe0di"
      }
    },
    {
      "cell_type": "code",
      "source": [
        "plt.figure(figsize=(6,4))\n",
        "\n",
        "fpr, tpr, thr = metrics.roc_curve(df_violencia_arv[target_col],\n",
        "                                  df_violencia_arv['probability'])\n",
        "plt.plot(fpr, tpr, '-', lw=2, label='Arvore de Decisão')\n",
        "\n",
        "plt.legend(loc='right')\n",
        "plt.title('Classificador de Bairro violentos')\n",
        "plt.grid()\n",
        "plt.xlabel('Taxa de Falso Alarme')\n",
        "plt.ylabel('Taxa de Detecção')"
      ],
      "metadata": {
        "colab": {
          "base_uri": "https://localhost:8080/",
          "height": 312
        },
        "id": "P7Cp7F20e3CT",
        "outputId": "62dc2e74-94c0-4cc8-bd86-3008947235d6"
      },
      "execution_count": null,
      "outputs": [
        {
          "output_type": "execute_result",
          "data": {
            "text/plain": [
              "Text(0, 0.5, 'Taxa de Detecção')"
            ]
          },
          "metadata": {},
          "execution_count": 90
        },
        {
          "output_type": "display_data",
          "data": {
            "text/plain": [
              "<Figure size 432x288 with 1 Axes>"
            ],
            "image/png": "[encoded data removed]"
          },
          "metadata": {
            "needs_background": "light"
          }
        }
      ]
    },
    {
      "cell_type": "markdown",
      "source": [
        "### Regime de Operação"
      ],
      "metadata": {
        "id": "NcGcyoi3fNtK"
      }
    },
    {
      "cell_type": "code",
      "source": [
        "label_map.clusters.values"
      ],
      "metadata": {
        "colab": {
          "base_uri": "https://localhost:8080/"
        },
        "id": "fUv2ZWc2h4ZT",
        "outputId": "9f0fd268-f4cf-4038-a013-bb1c1db4d27e"
      },
      "execution_count": null,
      "outputs": [
        {
          "output_type": "execute_result",
          "data": {
            "text/plain": [
              "array([1, 0])"
            ]
          },
          "metadata": {},
          "execution_count": 91
        }
      ]
    },
    {
      "cell_type": "code",
      "source": [
        "import warnings\n",
        "warnings.filterwarnings('ignore')\n",
        "\n",
        "\n",
        "def plot_operation_threshold(threshold):\n",
        "    plt.figure(figsize=(12,4))\n",
        "    # MATRIZ CONFUSAO\n",
        "    plt.subplot(1,2,1)\n",
        "    cm = metrics.confusion_matrix(df_violencia_arv[target_col],\n",
        "                                  df_violencia_arv['probability'] > threshold)\n",
        "    sns.heatmap(cm, annot=True, fmt = '.0f')\n",
        "    plt.xlabel('Classificação')\n",
        "    plt.ylabel('Verdade')\n",
        "    plt.gca().set_xticklabels(label_map.TipoCluster.values)\n",
        "    plt.gca().set_yticklabels(label_map.TipoCluster.values)\n",
        "    # DISTRIBUICAO PROBABILIDADES\n",
        "    plt.subplot(1,2,2)\n",
        "    for i in label_map.clusters.values:\n",
        "        sns.distplot(df_violencia_arv[df_violencia_arv[target_col] == i].probability,\n",
        "                     label=label_map[label_map.clusters == i].TipoCluster,\n",
        "                     ax = plt.gca())\n",
        "    plt.plot([threshold, threshold], [0, plt.axis()[3]], '--k', lw=2, label = 'Corte Operação')\n",
        "    plt.title('Distribuição de Probabilidade por Classe')\n",
        "    plt.ylabel('Densidade Estimada')\n",
        "    plt.xlabel('Probabilidade Violencia')\n",
        "    plt.xlim((-0.01,1.01))\n",
        "    plt.grid()\n",
        "    plt.legend()\n",
        "    plt.show()\n",
        "    # PRINT CLASSIFICATION REPORT\n",
        "    print(metrics.classification_report(df_violencia_arv[target_col],\n",
        "                                        df_violencia_arv['probability'] > threshold,\n",
        "                                        target_names = label_map.TipoCluster))    \n",
        "\n",
        "\n",
        "interact(plot_operation_threshold, threshold=(0,1,0.1))"
      ],
      "metadata": {
        "colab": {
          "base_uri": "https://localhost:8080/",
          "height": 501,
          "referenced_widgets": [
            "206528391c30475fb04b101598fb8f0c",
            "cc941e05a021482aad28c672a843692f",
            "82ea790481a048949575e4c3f3994fa7",
            "1be78c53127f4364bcc3bdc0de9c978b",
            "fdc120de3746463c8daaa73abd0da03b",
            "ee116af97a274ec1994cc5acbe04015f",
            "1b0f3dfa52804127abe093e71d13fc28"
          ]
        },
        "id": "jvGyzyS5fRgL",
        "outputId": "adeba84d-15cf-4902-81e8-afc24e4994da"
      },
      "execution_count": null,
      "outputs": [
        {
          "output_type": "display_data",
          "data": {
            "text/plain": [
              "interactive(children=(FloatSlider(value=0.0, description='threshold', max=1.0), Output()), _dom_classes=('widg…"
            ],
            "application/vnd.jupyter.widget-view+json": {
              "version_major": 2,
              "version_minor": 0,
              "model_id": "206528391c30475fb04b101598fb8f0c"
            }
          },
          "metadata": {}
        },
        {
          "output_type": "execute_result",
          "data": {
            "text/plain": [
              "<function __main__.plot_operation_threshold>"
            ]
          },
          "metadata": {},
          "execution_count": 92
        }
      ]
    },
    {
      "cell_type": "markdown",
      "source": [
        "Obs -  Por se tratar de árvores com grande profundidade não foi feito a estrutura e o caminho da árvore"
      ],
      "metadata": {
        "id": "weN_pmp8_LxP"
      }
    },
    {
      "cell_type": "markdown",
      "source": [
        "### Importancia das Variaveis"
      ],
      "metadata": {
        "id": "_zCpSfe_xrcG"
      }
    },
    {
      "cell_type": "code",
      "source": [
        "plt.figure(figsize=(15,6))\n",
        "\n",
        "\n",
        "plt.subplot(1,2,1)\n",
        "idx = np.argsort(model_violencia.feature_importances_)\n",
        "\n",
        "plt.barh(np.arange(idx.shape[0]), model_violencia.feature_importances_[idx]*100)\n",
        "\n",
        "plt.yticks(np.arange(idx.shape[0]), np.array(violencia_feature_names)[idx])\n",
        "plt.title('Importância das Variáveis por Entropia')\n",
        "plt.grid()\n",
        "plt.xlabel('Importância Relativa [%]')\n",
        "plt.tight_layout()\n",
        "\n",
        "plt.subplot(1,2,2)\n",
        "r = permutation_importance(model_violencia, xtest, ytest,\n",
        "                           n_repeats=30,\n",
        "                        random_state=0)\n",
        "importance =  r.importances_mean\n",
        "idx = np.argsort(importance)\n",
        "plt.barh(np.arange(idx.shape[0]), importance[idx]*100)\n",
        "plt.yticks(np.arange(idx.shape[0]), np.array(violencia_feature_names)[idx])\n",
        "plt.title('Importância das Variáveis por Permutação')\n",
        "plt.grid()\n",
        "plt.xlabel('Importância Relativa [%]')\n",
        "plt.tight_layout()"
      ],
      "metadata": {
        "id": "EUTKS-0GxwwW",
        "colab": {
          "base_uri": "https://localhost:8080/",
          "height": 441
        },
        "outputId": "96c63ee1-8efc-47b4-b02d-4a784ee95900"
      },
      "execution_count": null,
      "outputs": [
        {
          "output_type": "display_data",
          "data": {
            "text/plain": [
              "<Figure size 1080x432 with 2 Axes>"
            ],
            "image/png": "[encoded data removed]"
          },
          "metadata": {
            "needs_background": "light"
          }
        }
      ]
    },
    {
      "cell_type": "markdown",
      "source": [
        "## Resultado"
      ],
      "metadata": {
        "id": "rn_yR4gy_Yiy"
      }
    },
    {
      "cell_type": "markdown",
      "source": [
        " \n",
        "\n",
        "*   O resultado da árvore absorve que deve se ter um número grande de profundidade da árvore para obter um melhor resultado \n",
        "*   Para a importancia dos dados obtidos foi verificado que o homicidio tem grande relevancia para avaliar se o municipio é violento ou não\n",
        "*   Há um grande desequilibrio entre as duas classes a serem verificadas pois há mais municipios violentos que não violentos, então tende a precisão a ser desiquilibrada entre as duas classes e isso se repete também para o F1-Score\n",
        "*   O alto acerto na acurácia se dá pelo desequilibrio das classes chegando a 90% de assertividade de acordo com o que foi solicitado\n",
        "\n",
        "\n",
        "\n"
      ],
      "metadata": {
        "id": "1PaCyu4-_jOU"
      }
    },
    {
      "cell_type": "markdown",
      "source": [
        "# REGRESSÃO LOGISTICA"
      ],
      "metadata": {
        "id": "6vnEBQyZTkHU"
      }
    },
    {
      "cell_type": "markdown",
      "source": [
        "Foi utilizada a regressão logistica pois para o problema em questão foi utilizada uma classificação"
      ],
      "metadata": {
        "id": "aiCI0306rUTp"
      }
    },
    {
      "cell_type": "markdown",
      "source": [
        "## Verificação dos Parametros"
      ],
      "metadata": {
        "id": "902s6FCLCT5f"
      }
    },
    {
      "cell_type": "markdown",
      "source": [
        "Mesmo com a variação dos modelos não houve variação do resultado"
      ],
      "metadata": {
        "id": "zk9TNWTDBzHs"
      }
    },
    {
      "cell_type": "code",
      "source": [
        "# train/test\n",
        "xtrain = df_violencia[df_violencia['período'].isin(label_periodo)].drop(target_cols, axis=1)\n",
        "xtest = df_violencia[df_violencia['período'].isin(label_periodo_tst)].drop(target_cols, axis=1)\n",
        "ytrain = df_violencia[df_violencia['período'].isin(label_periodo)]['clusters']\n",
        "ytest = df_violencia[df_violencia['período'].isin(label_periodo_tst)]['clusters']"
      ],
      "metadata": {
        "id": "V8QUGskaCWgo"
      },
      "execution_count": 53,
      "outputs": []
    },
    {
      "cell_type": "code",
      "source": [
        "df_train = df_violencia[df_violencia['período'].isin(label_periodo)]\n",
        "df_test =  df_violencia[df_violencia['período'].isin(label_periodo_tst)]"
      ],
      "metadata": {
        "id": "UGu86zeUnnGF"
      },
      "execution_count": 54,
      "outputs": []
    },
    {
      "cell_type": "code",
      "source": [
        "grid_search_lr = {\n",
        "    'C': [0.01, 0.1, 1, 10, 100],\n",
        "    'penalty': ['l1', 'l2', 'elasticnet', 'none']\n",
        "}\n",
        "\n",
        "\n",
        "def plot_parameter_validation_curve(param_name, grid_search,\n",
        "                                    model, model_name, scoring,\n",
        "                                    logx):\n",
        "    print('Parameter:', param_name)\n",
        "    print('GridSearch:', grid_search[param_name])\n",
        "    print('Scoring:', scoring)\n",
        "    plt.figure(figsize=(6,4))\n",
        "    train_scores, test_scores = validation_curve(model,\n",
        "                                                 X = xtrain, \n",
        "                                                 y = ytrain, \n",
        "                                                 param_name=param_name, \n",
        "                                                 param_range= grid_search[param_name],\n",
        "                                                 scoring=scoring,\n",
        "                                                 cv=cvfold,\n",
        "                                                 n_jobs=-1)\n",
        "    train_scores_mean = np.mean(train_scores, axis=1)\n",
        "    train_scores_std = np.std(train_scores, axis=1)\n",
        "    test_scores_mean = np.mean(test_scores, axis=1)\n",
        "    test_scores_std = np.std(test_scores, axis=1)\n",
        "    plt.title(\"Curva Validação Modelo \" + model_name)\n",
        "    plt.xlabel(param_name)\n",
        "    plt.ylabel(\"Score (\"+scoring+\")\")\n",
        "    if logx:\n",
        "        plt.semilogx(grid_search[param_name], train_scores_mean,'-o', label=\"Treino\",\n",
        "                     color=\"darkorange\", lw=2)\n",
        "        plt.semilogx(grid_search[param_name], test_scores_mean,'-o', label=\"Validação-Cruzada\",\n",
        "                     color=\"navy\", lw=2)\n",
        "    else:\n",
        "        plt.plot(grid_search[param_name], train_scores_mean,'-o', label=\"Treino\",\n",
        "                     color=\"darkorange\", lw=2)\n",
        "        plt.plot(grid_search[param_name], test_scores_mean,'-o', label=\"Validação-Cruzada\",\n",
        "                 color=\"navy\", lw=2)\n",
        "    plt.fill_between(grid_search[param_name], train_scores_mean - train_scores_std,\n",
        "                     train_scores_mean + train_scores_std, alpha=0.2,\n",
        "                     color=\"darkorange\", lw=2)\n",
        "    plt.fill_between(grid_search[param_name], test_scores_mean - test_scores_std,\n",
        "                     test_scores_mean + test_scores_std, alpha=0.2,\n",
        "                     color=\"navy\", lw=2)\n",
        "    plt.legend(loc='best')\n",
        "    plt.grid(True)\n",
        "    plt.show()\n",
        "    \n",
        "interact(plot_parameter_validation_curve,\n",
        "         param_name = list(grid_search_lr.keys()), \n",
        "         grid_search = fixed(grid_search_lr),\n",
        "         model = fixed(lm.LogisticRegression(solver='liblinear')),\n",
        "         model_name = fixed('Regressão Logística'),\n",
        "         scoring = classification_scores,\n",
        "         logx = True\n",
        ")"
      ],
      "metadata": {
        "id": "rKfuGL_oCa1d",
        "colab": {
          "base_uri": "https://localhost:8080/",
          "height": 464,
          "referenced_widgets": [
            "056ff6f0d77c4234b72b3aafb5b4ca50",
            "9c00b880382d4b2f99861bb25afea46c",
            "84e563cfd26e44509636bfbe80173a70",
            "8a0ede4dde8f4b378a94927d377b96a6",
            "19265a8eec78470bbf60227415b6d20e",
            "f3cb9d5c2c434517b23eb9ac86edff63",
            "878875a395a64e77a488edbddc213851",
            "9966651df05e458ebecb52eeca65d264",
            "86411000ab5c4ad281a8f7751862fcd0",
            "596e07c7a6174d719167f7077c91a279",
            "898b743a43dc4e4cae598035218a4121",
            "b4f30df772984c929cc9398bfd8111cb",
            "06c93180822a4f8ca71e67b064071d5a"
          ]
        },
        "outputId": "6b4ed8e3-3122-4377-8e95-8b6a248799bd"
      },
      "execution_count": 55,
      "outputs": [
        {
          "output_type": "display_data",
          "data": {
            "text/plain": [
              "interactive(children=(Dropdown(description='param_name', options=('C', 'penalty'), value='C'), Dropdown(descri…"
            ],
            "application/vnd.jupyter.widget-view+json": {
              "version_major": 2,
              "version_minor": 0,
              "model_id": "056ff6f0d77c4234b72b3aafb5b4ca50"
            }
          },
          "metadata": {}
        },
        {
          "output_type": "execute_result",
          "data": {
            "text/plain": [
              "<function __main__.plot_parameter_validation_curve>"
            ]
          },
          "metadata": {},
          "execution_count": 55
        }
      ]
    },
    {
      "cell_type": "markdown",
      "source": [
        "## Modelo dos Dados"
      ],
      "metadata": {
        "id": "jUcDg9bOsAhr"
      }
    },
    {
      "cell_type": "code",
      "source": [
        "df_train = xtrain.copy()\n",
        "df_test = xtest.copy()\n",
        "df_train['train_set'] = 1\n",
        "df_test['train_set'] = 0\n",
        "df_train[target_col] = ytrain\n",
        "df_test[target_col] = ytest\n",
        "\n",
        "\n",
        "model_violencia = lm.LogisticRegression(penalty='l1', solver='liblinear')\n",
        "model_violencia.fit(xtrain, ytrain)\n",
        "df_train['decision'] = model_violencia.predict(xtrain)\n",
        "df_test['decision']  = model_violencia.predict(xtest)\n",
        "df_train['probability'] = model_violencia.predict_proba(xtrain)[:,1]\n",
        "df_test['probability']  = model_violencia.predict_proba(xtest)[:,1]\n",
        "\n",
        "df_violencia_log = pd.concat((df_train, df_test), axis=0)"
      ],
      "metadata": {
        "id": "lahJ89OBIknH"
      },
      "execution_count": 57,
      "outputs": []
    },
    {
      "cell_type": "code",
      "source": [
        "df_violencia_log[df_violencia_log['train_set'] == 0]['clusters'].value_counts()"
      ],
      "metadata": {
        "colab": {
          "base_uri": "https://localhost:8080/"
        },
        "id": "-NMLhWC7TsQc",
        "outputId": "639a4800-1d74-47cb-bac7-e49b6d096361"
      },
      "execution_count": 58,
      "outputs": [
        {
          "output_type": "execute_result",
          "data": {
            "text/plain": [
              "1    27775\n",
              "0     4073\n",
              "Name: clusters, dtype: int64"
            ]
          },
          "metadata": {},
          "execution_count": 58
        }
      ]
    },
    {
      "cell_type": "code",
      "source": [
        "df_violencia_log[df_violencia_log['train_set'] == 0]['decision'].value_counts()"
      ],
      "metadata": {
        "colab": {
          "base_uri": "https://localhost:8080/"
        },
        "id": "mi8DJWvsTuIh",
        "outputId": "7edb8a21-aff9-4fcb-eba5-6afbba17522c"
      },
      "execution_count": 59,
      "outputs": [
        {
          "output_type": "execute_result",
          "data": {
            "text/plain": [
              "1    31848\n",
              "Name: decision, dtype: int64"
            ]
          },
          "metadata": {},
          "execution_count": 59
        }
      ]
    },
    {
      "cell_type": "markdown",
      "source": [
        "## Métricas de Avaliação"
      ],
      "metadata": {
        "id": "6ZFiFvhTD5IV"
      }
    },
    {
      "cell_type": "markdown",
      "source": [
        "### Matriz de Confusão"
      ],
      "metadata": {
        "id": "Qxjftip6Ebm1"
      }
    },
    {
      "cell_type": "code",
      "source": [
        "cm = metrics.confusion_matrix(df_violencia_log[df_violencia_log['train_set'] == 0][target_col],\n",
        "                              df_violencia_log[df_violencia_log['train_set'] == 0]['decision'])\n",
        "\n",
        "sns.heatmap(cm, annot=True, fmt = '.0f')\n",
        "\n",
        "plt.xlabel('Classificação')\n",
        "plt.ylabel('Verdade')\n",
        "plt.gca().set_xticklabels(label_map.TipoCluster.values)\n",
        "plt.gca().set_yticklabels(label_map.TipoCluster.values)"
      ],
      "metadata": {
        "colab": {
          "base_uri": "https://localhost:8080/",
          "height": 296
        },
        "id": "bhkA0NsIEeXm",
        "outputId": "e4fe5f53-c34a-4988-8d1e-b5f7086db203"
      },
      "execution_count": null,
      "outputs": [
        {
          "output_type": "execute_result",
          "data": {
            "text/plain": [
              "[Text(0, 0.5, 'Pouco Violento'), Text(0, 1.5, 'Muito Violento')]"
            ]
          },
          "metadata": {},
          "execution_count": 123
        },
        {
          "output_type": "display_data",
          "data": {
            "text/plain": [
              "<Figure size 432x288 with 2 Axes>"
            ],
            "image/png": "[encoded data removed]"
          },
          "metadata": {
            "needs_background": "light"
          }
        }
      ]
    },
    {
      "cell_type": "markdown",
      "source": [
        "### Curva ROC"
      ],
      "metadata": {
        "id": "SfaWNDOiODHy"
      }
    },
    {
      "cell_type": "code",
      "source": [
        "plt.figure(figsize=(6,4))\n",
        "\n",
        "fpr, tpr, thr = metrics.roc_curve(df_violencia_log[target_col],\n",
        "                                  df_violencia_log['probability'])\n",
        "plt.plot(fpr, tpr, '-', lw=2, label='Arvore de Decisão')\n",
        "\n",
        "plt.legend(loc='right')\n",
        "plt.title('Classificador de Bairro violentos')\n",
        "plt.grid()\n",
        "plt.xlabel('Taxa de Falso Alarme')\n",
        "plt.ylabel('Taxa de Detecção')"
      ],
      "metadata": {
        "colab": {
          "base_uri": "https://localhost:8080/",
          "height": 312
        },
        "id": "rfUYtaDrOMMp",
        "outputId": "17551c42-177e-40e8-ac26-373da758952b"
      },
      "execution_count": null,
      "outputs": [
        {
          "output_type": "execute_result",
          "data": {
            "text/plain": [
              "Text(0, 0.5, 'Taxa de Detecção')"
            ]
          },
          "metadata": {},
          "execution_count": 135
        },
        {
          "output_type": "display_data",
          "data": {
            "text/plain": [
              "<Figure size 432x288 with 1 Axes>"
            ],
            "image/png": "[encoded data removed]"
          },
          "metadata": {
            "needs_background": "light"
          }
        }
      ]
    },
    {
      "cell_type": "markdown",
      "source": [
        "### Distribuição de Probabilidade"
      ],
      "metadata": {
        "id": "xUWF7nORO_B3"
      }
    },
    {
      "cell_type": "code",
      "source": [
        "plt.figure(figsize=(6,4))\n",
        "for i in label_map.clusters.unique():\n",
        "    sns.distplot(df_violencia_log[df_violencia_log[target_col] == i].probability,\n",
        "                 label=label_map[label_map.clusters == i].TipoCluster,\n",
        "                 ax = plt.gca())\n",
        "\n",
        "plt.title('Distribuição de Probabilidade por Classe')\n",
        "plt.ylabel('Tipo de Violencia')\n",
        "plt.xlabel('Probabilidade')\n",
        "plt.xlim((0,1))\n",
        "plt.grid()\n",
        "plt.legend()"
      ],
      "metadata": {
        "colab": {
          "base_uri": "https://localhost:8080/",
          "height": 312
        },
        "id": "L2kAh6x3PEKq",
        "outputId": "48ac5fbc-9b8f-4bce-94b6-b38957d9d68f"
      },
      "execution_count": null,
      "outputs": [
        {
          "output_type": "execute_result",
          "data": {
            "text/plain": [
              "<matplotlib.legend.Legend at 0x7f5c1090d250>"
            ]
          },
          "metadata": {},
          "execution_count": 136
        },
        {
          "output_type": "display_data",
          "data": {
            "text/plain": [
              "<Figure size 432x288 with 1 Axes>"
            ],
            "image/png": "[encoded data removed]"
          },
          "metadata": {
            "needs_background": "light"
          }
        }
      ]
    },
    {
      "cell_type": "markdown",
      "source": [
        "### Métricas de Avaliação"
      ],
      "metadata": {
        "id": "s8ASJ-DZFnV3"
      }
    },
    {
      "cell_type": "markdown",
      "source": [
        "Pela precisão ter o mesmo valor da acurácia pois não há classificação do municipio pouco violento"
      ],
      "metadata": {
        "id": "yctDt_0YDplq"
      }
    },
    {
      "cell_type": "code",
      "source": [
        "print(metrics.classification_report(df_violencia_log[target_col],\n",
        "                              df_violencia_log['decision'],\n",
        "                              target_names = label_map.TipoCluster.values))"
      ],
      "metadata": {
        "colab": {
          "base_uri": "https://localhost:8080/"
        },
        "id": "ihBzPx_lFq7G",
        "outputId": "9f341033-6ff4-44d2-a890-5e23dfe1ed16"
      },
      "execution_count": null,
      "outputs": [
        {
          "output_type": "stream",
          "name": "stdout",
          "text": [
            "                precision    recall  f1-score   support\n",
            "\n",
            "Pouco Violento       0.00      0.00      0.00     20102\n",
            "Muito Violento       0.83      1.00      0.91     99949\n",
            "\n",
            "      accuracy                           0.83    120051\n",
            "     macro avg       0.42      0.50      0.45    120051\n",
            "  weighted avg       0.69      0.83      0.76    120051\n",
            "\n"
          ]
        }
      ]
    },
    {
      "cell_type": "markdown",
      "source": [
        "###Estimativa dos Parâmetros "
      ],
      "metadata": {
        "id": "dEZwQIsrJ6sj"
      }
    },
    {
      "cell_type": "code",
      "source": [
        "from statsmodels.discrete import discrete_model\n",
        "\n",
        "logit = discrete_model.Logit(ytrain, xtrain).fit()\n",
        "\n",
        "logit.summary()"
      ],
      "metadata": {
        "colab": {
          "base_uri": "https://localhost:8080/",
          "height": 432
        },
        "id": "gh-_k0LCHcj0",
        "outputId": "c21c758c-fe2c-4512-bf5e-a800237dcbca"
      },
      "execution_count": null,
      "outputs": [
        {
          "output_type": "stream",
          "name": "stdout",
          "text": [
            "Optimization terminated successfully.\n",
            "         Current function value: 0.554948\n",
            "         Iterations 6\n"
          ]
        },
        {
          "output_type": "execute_result",
          "data": {
            "text/plain": [
              "<class 'statsmodels.iolib.summary.Summary'>\n",
              "\"\"\"\n",
              "                           Logit Regression Results                           \n",
              "==============================================================================\n",
              "Dep. Variable:               clusters   No. Observations:                88203\n",
              "Model:                          Logit   Df Residuals:                    88195\n",
              "Method:                           MLE   Df Model:                            7\n",
              "Date:                Fri, 24 Jun 2022   Pseudo R-squ.:                 -0.1708\n",
              "Time:                        05:18:22   Log-Likelihood:                -48948.\n",
              "converged:                       True   LL-Null:                       -41809.\n",
              "Covariance Type:            nonrobust   LLR p-value:                     1.000\n",
              "=====================================================================================================\n",
              "                                        coef    std err          z      P>|z|      [0.025      0.975]\n",
              "-----------------------------------------------------------------------------------------------------\n",
              "homicidios                            0.0313      0.001     43.930      0.000       0.030       0.033\n",
              "homicidio jovens armas de fogo       -0.0039      0.001     -7.318      0.000      -0.005      -0.003\n",
              "suicidio arma de fogo                -0.0014      0.003     -0.434      0.664      -0.008       0.005\n",
              "violencia por causa indeterminada     0.0433      0.001     37.067      0.000       0.041       0.046\n",
              "suicidio homens                       0.0242      0.001     44.471      0.000       0.023       0.025\n",
              "suicidio mulheres                     0.0211      0.001     19.954      0.000       0.019       0.023\n",
              "intervencao_legal                     0.0242      0.012      1.982      0.047       0.000       0.048\n",
              "homicidio_15a29                       0.0014      0.000      2.874      0.004       0.000       0.002\n",
              "=====================================================================================================\n",
              "\"\"\""
            ],
            "text/html": [
              "<table class=\"simpletable\">\n",
              "<caption>Logit Regression Results</caption>\n",
              "<tr>\n",
              "  <th>Dep. Variable:</th>       <td>clusters</td>     <th>  No. Observations:  </th>  <td> 88203</td> \n",
              "</tr>\n",
              "<tr>\n",
              "  <th>Model:</th>                 <td>Logit</td>      <th>  Df Residuals:      </th>  <td> 88195</td> \n",
              "</tr>\n",
              "<tr>\n",
              "  <th>Method:</th>                 <td>MLE</td>       <th>  Df Model:          </th>  <td>     7</td> \n",
              "</tr>\n",
              "<tr>\n",
              "  <th>Date:</th>            <td>Fri, 24 Jun 2022</td> <th>  Pseudo R-squ.:     </th>  <td>-0.1708</td>\n",
              "</tr>\n",
              "<tr>\n",
              "  <th>Time:</th>                <td>05:18:22</td>     <th>  Log-Likelihood:    </th> <td> -48948.</td>\n",
              "</tr>\n",
              "<tr>\n",
              "  <th>converged:</th>             <td>True</td>       <th>  LL-Null:           </th> <td> -41809.</td>\n",
              "</tr>\n",
              "<tr>\n",
              "  <th>Covariance Type:</th>     <td>nonrobust</td>    <th>  LLR p-value:       </th>  <td> 1.000</td> \n",
              "</tr>\n",
              "</table>\n",
              "<table class=\"simpletable\">\n",
              "<tr>\n",
              "                  <td></td>                     <th>coef</th>     <th>std err</th>      <th>z</th>      <th>P>|z|</th>  <th>[0.025</th>    <th>0.975]</th>  \n",
              "</tr>\n",
              "<tr>\n",
              "  <th>homicidios</th>                        <td>    0.0313</td> <td>    0.001</td> <td>   43.930</td> <td> 0.000</td> <td>    0.030</td> <td>    0.033</td>\n",
              "</tr>\n",
              "<tr>\n",
              "  <th>homicidio jovens armas de fogo</th>    <td>   -0.0039</td> <td>    0.001</td> <td>   -7.318</td> <td> 0.000</td> <td>   -0.005</td> <td>   -0.003</td>\n",
              "</tr>\n",
              "<tr>\n",
              "  <th>suicidio arma de fogo</th>             <td>   -0.0014</td> <td>    0.003</td> <td>   -0.434</td> <td> 0.664</td> <td>   -0.008</td> <td>    0.005</td>\n",
              "</tr>\n",
              "<tr>\n",
              "  <th>violencia por causa indeterminada</th> <td>    0.0433</td> <td>    0.001</td> <td>   37.067</td> <td> 0.000</td> <td>    0.041</td> <td>    0.046</td>\n",
              "</tr>\n",
              "<tr>\n",
              "  <th>suicidio homens</th>                   <td>    0.0242</td> <td>    0.001</td> <td>   44.471</td> <td> 0.000</td> <td>    0.023</td> <td>    0.025</td>\n",
              "</tr>\n",
              "<tr>\n",
              "  <th>suicidio mulheres</th>                 <td>    0.0211</td> <td>    0.001</td> <td>   19.954</td> <td> 0.000</td> <td>    0.019</td> <td>    0.023</td>\n",
              "</tr>\n",
              "<tr>\n",
              "  <th>intervencao_legal</th>                 <td>    0.0242</td> <td>    0.012</td> <td>    1.982</td> <td> 0.047</td> <td>    0.000</td> <td>    0.048</td>\n",
              "</tr>\n",
              "<tr>\n",
              "  <th>homicidio_15a29</th>                   <td>    0.0014</td> <td>    0.000</td> <td>    2.874</td> <td> 0.004</td> <td>    0.000</td> <td>    0.002</td>\n",
              "</tr>\n",
              "</table>"
            ]
          },
          "metadata": {},
          "execution_count": 126
        }
      ]
    },
    {
      "cell_type": "markdown",
      "source": [
        "## Resultado"
      ],
      "metadata": {
        "id": "8OztAkHdK1lD"
      }
    },
    {
      "cell_type": "markdown",
      "source": [
        "*   Há poucas distinções entre os diferentes modelos pois a classe alvo não conseguiu diferenciar os valores\n",
        "*   Não diferencia os valores de acordo com a mudança no modelo\n",
        "*   Pela diferenciação dos tamanhos da classe, temos somente a escolha na maior classe e a acurácia chega em 87%\n",
        "\n",
        "\n",
        "\n"
      ],
      "metadata": {
        "id": "TxeAl3lNK3sL"
      }
    },
    {
      "cell_type": "markdown",
      "source": [
        "#SVM"
      ],
      "metadata": {
        "id": "83OauIt2WSMO"
      }
    },
    {
      "cell_type": "markdown",
      "source": [
        "## Preparação da Base"
      ],
      "metadata": {
        "id": "rV5eoEFDsPRY"
      }
    },
    {
      "cell_type": "markdown",
      "source": [
        "Obs - Para uma melhor utilização dos modelos os dados foram transformados para obter uma melhor eficiencia na geração do modelo utilizado"
      ],
      "metadata": {
        "id": "SLUu11Zq1bar"
      }
    },
    {
      "cell_type": "code",
      "source": [
        "xtrain = df_violencia[df_violencia['período'].isin(label_periodo)].drop(target_cols, axis=1)\n",
        "xtest = df_violencia[df_violencia['período'].isin(label_periodo_tst)].drop(target_cols, axis=1)\n",
        "ytrain = df_violencia[df_violencia['período'].isin(label_periodo)]['clusters']\n",
        "ytest = df_violencia[df_violencia['período'].isin(label_periodo_tst)]['clusters']"
      ],
      "metadata": {
        "id": "4EU2GCZLfS3U"
      },
      "execution_count": 62,
      "outputs": []
    },
    {
      "cell_type": "code",
      "source": [
        "df_train = df_violencia[df_violencia['período'].isin(label_periodo)]\n",
        "df_test =  df_violencia[df_violencia['período'].isin(label_periodo_tst)]"
      ],
      "metadata": {
        "id": "soKtu_rPxZGR"
      },
      "execution_count": 63,
      "outputs": []
    },
    {
      "cell_type": "code",
      "source": [
        "xtest.drop(['cod','período'],axis=1)"
      ],
      "metadata": {
        "colab": {
          "base_uri": "https://localhost:8080/",
          "height": 485
        },
        "id": "jJNw176GpcOW",
        "outputId": "99fca4d0-1615-4e4e-abd6-a4a3fe69b3e8"
      },
      "execution_count": 23,
      "outputs": [
        {
          "output_type": "execute_result",
          "data": {
            "text/plain": [
              "        homicidios  homicidio jovens armas de fogo  suicidio arma de fogo  \\\n",
              "109475        0.00                             0.0                   32.2   \n",
              "109476        0.00                             0.0                   32.2   \n",
              "109477      106.95                             0.0                    0.0   \n",
              "109478      106.95                             0.0                    0.0   \n",
              "109479        5.94                             0.0                    0.0   \n",
              "...            ...                             ...                    ...   \n",
              "120046       44.03                             0.0                    8.8   \n",
              "120047       18.44                             0.0                    0.0   \n",
              "120048       18.44                             0.0                    0.0   \n",
              "120049       19.74                             0.0                    0.0   \n",
              "120050       19.74                             0.0                    0.0   \n",
              "\n",
              "        violencia por causa indeterminada  suicidio homens  suicidio mulheres  \\\n",
              "109475                               0.00              2.0                0.0   \n",
              "109476                               0.00              2.0                0.0   \n",
              "109477                               0.00              0.0                0.0   \n",
              "109478                               0.00              0.0                0.0   \n",
              "109479                               0.00              2.0                0.0   \n",
              "...                                   ...              ...                ...   \n",
              "120046                               0.00              2.0               19.6   \n",
              "120047                               9.21              0.0                0.0   \n",
              "120048                               9.21              0.0                0.0   \n",
              "120049                               0.00              1.0                0.0   \n",
              "120050                               0.00              1.0                0.0   \n",
              "\n",
              "        intervencao_legal  homicidio_15a29  \n",
              "109475                0.0             0.00  \n",
              "109476                0.0             0.00  \n",
              "109477                0.0             0.00  \n",
              "109478                0.0             0.00  \n",
              "109479                0.0            25.91  \n",
              "...                   ...              ...  \n",
              "120046                0.0            41.89  \n",
              "120047                0.0             0.00  \n",
              "120048                0.0             0.00  \n",
              "120049                0.0            37.66  \n",
              "120050                0.0            37.66  \n",
              "\n",
              "[10576 rows x 8 columns]"
            ],
            "text/html": [
              "\n",
              "  <div id=\"df-85501eb0-41f2-4396-b300-b70c85c352d2\">\n",
              "    <div class=\"colab-df-container\">\n",
              "      <div>\n",
              "<style scoped>\n",
              "    .dataframe tbody tr th:only-of-type {\n",
              "        vertical-align: middle;\n",
              "    }\n",
              "\n",
              "    .dataframe tbody tr th {\n",
              "        vertical-align: top;\n",
              "    }\n",
              "\n",
              "    .dataframe thead th {\n",
              "        text-align: right;\n",
              "    }\n",
              "</style>\n",
              "<table border=\"1\" class=\"dataframe\">\n",
              "  <thead>\n",
              "    <tr style=\"text-align: right;\">\n",
              "      <th></th>\n",
              "      <th>homicidios</th>\n",
              "      <th>homicidio jovens armas de fogo</th>\n",
              "      <th>suicidio arma de fogo</th>\n",
              "      <th>violencia por causa indeterminada</th>\n",
              "      <th>suicidio homens</th>\n",
              "      <th>suicidio mulheres</th>\n",
              "      <th>intervencao_legal</th>\n",
              "      <th>homicidio_15a29</th>\n",
              "    </tr>\n",
              "  </thead>\n",
              "  <tbody>\n",
              "    <tr>\n",
              "      <th>109475</th>\n",
              "      <td>0.00</td>\n",
              "      <td>0.0</td>\n",
              "      <td>32.2</td>\n",
              "      <td>0.00</td>\n",
              "      <td>2.0</td>\n",
              "      <td>0.0</td>\n",
              "      <td>0.0</td>\n",
              "      <td>0.00</td>\n",
              "    </tr>\n",
              "    <tr>\n",
              "      <th>109476</th>\n",
              "      <td>0.00</td>\n",
              "      <td>0.0</td>\n",
              "      <td>32.2</td>\n",
              "      <td>0.00</td>\n",
              "      <td>2.0</td>\n",
              "      <td>0.0</td>\n",
              "      <td>0.0</td>\n",
              "      <td>0.00</td>\n",
              "    </tr>\n",
              "    <tr>\n",
              "      <th>109477</th>\n",
              "      <td>106.95</td>\n",
              "      <td>0.0</td>\n",
              "      <td>0.0</td>\n",
              "      <td>0.00</td>\n",
              "      <td>0.0</td>\n",
              "      <td>0.0</td>\n",
              "      <td>0.0</td>\n",
              "      <td>0.00</td>\n",
              "    </tr>\n",
              "    <tr>\n",
              "      <th>109478</th>\n",
              "      <td>106.95</td>\n",
              "      <td>0.0</td>\n",
              "      <td>0.0</td>\n",
              "      <td>0.00</td>\n",
              "      <td>0.0</td>\n",
              "      <td>0.0</td>\n",
              "      <td>0.0</td>\n",
              "      <td>0.00</td>\n",
              "    </tr>\n",
              "    <tr>\n",
              "      <th>109479</th>\n",
              "      <td>5.94</td>\n",
              "      <td>0.0</td>\n",
              "      <td>0.0</td>\n",
              "      <td>0.00</td>\n",
              "      <td>2.0</td>\n",
              "      <td>0.0</td>\n",
              "      <td>0.0</td>\n",
              "      <td>25.91</td>\n",
              "    </tr>\n",
              "    <tr>\n",
              "      <th>...</th>\n",
              "      <td>...</td>\n",
              "      <td>...</td>\n",
              "      <td>...</td>\n",
              "      <td>...</td>\n",
              "      <td>...</td>\n",
              "      <td>...</td>\n",
              "      <td>...</td>\n",
              "      <td>...</td>\n",
              "    </tr>\n",
              "    <tr>\n",
              "      <th>120046</th>\n",
              "      <td>44.03</td>\n",
              "      <td>0.0</td>\n",
              "      <td>8.8</td>\n",
              "      <td>0.00</td>\n",
              "      <td>2.0</td>\n",
              "      <td>19.6</td>\n",
              "      <td>0.0</td>\n",
              "      <td>41.89</td>\n",
              "    </tr>\n",
              "    <tr>\n",
              "      <th>120047</th>\n",
              "      <td>18.44</td>\n",
              "      <td>0.0</td>\n",
              "      <td>0.0</td>\n",
              "      <td>9.21</td>\n",
              "      <td>0.0</td>\n",
              "      <td>0.0</td>\n",
              "      <td>0.0</td>\n",
              "      <td>0.00</td>\n",
              "    </tr>\n",
              "    <tr>\n",
              "      <th>120048</th>\n",
              "      <td>18.44</td>\n",
              "      <td>0.0</td>\n",
              "      <td>0.0</td>\n",
              "      <td>9.21</td>\n",
              "      <td>0.0</td>\n",
              "      <td>0.0</td>\n",
              "      <td>0.0</td>\n",
              "      <td>0.00</td>\n",
              "    </tr>\n",
              "    <tr>\n",
              "      <th>120049</th>\n",
              "      <td>19.74</td>\n",
              "      <td>0.0</td>\n",
              "      <td>0.0</td>\n",
              "      <td>0.00</td>\n",
              "      <td>1.0</td>\n",
              "      <td>0.0</td>\n",
              "      <td>0.0</td>\n",
              "      <td>37.66</td>\n",
              "    </tr>\n",
              "    <tr>\n",
              "      <th>120050</th>\n",
              "      <td>19.74</td>\n",
              "      <td>0.0</td>\n",
              "      <td>0.0</td>\n",
              "      <td>0.00</td>\n",
              "      <td>1.0</td>\n",
              "      <td>0.0</td>\n",
              "      <td>0.0</td>\n",
              "      <td>37.66</td>\n",
              "    </tr>\n",
              "  </tbody>\n",
              "</table>\n",
              "<p>10576 rows × 8 columns</p>\n",
              "</div>\n",
              "      <button class=\"colab-df-convert\" onclick=\"convertToInteractive('df-85501eb0-41f2-4396-b300-b70c85c352d2')\"\n",
              "              title=\"Convert this dataframe to an interactive table.\"\n",
              "              style=\"display:none;\">\n",
              "        \n",
              "  <svg xmlns=\"http://www.w3.org/2000/svg\" height=\"24px\"viewBox=\"0 0 24 24\"\n",
              "       width=\"24px\">\n",
              "    <path d=\"M0 0h24v24H0V0z\" fill=\"none\"/>\n",
              "    <path d=\"M18.56 5.44l.94 2.06.94-2.06 2.06-.94-2.06-.94-.94-2.06-.94 2.06-2.06.94zm-11 1L8.5 8.5l.94-2.06 2.06-.94-2.06-.94L8.5 2.5l-.94 2.06-2.06.94zm10 10l.94 2.06.94-2.06 2.06-.94-2.06-.94-.94-2.06-.94 2.06-2.06.94z\"/><path d=\"M17.41 7.96l-1.37-1.37c-.4-.4-.92-.59-1.43-.59-.52 0-1.04.2-1.43.59L10.3 9.45l-7.72 7.72c-.78.78-.78 2.05 0 2.83L4 21.41c.39.39.9.59 1.41.59.51 0 1.02-.2 1.41-.59l7.78-7.78 2.81-2.81c.8-.78.8-2.07 0-2.86zM5.41 20L4 18.59l7.72-7.72 1.47 1.35L5.41 20z\"/>\n",
              "  </svg>\n",
              "      </button>\n",
              "      \n",
              "  <style>\n",
              "    .colab-df-container {\n",
              "      display:flex;\n",
              "      flex-wrap:wrap;\n",
              "      gap: 12px;\n",
              "    }\n",
              "\n",
              "    .colab-df-convert {\n",
              "      background-color: #E8F0FE;\n",
              "      border: none;\n",
              "      border-radius: 50%;\n",
              "      cursor: pointer;\n",
              "      display: none;\n",
              "      fill: #1967D2;\n",
              "      height: 32px;\n",
              "      padding: 0 0 0 0;\n",
              "      width: 32px;\n",
              "    }\n",
              "\n",
              "    .colab-df-convert:hover {\n",
              "      background-color: #E2EBFA;\n",
              "      box-shadow: 0px 1px 2px rgba(60, 64, 67, 0.3), 0px 1px 3px 1px rgba(60, 64, 67, 0.15);\n",
              "      fill: #174EA6;\n",
              "    }\n",
              "\n",
              "    [theme=dark] .colab-df-convert {\n",
              "      background-color: #3B4455;\n",
              "      fill: #D2E3FC;\n",
              "    }\n",
              "\n",
              "    [theme=dark] .colab-df-convert:hover {\n",
              "      background-color: #434B5C;\n",
              "      box-shadow: 0px 1px 3px 1px rgba(0, 0, 0, 0.15);\n",
              "      filter: drop-shadow(0px 1px 2px rgba(0, 0, 0, 0.3));\n",
              "      fill: #FFFFFF;\n",
              "    }\n",
              "  </style>\n",
              "\n",
              "      <script>\n",
              "        const buttonEl =\n",
              "          document.querySelector('#df-85501eb0-41f2-4396-b300-b70c85c352d2 button.colab-df-convert');\n",
              "        buttonEl.style.display =\n",
              "          google.colab.kernel.accessAllowed ? 'block' : 'none';\n",
              "\n",
              "        async function convertToInteractive(key) {\n",
              "          const element = document.querySelector('#df-85501eb0-41f2-4396-b300-b70c85c352d2');\n",
              "          const dataTable =\n",
              "            await google.colab.kernel.invokeFunction('convertToInteractive',\n",
              "                                                     [key], {});\n",
              "          if (!dataTable) return;\n",
              "\n",
              "          const docLinkHtml = 'Like what you see? Visit the ' +\n",
              "            '<a target=\"_blank\" href=https://colab.research.google.com/notebooks/data_table.ipynb>data table notebook</a>'\n",
              "            + ' to learn more about interactive tables.';\n",
              "          element.innerHTML = '';\n",
              "          dataTable['output_type'] = 'display_data';\n",
              "          await google.colab.output.renderOutput(dataTable, element);\n",
              "          const docLink = document.createElement('div');\n",
              "          docLink.innerHTML = docLinkHtml;\n",
              "          element.appendChild(docLink);\n",
              "        }\n",
              "      </script>\n",
              "    </div>\n",
              "  </div>\n",
              "  "
            ]
          },
          "metadata": {},
          "execution_count": 23
        }
      ]
    },
    {
      "cell_type": "code",
      "source": [
        "conversor = MinMaxScaler(feature_range=(-1,1))\n",
        "#conversor = StandardScaler()\n",
        "xtrain = conversor.fit_transform(xtrain)\n",
        "xtest = conversor.transform(xtest)"
      ],
      "metadata": {
        "id": "YYF8mv6wsenz"
      },
      "execution_count": 24,
      "outputs": []
    },
    {
      "cell_type": "markdown",
      "source": [
        "## Verificação dos Parametros"
      ],
      "metadata": {
        "id": "2uIa1ywb9ZSY"
      }
    },
    {
      "cell_type": "markdown",
      "source": [
        "Obs - Pela lentidão gerada para gerar os dados pelo modelo SVM foi utilizada o cálculo e escolha dos parametros através da melhor escolha de acurácia pelos parametros selecionados "
      ],
      "metadata": {
        "id": "rJq5AI2505Xz"
      }
    },
    {
      "cell_type": "code",
      "source": [
        "def verificacao_parametros(kernel,custo):\n",
        "  model_violencia = svm.SVC(kernel=kernel, C=custo, probability=True)\n",
        "  model_violencia = model_violencia.fit(xtrain, ytrain)\n",
        "  ypred = model_violencia.predict(xtest)\n",
        "  return accuracy_score(ytest, ypred)"
      ],
      "metadata": {
        "id": "osWyHeWdYh6b"
      },
      "execution_count": null,
      "outputs": []
    },
    {
      "cell_type": "markdown",
      "source": [
        "### Min Max Scaler"
      ],
      "metadata": {
        "id": "zHEOqPpYmmLL"
      }
    },
    {
      "cell_type": "code",
      "source": [
        "verificacao_parametros('linear',0.1)"
      ],
      "metadata": {
        "id": "JqJp3P-SZ9AB",
        "colab": {
          "base_uri": "https://localhost:8080/"
        },
        "outputId": "c222cfe5-4e4f-41af-e018-ae5085aaa274"
      },
      "execution_count": null,
      "outputs": [
        {
          "output_type": "execute_result",
          "data": {
            "text/plain": [
              "0.8026664145234493"
            ]
          },
          "metadata": {},
          "execution_count": 20
        }
      ]
    },
    {
      "cell_type": "code",
      "source": [
        "verificacao_parametros('linear',1)"
      ],
      "metadata": {
        "colab": {
          "base_uri": "https://localhost:8080/"
        },
        "id": "7MDTCoAVdSNV",
        "outputId": "9bfebf6d-9701-4ec9-90f1-9fd6a9456ed1"
      },
      "execution_count": null,
      "outputs": [
        {
          "output_type": "execute_result",
          "data": {
            "text/plain": [
              "0.8026664145234493"
            ]
          },
          "metadata": {},
          "execution_count": 21
        }
      ]
    },
    {
      "cell_type": "code",
      "source": [
        "verificacao_parametros('rbf',0.1)"
      ],
      "metadata": {
        "id": "GOWrrAiXeDDg",
        "colab": {
          "base_uri": "https://localhost:8080/"
        },
        "outputId": "2dff1ea2-20a8-4eaa-c5b2-05443660409a"
      },
      "execution_count": null,
      "outputs": [
        {
          "output_type": "execute_result",
          "data": {
            "text/plain": [
              "0.8026664145234493"
            ]
          },
          "metadata": {},
          "execution_count": 17
        }
      ]
    },
    {
      "cell_type": "code",
      "source": [
        "verificacao_parametros('poly',0.1)"
      ],
      "metadata": {
        "colab": {
          "base_uri": "https://localhost:8080/"
        },
        "id": "5sF5mPnMkzD5",
        "outputId": "46a1a2bf-7c1f-4b87-d81d-7ed10d0d2209"
      },
      "execution_count": null,
      "outputs": [
        {
          "output_type": "execute_result",
          "data": {
            "text/plain": [
              "0.8026664145234493"
            ]
          },
          "metadata": {},
          "execution_count": 18
        }
      ]
    },
    {
      "cell_type": "markdown",
      "source": [
        "### StandardScaler"
      ],
      "metadata": {
        "id": "P_hAjhx2musw"
      }
    },
    {
      "cell_type": "code",
      "source": [
        "conversor = StandardScaler()\n",
        "xtrain = conversor.fit_transform(xtrain)\n",
        "xtest = conversor.transform(xtest)"
      ],
      "metadata": {
        "id": "nJHmwtLcm044"
      },
      "execution_count": 65,
      "outputs": []
    },
    {
      "cell_type": "code",
      "source": [
        "verificacao_parametros('linear',0.1)"
      ],
      "metadata": {
        "colab": {
          "base_uri": "https://localhost:8080/"
        },
        "id": "32o3Ciysm7li",
        "outputId": "45b40138-8068-4710-f700-518af7ab9fd3"
      },
      "execution_count": null,
      "outputs": [
        {
          "output_type": "execute_result",
          "data": {
            "text/plain": [
              "0.8026664145234493"
            ]
          },
          "metadata": {},
          "execution_count": 20
        }
      ]
    },
    {
      "cell_type": "code",
      "source": [
        "verificacao_parametros('rbf',0.1)"
      ],
      "metadata": {
        "colab": {
          "base_uri": "https://localhost:8080/"
        },
        "id": "t0CppkEjpk16",
        "outputId": "6930e970-236e-44fe-a225-db3ee85ae9a3"
      },
      "execution_count": null,
      "outputs": [
        {
          "output_type": "execute_result",
          "data": {
            "text/plain": [
              "0.8026664145234493"
            ]
          },
          "metadata": {},
          "execution_count": 21
        }
      ]
    },
    {
      "cell_type": "markdown",
      "source": [
        "## Modelo dos Dados"
      ],
      "metadata": {
        "id": "v6vUcRJRsDb6"
      }
    },
    {
      "cell_type": "code",
      "source": [
        "violencia_target_col = ['período', 'homicidios', 'homicidio jovens armas de fogo',\n",
        "       'suicidio arma de fogo', 'violencia por causa indeterminada',\n",
        "       'suicidio homens', 'suicidio mulheres', 'intervencao_legal',\n",
        "       'homicidio_15a29']"
      ],
      "metadata": {
        "id": "5TP4h6XdhT_o"
      },
      "execution_count": 66,
      "outputs": []
    },
    {
      "cell_type": "code",
      "source": [
        "target_col = 'clusters'"
      ],
      "metadata": {
        "id": "wD4TGJ2dhhgi"
      },
      "execution_count": 68,
      "outputs": []
    },
    {
      "cell_type": "code",
      "source": [
        "# C = [0.1, 1, 10, 1000],\n",
        "# kernel = ['linear', 'rbf', 'poly']\n",
        "\n",
        "model_violencia = svm.SVC(kernel='linear', C=0.1, probability=True)\n",
        "model_violencia = model_violencia.fit(xtrain, ytrain)\n",
        "\n",
        "df_train['train_set'] = 1\n",
        "df_test['train_set'] = 0\n",
        "df_test['decision'] = model_violencia.predict(xtest)\n",
        "df_train['decision'] = model_violencia.predict(xtrain)\n",
        "df_train['probability'] = model_violencia.predict_proba(xtrain)[:,1]\n",
        "df_test['probability']  = model_violencia.predict_proba(xtest)[:,1]\n",
        "df_violencia_svm = pd.concat((df_train, df_test), axis=0)"
      ],
      "metadata": {
        "id": "ZDn4PQvUqbm-",
        "colab": {
          "base_uri": "https://localhost:8080/"
        },
        "outputId": "41a2413a-19c0-46d6-b161-52b5022d78a7"
      },
      "execution_count": 69,
      "outputs": [
        {
          "output_type": "stream",
          "name": "stderr",
          "text": [
            "/usr/local/lib/python3.7/dist-packages/ipykernel_launcher.py:7: SettingWithCopyWarning: \n",
            "A value is trying to be set on a copy of a slice from a DataFrame.\n",
            "Try using .loc[row_indexer,col_indexer] = value instead\n",
            "\n",
            "See the caveats in the documentation: https://pandas.pydata.org/pandas-docs/stable/user_guide/indexing.html#returning-a-view-versus-a-copy\n",
            "  import sys\n",
            "/usr/local/lib/python3.7/dist-packages/ipykernel_launcher.py:8: SettingWithCopyWarning: \n",
            "A value is trying to be set on a copy of a slice from a DataFrame.\n",
            "Try using .loc[row_indexer,col_indexer] = value instead\n",
            "\n",
            "See the caveats in the documentation: https://pandas.pydata.org/pandas-docs/stable/user_guide/indexing.html#returning-a-view-versus-a-copy\n",
            "  \n",
            "/usr/local/lib/python3.7/dist-packages/ipykernel_launcher.py:9: SettingWithCopyWarning: \n",
            "A value is trying to be set on a copy of a slice from a DataFrame.\n",
            "Try using .loc[row_indexer,col_indexer] = value instead\n",
            "\n",
            "See the caveats in the documentation: https://pandas.pydata.org/pandas-docs/stable/user_guide/indexing.html#returning-a-view-versus-a-copy\n",
            "  if __name__ == '__main__':\n",
            "/usr/local/lib/python3.7/dist-packages/ipykernel_launcher.py:10: SettingWithCopyWarning: \n",
            "A value is trying to be set on a copy of a slice from a DataFrame.\n",
            "Try using .loc[row_indexer,col_indexer] = value instead\n",
            "\n",
            "See the caveats in the documentation: https://pandas.pydata.org/pandas-docs/stable/user_guide/indexing.html#returning-a-view-versus-a-copy\n",
            "  # Remove the CWD from sys.path while we load stuff.\n",
            "/usr/local/lib/python3.7/dist-packages/ipykernel_launcher.py:11: SettingWithCopyWarning: \n",
            "A value is trying to be set on a copy of a slice from a DataFrame.\n",
            "Try using .loc[row_indexer,col_indexer] = value instead\n",
            "\n",
            "See the caveats in the documentation: https://pandas.pydata.org/pandas-docs/stable/user_guide/indexing.html#returning-a-view-versus-a-copy\n",
            "  # This is added back by InteractiveShellApp.init_path()\n",
            "/usr/local/lib/python3.7/dist-packages/ipykernel_launcher.py:12: SettingWithCopyWarning: \n",
            "A value is trying to be set on a copy of a slice from a DataFrame.\n",
            "Try using .loc[row_indexer,col_indexer] = value instead\n",
            "\n",
            "See the caveats in the documentation: https://pandas.pydata.org/pandas-docs/stable/user_guide/indexing.html#returning-a-view-versus-a-copy\n",
            "  if sys.path[0] == '':\n"
          ]
        }
      ]
    },
    {
      "cell_type": "code",
      "source": [
        "df_violencia_svm[df_violencia_svm['train_set'] == 0]['clusters'].value_counts()"
      ],
      "metadata": {
        "id": "GXkwr35kXW7j",
        "colab": {
          "base_uri": "https://localhost:8080/"
        },
        "outputId": "1de88037-8cd1-4500-b640-c35c909f92cd"
      },
      "execution_count": 70,
      "outputs": [
        {
          "output_type": "execute_result",
          "data": {
            "text/plain": [
              "1    27775\n",
              "0     4073\n",
              "Name: clusters, dtype: int64"
            ]
          },
          "metadata": {},
          "execution_count": 70
        }
      ]
    },
    {
      "cell_type": "code",
      "source": [
        "df_violencia_svm[df_violencia_svm['train_set'] == 0]['decision'].value_counts()"
      ],
      "metadata": {
        "id": "M9DPVLyDXbtQ",
        "colab": {
          "base_uri": "https://localhost:8080/"
        },
        "outputId": "b83ff84c-2409-4222-8914-bed1a8aa56a6"
      },
      "execution_count": 71,
      "outputs": [
        {
          "output_type": "execute_result",
          "data": {
            "text/plain": [
              "1    31848\n",
              "Name: decision, dtype: int64"
            ]
          },
          "metadata": {},
          "execution_count": 71
        }
      ]
    },
    {
      "cell_type": "markdown",
      "source": [
        "## Métricas de Avaliação"
      ],
      "metadata": {
        "id": "rBuHZaKLZ0SA"
      }
    },
    {
      "cell_type": "markdown",
      "source": [
        "###Matriz de Confusão"
      ],
      "metadata": {
        "id": "UrMoztz3Z2X0"
      }
    },
    {
      "cell_type": "code",
      "source": [
        "cm = metrics.confusion_matrix(df_violencia_svm[df_violencia_svm['train_set'] == 0][target_col],\n",
        "                              df_violencia_svm[df_violencia_svm['train_set'] == 0]['decision'])\n",
        "\n",
        "sns.heatmap(cm, annot=True, fmt = '.0f')\n",
        "\n",
        "plt.xlabel('Classificação')\n",
        "plt.ylabel('Verdade')\n",
        "plt.gca().set_xticklabels(label_map.TipoCluster.values)\n",
        "plt.gca().set_yticklabels(label_map.TipoCluster.values)"
      ],
      "metadata": {
        "colab": {
          "base_uri": "https://localhost:8080/",
          "height": 296
        },
        "id": "BGscCiAYZ1lY",
        "outputId": "d05bd08b-899f-44bc-853a-03f54fd54048"
      },
      "execution_count": 72,
      "outputs": [
        {
          "output_type": "execute_result",
          "data": {
            "text/plain": [
              "[Text(0, 0.5, 'Pouco Violento'), Text(0, 1.5, 'Muito Violento')]"
            ]
          },
          "metadata": {},
          "execution_count": 72
        },
        {
          "output_type": "display_data",
          "data": {
            "text/plain": [
              "<Figure size 432x288 with 2 Axes>"
            ],
            "image/png": "[encoded data removed]"
          },
          "metadata": {
            "needs_background": "light"
          }
        }
      ]
    },
    {
      "cell_type": "markdown",
      "source": [
        "### Curva ROC"
      ],
      "metadata": {
        "id": "y0EYzD9Os32H"
      }
    },
    {
      "cell_type": "code",
      "source": [
        "plt.figure(figsize=(6,4))\n",
        "\n",
        "fpr, tpr, thr = metrics.roc_curve(df_violencia_svm[target_col],\n",
        "                                  df_violencia_svm['probability'])\n",
        "plt.plot(fpr, tpr, '-', lw=2, label='Arvore de Decisão')\n",
        "\n",
        "plt.legend(loc='right')\n",
        "plt.title('Classificador de Bairro violentos')\n",
        "plt.grid()\n",
        "plt.xlabel('Taxa de Falso Alarme')\n",
        "plt.ylabel('Taxa de Detecção')"
      ],
      "metadata": {
        "colab": {
          "base_uri": "https://localhost:8080/",
          "height": 312
        },
        "id": "5jajmHVDs6dC",
        "outputId": "9d30a9aa-7e67-4173-f5c5-c48195b9a811"
      },
      "execution_count": 73,
      "outputs": [
        {
          "output_type": "execute_result",
          "data": {
            "text/plain": [
              "Text(0, 0.5, 'Taxa de Detecção')"
            ]
          },
          "metadata": {},
          "execution_count": 73
        },
        {
          "output_type": "display_data",
          "data": {
            "text/plain": [
              "<Figure size 432x288 with 1 Axes>"
            ],
            "image/png": "[encoded data removed]"
          },
          "metadata": {
            "needs_background": "light"
          }
        }
      ]
    },
    {
      "cell_type": "markdown",
      "source": [
        "### Distribuição de Probabilidade"
      ],
      "metadata": {
        "id": "f6drWIKgs5zt"
      }
    },
    {
      "cell_type": "code",
      "source": [
        "plt.figure(figsize=(6,4))\n",
        "for i in label_map.clusters.unique():\n",
        "    sns.distplot(df_violencia_svm[df_violencia_svm[target_col] == i].probability,\n",
        "                 label=label_map[label_map.clusters == i].TipoCluster,\n",
        "                 ax = plt.gca())\n",
        "\n",
        "plt.title('Distribuição de Probabilidade por Classe')\n",
        "plt.ylabel('Tipo de Violencia')\n",
        "plt.xlabel('Probabilidade')\n",
        "plt.xlim((0,1))\n",
        "plt.grid()\n",
        "plt.legend()"
      ],
      "metadata": {
        "colab": {
          "base_uri": "https://localhost:8080/",
          "height": 402
        },
        "id": "zLpwB8RitOKS",
        "outputId": "316fb878-c496-4837-db9e-fdc31ae52497"
      },
      "execution_count": 75,
      "outputs": [
        {
          "output_type": "stream",
          "name": "stderr",
          "text": [
            "/usr/local/lib/python3.7/dist-packages/seaborn/distributions.py:2619: FutureWarning: `distplot` is a deprecated function and will be removed in a future version. Please adapt your code to use either `displot` (a figure-level function with similar flexibility) or `histplot` (an axes-level function for histograms).\n",
            "  warnings.warn(msg, FutureWarning)\n",
            "/usr/local/lib/python3.7/dist-packages/seaborn/distributions.py:2619: FutureWarning: `distplot` is a deprecated function and will be removed in a future version. Please adapt your code to use either `displot` (a figure-level function with similar flexibility) or `histplot` (an axes-level function for histograms).\n",
            "  warnings.warn(msg, FutureWarning)\n"
          ]
        },
        {
          "output_type": "execute_result",
          "data": {
            "text/plain": [
              "<matplotlib.legend.Legend at 0x7f1c026305d0>"
            ]
          },
          "metadata": {},
          "execution_count": 75
        },
        {
          "output_type": "display_data",
          "data": {
            "text/plain": [
              "<Figure size 432x288 with 1 Axes>"
            ],
            "image/png": "[encoded data removed]"
          },
          "metadata": {
            "needs_background": "light"
          }
        }
      ]
    },
    {
      "cell_type": "markdown",
      "source": [
        "### Métricas de Avaliação"
      ],
      "metadata": {
        "id": "oMOfNFp8taLG"
      }
    },
    {
      "cell_type": "markdown",
      "source": [
        "Pela precisão ter o mesmo valor da acurácia pois não há classificação do municipio pouco violento"
      ],
      "metadata": {
        "id": "Sy_5wIXwEPLb"
      }
    },
    {
      "cell_type": "code",
      "source": [
        "print(metrics.classification_report(df_violencia_svm[target_col],\n",
        "                              df_violencia_svm['decision'],\n",
        "                              target_names = label_map.TipoCluster.values))"
      ],
      "metadata": {
        "colab": {
          "base_uri": "https://localhost:8080/"
        },
        "id": "aNqjMPyNtcy-",
        "outputId": "16d4616b-a068-4130-c63f-ed13d857e87a"
      },
      "execution_count": 76,
      "outputs": [
        {
          "output_type": "stream",
          "name": "stdout",
          "text": [
            "                precision    recall  f1-score   support\n",
            "\n",
            "Pouco Violento       0.00      0.00      0.00     20102\n",
            "Muito Violento       0.83      1.00      0.91     99949\n",
            "\n",
            "      accuracy                           0.83    120051\n",
            "     macro avg       0.42      0.50      0.45    120051\n",
            "  weighted avg       0.69      0.83      0.76    120051\n",
            "\n"
          ]
        },
        {
          "output_type": "stream",
          "name": "stderr",
          "text": [
            "/usr/local/lib/python3.7/dist-packages/sklearn/metrics/_classification.py:1318: UndefinedMetricWarning: Precision and F-score are ill-defined and being set to 0.0 in labels with no predicted samples. Use `zero_division` parameter to control this behavior.\n",
            "  _warn_prf(average, modifier, msg_start, len(result))\n",
            "/usr/local/lib/python3.7/dist-packages/sklearn/metrics/_classification.py:1318: UndefinedMetricWarning: Precision and F-score are ill-defined and being set to 0.0 in labels with no predicted samples. Use `zero_division` parameter to control this behavior.\n",
            "  _warn_prf(average, modifier, msg_start, len(result))\n",
            "/usr/local/lib/python3.7/dist-packages/sklearn/metrics/_classification.py:1318: UndefinedMetricWarning: Precision and F-score are ill-defined and being set to 0.0 in labels with no predicted samples. Use `zero_division` parameter to control this behavior.\n",
            "  _warn_prf(average, modifier, msg_start, len(result))\n"
          ]
        }
      ]
    },
    {
      "cell_type": "code",
      "source": [
        "import warnings\n",
        "warnings.filterwarnings('ignore')\n",
        "\n",
        "\n",
        "def plot_operation_threshold(threshold):\n",
        "    plt.figure(figsize=(12,4))\n",
        "    # MATRIZ CONFUSAO\n",
        "    plt.subplot(1,2,1)\n",
        "    cm = metrics.confusion_matrix(df_violencia_svm[target_col],\n",
        "                                  df_violencia_svm['probability'] > threshold)\n",
        "    sns.heatmap(cm, annot=True, fmt = '.0f')\n",
        "    plt.xlabel('Classificação')\n",
        "    plt.ylabel('Verdade')\n",
        "    plt.gca().set_xticklabels(label_map.TipoCluster.values)\n",
        "    plt.gca().set_yticklabels(label_map.TipoCluster.values)\n",
        "    # DISTRIBUICAO PROBABILIDADES\n",
        "    plt.subplot(1,2,2)\n",
        "    for i in label_map.clusters.unique():\n",
        "        sns.distplot(df_violencia_svm[df_violencia_svm[target_col] == i].probability,\n",
        "                     label=label_map[label_map.clusters == i].TipoCluster,\n",
        "                     ax = plt.gca())\n",
        "    plt.plot([threshold, threshold], [0, plt.axis()[3]], '--k', lw=2, label = 'Corte Operação')\n",
        "    plt.title('Distribuição de Probabilidade por Classe')\n",
        "    plt.ylabel('Densidade Estimada')\n",
        "    plt.xlabel('Probabilidade Alta Qualidade')\n",
        "    plt.xlim((-0.01,1.01))\n",
        "    plt.grid()\n",
        "    plt.legend()\n",
        "    plt.show()\n",
        "    # PRINT CLASSIFICATION REPORT\n",
        "    print(metrics.classification_report(df_violencia_svm[target_col],\n",
        "                                        df_violencia_svm['probability'] > threshold,\n",
        "                                        target_names = label_map.TipoCluster.values))\n"
      ],
      "metadata": {
        "id": "9IJJJ9lHt98N"
      },
      "execution_count": 82,
      "outputs": []
    },
    {
      "cell_type": "code",
      "source": [
        "    interact(plot_operation_threshold, threshold=(0,1,0.02))"
      ],
      "metadata": {
        "colab": {
          "base_uri": "https://localhost:8080/",
          "height": 501,
          "referenced_widgets": [
            "7d87a19fbd2e4813a0abbbb71db19490",
            "141a7a29d94b49d1bc686dc9246a2167",
            "ea680bcff3394f8c9bd2d9b776b186b3",
            "19df6e943fec4ba98076b8cd66819adf",
            "87358df0bb1e4b67b586b5f86f335e55",
            "22c4ca1a3e6d4befb40b75dad981dd99",
            "0aee6f3369bf4c87a852664d4313137e"
          ]
        },
        "id": "9L6bVm5jvCIK",
        "outputId": "4d7cf511-9638-4117-8bd2-3e87e9eced74"
      },
      "execution_count": 85,
      "outputs": [
        {
          "output_type": "display_data",
          "data": {
            "text/plain": [
              "interactive(children=(FloatSlider(value=0.0, description='threshold', max=1.0, step=0.02), Output()), _dom_cla…"
            ],
            "application/vnd.jupyter.widget-view+json": {
              "version_major": 2,
              "version_minor": 0,
              "model_id": "7d87a19fbd2e4813a0abbbb71db19490"
            }
          },
          "metadata": {}
        },
        {
          "output_type": "execute_result",
          "data": {
            "text/plain": [
              "<function __main__.plot_operation_threshold>"
            ]
          },
          "metadata": {},
          "execution_count": 85
        }
      ]
    },
    {
      "cell_type": "markdown",
      "source": [
        "## Resultado"
      ],
      "metadata": {
        "id": "wohAN695wN76"
      }
    },
    {
      "cell_type": "markdown",
      "source": [
        "*   Não houve uma variação da acurácia mesmo com a modificação dos modelos\n",
        "*   Para tornar funcional o SVM foi necessário converter os dados para o MinMax e StandardScaler\n",
        "*   Pela diferneça entre os valores alvos não gerou os valores necessário\n",
        "\n",
        "\n",
        "\n"
      ],
      "metadata": {
        "id": "NNkU4UIBwR91"
      }
    },
    {
      "cell_type": "markdown",
      "source": [
        "# Resultado Final"
      ],
      "metadata": {
        "id": "ukYqIpUF8LrU"
      }
    },
    {
      "cell_type": "markdown",
      "source": [
        "Os resultados foram pouco conclusivos por que temos que os dados de maneira \n",
        "pouca balanceada fazendo com que tenhamos um valor baixo na assertividade do modelo. "
      ],
      "metadata": {
        "id": "HvcDTCIG8P0f"
      }
    },
    {
      "cell_type": "markdown",
      "source": [
        "Deve ser avaliado para utilizar mais classificações e tornar a base original mais balanceada para ter um resultado mais assertivo e utilizar a base na seguradora desejada."
      ],
      "metadata": {
        "id": "cOJqkpXo-1fs"
      }
    },
    {
      "cell_type": "markdown",
      "source": [
        "O projeto pode ser expandido para utilizar outras classes sem ser do Atlas da violencia, como dados sociodemográficos e caracteristicas geográficas como região e talvez comparar com outros países semelhantes ao Brasil"
      ],
      "metadata": {
        "id": "Jp_ba89e_nhM"
      }
    }
  ]
}