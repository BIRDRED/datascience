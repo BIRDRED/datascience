{
  "nbformat": 4,
  "nbformat_minor": 0,
  "metadata": {
    "colab": {
      "name": "Projeto Violencia - Clusterizacao.ipynb",
      "provenance": [],
      "authorship_tag": "ABX9TyM3TBqnDPiB5fSiHstjbmT5",
      "include_colab_link": true
    },
    "kernelspec": {
      "name": "python3",
      "display_name": "Python 3"
    },
    "language_info": {
      "name": "python"
    }
  },
  "cells": [
    {
      "cell_type": "markdown",
      "metadata": {
        "id": "view-in-github",
        "colab_type": "text"
      },
      "source": [
        "<a href=\"https://colab.research.google.com/github/BIRDRED/datascience/blob/main/Projeto_Violencia_Clusterizacao.ipynb\" target=\"_parent\"><img src=\"https://colab.research.google.com/assets/colab-badge.svg\" alt=\"Open In Colab\"/></a>"
      ]
    },
    {
      "cell_type": "markdown",
      "source": [
        "#IMPORT\n"
      ],
      "metadata": {
        "id": "18IeKLftLnqF"
      }
    },
    {
      "cell_type": "code",
      "execution_count": 1,
      "metadata": {
        "id": "dQiHmDDk2G1T"
      },
      "outputs": [],
      "source": [
        "import matplotlib.pyplot as plt\n",
        "import seaborn as sns\n",
        "import pandas as pd\n",
        "from pandas_datareader import data as pdr\n",
        "import numpy as np\n",
        "from sklearn import linear_model as lm\n",
        "from sklearn import preprocessing, model_selection\n",
        "from sklearn import metrics\n",
        "from scipy import stats\n",
        "from scipy.stats import norm\n",
        "import seaborn as sns\n",
        "from sklearn.preprocessing import StandardScaler\n",
        "from sklearn.metrics import silhouette_score\n",
        "from sklearn.cluster import KMeans\n",
        "import pickle\n",
        "import warnings\n",
        "\n",
        "from ipywidgets import interact, interactive, fixed\n",
        "import ipywidgets as widgets\n",
        "\n",
        "\n",
        "%matplotlib inline\n",
        "\n"
      ]
    },
    {
      "cell_type": "code",
      "source": [
        "from google.colab import drive\n",
        "drive.mount('/content/drive')"
      ],
      "metadata": {
        "colab": {
          "base_uri": "https://localhost:8080/"
        },
        "id": "iOm9Axhz2R-e",
        "outputId": "999ae51d-dce4-4253-c589-e112e95970fc"
      },
      "execution_count": 2,
      "outputs": [
        {
          "output_type": "stream",
          "name": "stdout",
          "text": [
            "Mounted at /content/drive\n"
          ]
        }
      ]
    },
    {
      "cell_type": "markdown",
      "source": [
        "#PRÉ-PROCESSAMENTO"
      ],
      "metadata": {
        "id": "G3_DewohLxam"
      }
    },
    {
      "cell_type": "markdown",
      "source": [
        "##CARREGAMENTO DE ARQUIVOS"
      ],
      "metadata": {
        "id": "_4PZJC1nMeLj"
      }
    },
    {
      "cell_type": "code",
      "source": [
        "df_municipio = pd.read_csv('/content/drive/MyDrive/Pós-Graduação/Aprendizados de Dados em Tempo Real/Projetos/Municipio.csv', sep=\";\")"
      ],
      "metadata": {
        "id": "UhX8Q5ri2aPL"
      },
      "execution_count": 3,
      "outputs": []
    },
    {
      "cell_type": "code",
      "source": [
        "df_homicidio = pd.read_csv('/content/drive/MyDrive/Pós-Graduação/Aprendizados de Dados em Tempo Real/Projetos/taxa-homicidios.csv', sep=\";\")"
      ],
      "metadata": {
        "id": "-TJ9e_qI2qD2"
      },
      "execution_count": 4,
      "outputs": []
    },
    {
      "cell_type": "code",
      "source": [
        "df_homicidio_jovens = pd.read_csv('/content/drive/MyDrive/Pós-Graduação/Aprendizados de Dados em Tempo Real/Projetos/taxa-de-homicidio-de-jovens-por-armas-de-fogo.csv', sep=\";\")"
      ],
      "metadata": {
        "id": "CBqpI4I68op-"
      },
      "execution_count": 5,
      "outputs": []
    },
    {
      "cell_type": "code",
      "source": [
        "df_suicidio = pd.read_csv('/content/drive/MyDrive/Pós-Graduação/Aprendizados de Dados em Tempo Real/Projetos/taxa-suicidios-por-armas-de-fogo.csv', sep=\";\")"
      ],
      "metadata": {
        "id": "2VOw-QAs5Nct"
      },
      "execution_count": 6,
      "outputs": []
    },
    {
      "cell_type": "code",
      "source": [
        "df_causaindeterminada = pd.read_csv('/content/drive/MyDrive/Pós-Graduação/Aprendizados de Dados em Tempo Real/Projetos/taxa-mortes-violentas-por-causa-indeterminada.csv', sep=\";\")"
      ],
      "metadata": {
        "id": "E-xNxVf75qNl"
      },
      "execution_count": 7,
      "outputs": []
    },
    {
      "cell_type": "code",
      "source": [
        "df_suicidio_homens = pd.read_csv('/content/drive/MyDrive/Pós-Graduação/Aprendizados de Dados em Tempo Real/Projetos/taxa-de-suicidio-de-homens.csv', sep=\";\")"
      ],
      "metadata": {
        "id": "3g5EPfWI7_HM"
      },
      "execution_count": 8,
      "outputs": []
    },
    {
      "cell_type": "code",
      "source": [
        "df_suicidio_mulheres = pd.read_csv('/content/drive/MyDrive/Pós-Graduação/Aprendizados de Dados em Tempo Real/Projetos/taxa-de-suicidio-de-mulheres.csv', sep=\";\")"
      ],
      "metadata": {
        "id": "pauCwYMz8G1x"
      },
      "execution_count": 9,
      "outputs": []
    },
    {
      "cell_type": "code",
      "source": [
        "df_intervencao_legal = pd.read_csv('/content/drive/MyDrive/Pós-Graduação/Aprendizados de Dados em Tempo Real/Projetos/taxa-intervencao-legal.csv', sep=\";\")"
      ],
      "metadata": {
        "id": "iGVbPXGXw8_5"
      },
      "execution_count": 10,
      "outputs": []
    },
    {
      "cell_type": "code",
      "source": [
        "df_homicidio_15a29_anos = pd.read_csv('/content/drive/MyDrive/Pós-Graduação/Aprendizados de Dados em Tempo Real/Projetos/taxa-homicidio-15a29anos.csv', sep=\";\")"
      ],
      "metadata": {
        "id": "RuKmGTlzxFr5"
      },
      "execution_count": 11,
      "outputs": []
    },
    {
      "cell_type": "markdown",
      "source": [
        "## JUNÇÃO DOS DATAFRAMES"
      ],
      "metadata": {
        "id": "FJf2-vPsM3Zj"
      }
    },
    {
      "cell_type": "code",
      "source": [
        "df_violencia = pd.merge(df_homicidio,df_homicidio_jovens,on=['cod','período','nome'], how='left')"
      ],
      "metadata": {
        "id": "u5_SXSkwHnN9"
      },
      "execution_count": 12,
      "outputs": []
    },
    {
      "cell_type": "code",
      "source": [
        "df_violencia = pd.merge(df_violencia,df_suicidio,on=['cod','período','nome'], how='left')"
      ],
      "metadata": {
        "id": "5qpYyTPGNyTF"
      },
      "execution_count": 13,
      "outputs": []
    },
    {
      "cell_type": "code",
      "source": [
        "df_violencia = pd.merge(df_violencia,df_causaindeterminada,on=['cod','período','nome'], how='left')"
      ],
      "metadata": {
        "id": "uEQVSQDYN6bN"
      },
      "execution_count": 14,
      "outputs": []
    },
    {
      "cell_type": "code",
      "source": [
        "df_violencia = pd.merge(df_violencia,df_suicidio_homens,on=['cod','período','nome'], how='left')"
      ],
      "metadata": {
        "id": "lWXcLZFqOLAa"
      },
      "execution_count": 15,
      "outputs": []
    },
    {
      "cell_type": "code",
      "source": [
        "df_violencia = pd.merge(df_violencia,df_suicidio_mulheres,on=['cod','período','nome'], how='left')"
      ],
      "metadata": {
        "id": "90RxKYRbOOOl"
      },
      "execution_count": 16,
      "outputs": []
    },
    {
      "cell_type": "code",
      "source": [
        "df_violencia = pd.merge(df_violencia,df_intervencao_legal,on=['cod','período','nome'], how='left')"
      ],
      "metadata": {
        "id": "DB2Qv539xwTq"
      },
      "execution_count": 17,
      "outputs": []
    },
    {
      "cell_type": "code",
      "source": [
        "df_violencia = pd.merge(df_violencia,df_homicidio_15a29_anos,on=['cod','período','nome'], how='left')"
      ],
      "metadata": {
        "id": "0sjJFIKixzln"
      },
      "execution_count": 18,
      "outputs": []
    },
    {
      "cell_type": "code",
      "source": [
        "df_violencia.to_csv('/content/drive/MyDrive/Pós-Graduação/Aprendizados de Dados em Tempo Real/Projetos/Violencia.csv',sep=\";\",index=False)"
      ],
      "metadata": {
        "id": "G_Vd8jbeOkru"
      },
      "execution_count": 19,
      "outputs": []
    },
    {
      "cell_type": "markdown",
      "source": [
        "## AJUSTES DA TABELA"
      ],
      "metadata": {
        "id": "xvfKDHoOOqmo"
      }
    },
    {
      "cell_type": "code",
      "source": [
        "df_violencia_total = pd.merge(df_municipio,df_violencia,on=['cod'], how='left')"
      ],
      "metadata": {
        "id": "rDNsdt-E3O1q"
      },
      "execution_count": 20,
      "outputs": []
    },
    {
      "cell_type": "code",
      "source": [
        "df_violencia_total = df_violencia_total.set_index(['cod'])"
      ],
      "metadata": {
        "id": "K40CYrbG0a9j"
      },
      "execution_count": 21,
      "outputs": []
    },
    {
      "cell_type": "code",
      "source": [
        "df_violencia_total.head()"
      ],
      "metadata": {
        "id": "1IF40yxyBUMQ",
        "colab": {
          "base_uri": "https://localhost:8080/",
          "height": 556
        },
        "outputId": "cd098304-a2ef-4a3e-f6d8-4fff689a7719"
      },
      "execution_count": 22,
      "outputs": [
        {
          "output_type": "execute_result",
          "data": {
            "text/plain": [
              "                     municipio  microrregiao/id microrregiao/nome  \\\n",
              "cod                                                                 \n",
              "1100015  Alta Floresta D'Oeste            11006            Cacoal   \n",
              "1100015  Alta Floresta D'Oeste            11006            Cacoal   \n",
              "1100015  Alta Floresta D'Oeste            11006            Cacoal   \n",
              "1100015  Alta Floresta D'Oeste            11006            Cacoal   \n",
              "1100015  Alta Floresta D'Oeste            11006            Cacoal   \n",
              "\n",
              "         microrregiao/mesorregiao/id microrregiao/mesorregiao/nome  \\\n",
              "cod                                                                  \n",
              "1100015                         1102             Leste Rondoniense   \n",
              "1100015                         1102             Leste Rondoniense   \n",
              "1100015                         1102             Leste Rondoniense   \n",
              "1100015                         1102             Leste Rondoniense   \n",
              "1100015                         1102             Leste Rondoniense   \n",
              "\n",
              "         microrregiao/mesorregiao/UF/id microrregiao/mesorregiao/UF/sigla  \\\n",
              "cod                                                                         \n",
              "1100015                              11                                RO   \n",
              "1100015                              11                                RO   \n",
              "1100015                              11                                RO   \n",
              "1100015                              11                                RO   \n",
              "1100015                              11                                RO   \n",
              "\n",
              "        microrregiao/mesorregiao/UF/nome  \\\n",
              "cod                                        \n",
              "1100015                         Rondônia   \n",
              "1100015                         Rondônia   \n",
              "1100015                         Rondônia   \n",
              "1100015                         Rondônia   \n",
              "1100015                         Rondônia   \n",
              "\n",
              "         microrregiao/mesorregiao/UF/regiao/id  \\\n",
              "cod                                              \n",
              "1100015                                      1   \n",
              "1100015                                      1   \n",
              "1100015                                      1   \n",
              "1100015                                      1   \n",
              "1100015                                      1   \n",
              "\n",
              "        microrregiao/mesorregiao/UF/regiao/sigla  ...                   nome  \\\n",
              "cod                                               ...                          \n",
              "1100015                                        N  ...  Alta Floresta D'Oeste   \n",
              "1100015                                        N  ...  Alta Floresta D'Oeste   \n",
              "1100015                                        N  ...  Alta Floresta D'Oeste   \n",
              "1100015                                        N  ...  Alta Floresta D'Oeste   \n",
              "1100015                                        N  ...  Alta Floresta D'Oeste   \n",
              "\n",
              "         período homicidios  homicidio jovens armas de fogo  \\\n",
              "cod                                                           \n",
              "1100015   2007.0       7.84                            0.00   \n",
              "1100015   2008.0      43.45                           28.02   \n",
              "1100015   2009.0      15.91                            0.00   \n",
              "1100015   2010.0      28.05                           28.69   \n",
              "1100015   2011.0      12.13                           14.58   \n",
              "\n",
              "        suicidio arma de fogo  violencia por causa indeterminada  \\\n",
              "cod                                                                \n",
              "1100015                   0.0                               3.92   \n",
              "1100015                   0.0                               0.00   \n",
              "1100015                   0.0                               3.97   \n",
              "1100015                   0.0                               4.00   \n",
              "1100015                   0.0                               0.00   \n",
              "\n",
              "        suicidio homens suicidio mulheres  intervencao_legal homicidio_15a29  \n",
              "cod                                                                           \n",
              "1100015            7.53              0.00                0.0           13.88  \n",
              "1100015           30.37              8.23                0.0           56.04  \n",
              "1100015            7.65              8.28                0.0            0.00  \n",
              "1100015           15.43              0.00                0.0           43.03  \n",
              "1100015            0.00              8.39                0.0           29.17  \n",
              "\n",
              "[5 rows x 31 columns]"
            ],
            "text/html": [
              "\n",
              "  <div id=\"df-5549dd0d-5fc0-45b5-b09a-efcad6e56b6c\">\n",
              "    <div class=\"colab-df-container\">\n",
              "      <div>\n",
              "<style scoped>\n",
              "    .dataframe tbody tr th:only-of-type {\n",
              "        vertical-align: middle;\n",
              "    }\n",
              "\n",
              "    .dataframe tbody tr th {\n",
              "        vertical-align: top;\n",
              "    }\n",
              "\n",
              "    .dataframe thead th {\n",
              "        text-align: right;\n",
              "    }\n",
              "</style>\n",
              "<table border=\"1\" class=\"dataframe\">\n",
              "  <thead>\n",
              "    <tr style=\"text-align: right;\">\n",
              "      <th></th>\n",
              "      <th>municipio</th>\n",
              "      <th>microrregiao/id</th>\n",
              "      <th>microrregiao/nome</th>\n",
              "      <th>microrregiao/mesorregiao/id</th>\n",
              "      <th>microrregiao/mesorregiao/nome</th>\n",
              "      <th>microrregiao/mesorregiao/UF/id</th>\n",
              "      <th>microrregiao/mesorregiao/UF/sigla</th>\n",
              "      <th>microrregiao/mesorregiao/UF/nome</th>\n",
              "      <th>microrregiao/mesorregiao/UF/regiao/id</th>\n",
              "      <th>microrregiao/mesorregiao/UF/regiao/sigla</th>\n",
              "      <th>...</th>\n",
              "      <th>nome</th>\n",
              "      <th>período</th>\n",
              "      <th>homicidios</th>\n",
              "      <th>homicidio jovens armas de fogo</th>\n",
              "      <th>suicidio arma de fogo</th>\n",
              "      <th>violencia por causa indeterminada</th>\n",
              "      <th>suicidio homens</th>\n",
              "      <th>suicidio mulheres</th>\n",
              "      <th>intervencao_legal</th>\n",
              "      <th>homicidio_15a29</th>\n",
              "    </tr>\n",
              "    <tr>\n",
              "      <th>cod</th>\n",
              "      <th></th>\n",
              "      <th></th>\n",
              "      <th></th>\n",
              "      <th></th>\n",
              "      <th></th>\n",
              "      <th></th>\n",
              "      <th></th>\n",
              "      <th></th>\n",
              "      <th></th>\n",
              "      <th></th>\n",
              "      <th></th>\n",
              "      <th></th>\n",
              "      <th></th>\n",
              "      <th></th>\n",
              "      <th></th>\n",
              "      <th></th>\n",
              "      <th></th>\n",
              "      <th></th>\n",
              "      <th></th>\n",
              "      <th></th>\n",
              "      <th></th>\n",
              "    </tr>\n",
              "  </thead>\n",
              "  <tbody>\n",
              "    <tr>\n",
              "      <th>1100015</th>\n",
              "      <td>Alta Floresta D'Oeste</td>\n",
              "      <td>11006</td>\n",
              "      <td>Cacoal</td>\n",
              "      <td>1102</td>\n",
              "      <td>Leste Rondoniense</td>\n",
              "      <td>11</td>\n",
              "      <td>RO</td>\n",
              "      <td>Rondônia</td>\n",
              "      <td>1</td>\n",
              "      <td>N</td>\n",
              "      <td>...</td>\n",
              "      <td>Alta Floresta D'Oeste</td>\n",
              "      <td>2007.0</td>\n",
              "      <td>7.84</td>\n",
              "      <td>0.00</td>\n",
              "      <td>0.0</td>\n",
              "      <td>3.92</td>\n",
              "      <td>7.53</td>\n",
              "      <td>0.00</td>\n",
              "      <td>0.0</td>\n",
              "      <td>13.88</td>\n",
              "    </tr>\n",
              "    <tr>\n",
              "      <th>1100015</th>\n",
              "      <td>Alta Floresta D'Oeste</td>\n",
              "      <td>11006</td>\n",
              "      <td>Cacoal</td>\n",
              "      <td>1102</td>\n",
              "      <td>Leste Rondoniense</td>\n",
              "      <td>11</td>\n",
              "      <td>RO</td>\n",
              "      <td>Rondônia</td>\n",
              "      <td>1</td>\n",
              "      <td>N</td>\n",
              "      <td>...</td>\n",
              "      <td>Alta Floresta D'Oeste</td>\n",
              "      <td>2008.0</td>\n",
              "      <td>43.45</td>\n",
              "      <td>28.02</td>\n",
              "      <td>0.0</td>\n",
              "      <td>0.00</td>\n",
              "      <td>30.37</td>\n",
              "      <td>8.23</td>\n",
              "      <td>0.0</td>\n",
              "      <td>56.04</td>\n",
              "    </tr>\n",
              "    <tr>\n",
              "      <th>1100015</th>\n",
              "      <td>Alta Floresta D'Oeste</td>\n",
              "      <td>11006</td>\n",
              "      <td>Cacoal</td>\n",
              "      <td>1102</td>\n",
              "      <td>Leste Rondoniense</td>\n",
              "      <td>11</td>\n",
              "      <td>RO</td>\n",
              "      <td>Rondônia</td>\n",
              "      <td>1</td>\n",
              "      <td>N</td>\n",
              "      <td>...</td>\n",
              "      <td>Alta Floresta D'Oeste</td>\n",
              "      <td>2009.0</td>\n",
              "      <td>15.91</td>\n",
              "      <td>0.00</td>\n",
              "      <td>0.0</td>\n",
              "      <td>3.97</td>\n",
              "      <td>7.65</td>\n",
              "      <td>8.28</td>\n",
              "      <td>0.0</td>\n",
              "      <td>0.00</td>\n",
              "    </tr>\n",
              "    <tr>\n",
              "      <th>1100015</th>\n",
              "      <td>Alta Floresta D'Oeste</td>\n",
              "      <td>11006</td>\n",
              "      <td>Cacoal</td>\n",
              "      <td>1102</td>\n",
              "      <td>Leste Rondoniense</td>\n",
              "      <td>11</td>\n",
              "      <td>RO</td>\n",
              "      <td>Rondônia</td>\n",
              "      <td>1</td>\n",
              "      <td>N</td>\n",
              "      <td>...</td>\n",
              "      <td>Alta Floresta D'Oeste</td>\n",
              "      <td>2010.0</td>\n",
              "      <td>28.05</td>\n",
              "      <td>28.69</td>\n",
              "      <td>0.0</td>\n",
              "      <td>4.00</td>\n",
              "      <td>15.43</td>\n",
              "      <td>0.00</td>\n",
              "      <td>0.0</td>\n",
              "      <td>43.03</td>\n",
              "    </tr>\n",
              "    <tr>\n",
              "      <th>1100015</th>\n",
              "      <td>Alta Floresta D'Oeste</td>\n",
              "      <td>11006</td>\n",
              "      <td>Cacoal</td>\n",
              "      <td>1102</td>\n",
              "      <td>Leste Rondoniense</td>\n",
              "      <td>11</td>\n",
              "      <td>RO</td>\n",
              "      <td>Rondônia</td>\n",
              "      <td>1</td>\n",
              "      <td>N</td>\n",
              "      <td>...</td>\n",
              "      <td>Alta Floresta D'Oeste</td>\n",
              "      <td>2011.0</td>\n",
              "      <td>12.13</td>\n",
              "      <td>14.58</td>\n",
              "      <td>0.0</td>\n",
              "      <td>0.00</td>\n",
              "      <td>0.00</td>\n",
              "      <td>8.39</td>\n",
              "      <td>0.0</td>\n",
              "      <td>29.17</td>\n",
              "    </tr>\n",
              "  </tbody>\n",
              "</table>\n",
              "<p>5 rows × 31 columns</p>\n",
              "</div>\n",
              "      <button class=\"colab-df-convert\" onclick=\"convertToInteractive('df-5549dd0d-5fc0-45b5-b09a-efcad6e56b6c')\"\n",
              "              title=\"Convert this dataframe to an interactive table.\"\n",
              "              style=\"display:none;\">\n",
              "        \n",
              "  <svg xmlns=\"http://www.w3.org/2000/svg\" height=\"24px\"viewBox=\"0 0 24 24\"\n",
              "       width=\"24px\">\n",
              "    <path d=\"M0 0h24v24H0V0z\" fill=\"none\"/>\n",
              "    <path d=\"M18.56 5.44l.94 2.06.94-2.06 2.06-.94-2.06-.94-.94-2.06-.94 2.06-2.06.94zm-11 1L8.5 8.5l.94-2.06 2.06-.94-2.06-.94L8.5 2.5l-.94 2.06-2.06.94zm10 10l.94 2.06.94-2.06 2.06-.94-2.06-.94-.94-2.06-.94 2.06-2.06.94z\"/><path d=\"M17.41 7.96l-1.37-1.37c-.4-.4-.92-.59-1.43-.59-.52 0-1.04.2-1.43.59L10.3 9.45l-7.72 7.72c-.78.78-.78 2.05 0 2.83L4 21.41c.39.39.9.59 1.41.59.51 0 1.02-.2 1.41-.59l7.78-7.78 2.81-2.81c.8-.78.8-2.07 0-2.86zM5.41 20L4 18.59l7.72-7.72 1.47 1.35L5.41 20z\"/>\n",
              "  </svg>\n",
              "      </button>\n",
              "      \n",
              "  <style>\n",
              "    .colab-df-container {\n",
              "      display:flex;\n",
              "      flex-wrap:wrap;\n",
              "      gap: 12px;\n",
              "    }\n",
              "\n",
              "    .colab-df-convert {\n",
              "      background-color: #E8F0FE;\n",
              "      border: none;\n",
              "      border-radius: 50%;\n",
              "      cursor: pointer;\n",
              "      display: none;\n",
              "      fill: #1967D2;\n",
              "      height: 32px;\n",
              "      padding: 0 0 0 0;\n",
              "      width: 32px;\n",
              "    }\n",
              "\n",
              "    .colab-df-convert:hover {\n",
              "      background-color: #E2EBFA;\n",
              "      box-shadow: 0px 1px 2px rgba(60, 64, 67, 0.3), 0px 1px 3px 1px rgba(60, 64, 67, 0.15);\n",
              "      fill: #174EA6;\n",
              "    }\n",
              "\n",
              "    [theme=dark] .colab-df-convert {\n",
              "      background-color: #3B4455;\n",
              "      fill: #D2E3FC;\n",
              "    }\n",
              "\n",
              "    [theme=dark] .colab-df-convert:hover {\n",
              "      background-color: #434B5C;\n",
              "      box-shadow: 0px 1px 3px 1px rgba(0, 0, 0, 0.15);\n",
              "      filter: drop-shadow(0px 1px 2px rgba(0, 0, 0, 0.3));\n",
              "      fill: #FFFFFF;\n",
              "    }\n",
              "  </style>\n",
              "\n",
              "      <script>\n",
              "        const buttonEl =\n",
              "          document.querySelector('#df-5549dd0d-5fc0-45b5-b09a-efcad6e56b6c button.colab-df-convert');\n",
              "        buttonEl.style.display =\n",
              "          google.colab.kernel.accessAllowed ? 'block' : 'none';\n",
              "\n",
              "        async function convertToInteractive(key) {\n",
              "          const element = document.querySelector('#df-5549dd0d-5fc0-45b5-b09a-efcad6e56b6c');\n",
              "          const dataTable =\n",
              "            await google.colab.kernel.invokeFunction('convertToInteractive',\n",
              "                                                     [key], {});\n",
              "          if (!dataTable) return;\n",
              "\n",
              "          const docLinkHtml = 'Like what you see? Visit the ' +\n",
              "            '<a target=\"_blank\" href=https://colab.research.google.com/notebooks/data_table.ipynb>data table notebook</a>'\n",
              "            + ' to learn more about interactive tables.';\n",
              "          element.innerHTML = '';\n",
              "          dataTable['output_type'] = 'display_data';\n",
              "          await google.colab.output.renderOutput(dataTable, element);\n",
              "          const docLink = document.createElement('div');\n",
              "          docLink.innerHTML = docLinkHtml;\n",
              "          element.appendChild(docLink);\n",
              "        }\n",
              "      </script>\n",
              "    </div>\n",
              "  </div>\n",
              "  "
            ]
          },
          "metadata": {},
          "execution_count": 22
        }
      ]
    },
    {
      "cell_type": "code",
      "source": [
        "df_violencia_total = df_violencia_total.drop(['microrregiao/id', 'microrregiao/nome',\n",
        "       'microrregiao/mesorregiao/id', 'microrregiao/mesorregiao/nome',\n",
        "       'microrregiao/mesorregiao/UF/id',\n",
        "       'microrregiao/mesorregiao/UF/nome',\n",
        "       'microrregiao/mesorregiao/UF/regiao/id',\n",
        "       'microrregiao/mesorregiao/UF/regiao/nome', 'regiao-imediata/id',\n",
        "       'regiao-imediata/nome', 'regiao-imediata/regiao-intermediaria/id',\n",
        "       'regiao-imediata/regiao-intermediaria/nome',\n",
        "       'regiao-imediata/regiao-intermediaria/UF/id',\n",
        "       'regiao-imediata/regiao-intermediaria/UF/nome',\n",
        "       'regiao-imediata/regiao-intermediaria/UF/regiao/id',\n",
        "       'regiao-imediata/regiao-intermediaria/UF/regiao/nome', 'nome','regiao-imediata/regiao-intermediaria/UF/regiao/sigla','regiao-imediata/regiao-intermediaria/UF/sigla'],axis=1)"
      ],
      "metadata": {
        "id": "_ImHx9yi3k8E"
      },
      "execution_count": 23,
      "outputs": []
    },
    {
      "cell_type": "code",
      "source": [
        "df_violencia_total.columns"
      ],
      "metadata": {
        "id": "eyIjlzgwaGRa",
        "colab": {
          "base_uri": "https://localhost:8080/"
        },
        "outputId": "b9769079-9f6b-4cb7-dcb1-0d80d4c51ecb"
      },
      "execution_count": 24,
      "outputs": [
        {
          "output_type": "execute_result",
          "data": {
            "text/plain": [
              "Index(['municipio', 'microrregiao/mesorregiao/UF/sigla',\n",
              "       'microrregiao/mesorregiao/UF/regiao/sigla', 'período', 'homicidios',\n",
              "       'homicidio jovens armas de fogo', 'suicidio arma de fogo',\n",
              "       'violencia por causa indeterminada', 'suicidio homens',\n",
              "       'suicidio mulheres', 'intervencao_legal', 'homicidio_15a29'],\n",
              "      dtype='object')"
            ]
          },
          "metadata": {},
          "execution_count": 24
        }
      ]
    },
    {
      "cell_type": "code",
      "source": [
        "df_violencia_total.rename(columns = {'microrregiao/mesorregiao/UF/sigla':'UF', 'microrregiao/mesorregiao/UF/regiao/sigla':'Regiao'}, inplace = True)\n"
      ],
      "metadata": {
        "id": "qZANGqYxC1gp"
      },
      "execution_count": 25,
      "outputs": []
    },
    {
      "cell_type": "code",
      "source": [
        "df_violencia_total = df_violencia_total[df_violencia_total['homicidios'].notnull()]"
      ],
      "metadata": {
        "id": "JIPXabhoICfO"
      },
      "execution_count": 26,
      "outputs": []
    },
    {
      "cell_type": "code",
      "source": [
        "df_violencia_total.to_csv('/content/drive/MyDrive/Pós-Graduação/Aprendizados de Dados em Tempo Real/Projetos/Violencia_Periodos.csv',sep=\";\",index=False)"
      ],
      "metadata": {
        "id": "N_mQrRS6FS-f"
      },
      "execution_count": 27,
      "outputs": []
    },
    {
      "cell_type": "markdown",
      "source": [
        "# CLUSTERIZAÇÃO"
      ],
      "metadata": {
        "id": "mBVvBKwxL2Ea"
      }
    },
    {
      "cell_type": "markdown",
      "source": [
        "##FUNÇÕES"
      ],
      "metadata": {
        "id": "c1HEDEpnDR06"
      }
    },
    {
      "cell_type": "code",
      "source": [
        "from matplotlib import cm\n",
        "from sklearn.metrics import silhouette_samples"
      ],
      "metadata": {
        "id": "5Z9WxuqDL6XP"
      },
      "execution_count": 28,
      "outputs": []
    },
    {
      "cell_type": "code",
      "source": [
        "def elbow(values):\n",
        "  wcss = []\n",
        "\n",
        "  for i in range(1, 11):\n",
        "      kmeans = KMeans(n_clusters = i)\n",
        "      kmeans.fit(values)\n",
        "      wcss.append(kmeans.inertia_)\n",
        "\n",
        "  plt.plot(range(1, 11), wcss)\n",
        "  plt.title('The elbow method')\n",
        "  plt.xlabel('Number of clusters')\n",
        "  plt.ylabel('WCSS') #within cluster sum of squares\n",
        "  plt.show()"
      ],
      "metadata": {
        "id": "Y3xcRxVqNtBZ"
      },
      "execution_count": 29,
      "outputs": []
    },
    {
      "cell_type": "code",
      "source": [
        "def silhouette(values, type=None):\n",
        "  if type=='bar':\n",
        "    silhouette_scores = []\n",
        "    for i in range(2,10):\n",
        "        kmeans = KMeans(n_clusters=i)\n",
        "        kmeans.fit_predict(values)\n",
        "        silhouette_scores.append(silhouette_score(values, kmeans.fit_predict(values))) \n",
        "    plt.bar(range(2,10), silhouette_scores) \n",
        "    plt.xlabel('Número de clusters') \n",
        "    plt.ylabel('Score') \n",
        "    plt.show()\n",
        "  else:\n",
        "    for n_clusters in range(2,11):\n",
        "      fig, axes = plt.subplots(1, 2, figsize=(20,5))\n",
        "      clusterer = KMeans(n_clusters=n_clusters)\n",
        "      cluster_labels = clusterer.fit_predict(values)\n",
        "      silhouette_values = silhouette_samples(values, cluster_labels)\n",
        "      y_lower = 10\n",
        "      for i in range(n_clusters):\n",
        "        ith_cluster_silhouette_values = silhouette_values[cluster_labels == i]\n",
        "        ith_cluster_silhouette_values.sort()\n",
        "        size_cluster_i = ith_cluster_silhouette_values.shape[0]\n",
        "        y_upper = y_lower + size_cluster_i\n",
        "        # METODO 'nipy_spectral' altera o colormap padrao\n",
        "        color = cm.nipy_spectral(float(i) / n_clusters)\n",
        "\n",
        "        axes[0].fill_betweenx(np.arange(y_lower, y_upper),\n",
        "                              0, ith_cluster_silhouette_values,\n",
        "                              facecolor=color, edgecolor=color, alpha=0.7)\n",
        "        \n",
        "        # SE QUISER MOSTRAR O LABEL DO CLUSTER\n",
        "        #axes[0].text(-0.05, y_lower + 0.5 * size_cluster_i, str(i))\n",
        "        y_lower = y_upper + 10  \n",
        "        axes[0].set_title(\"The silhouette plot for the various clusters.\")\n",
        "        axes[0].set_xlabel(\"The silhouette coefficient values\")\n",
        "        axes[0].set_ylabel(\"Cluster label\")\n",
        "        silhouette_avg = silhouette_score(values, cluster_labels)\n",
        "        axes[0].axvline(x=silhouette_avg, color=\"red\", linestyle=\"--\")\n",
        "        axes[0].set_yticks([]) \n",
        "        axes[0].set_xticks([-0.1, 0, 0.2, 0.4, 0.6, 0.8, 1])\n",
        "\n",
        "        colors = cm.nipy_spectral(cluster_labels.astype(float) / n_clusters)\n",
        "        axes[1].scatter(values[:, 2], values[:, 1], marker='.', s=30, lw=0, alpha=0.7,\n",
        "                    c=colors, edgecolor='k')    \n",
        "\n",
        "        ## SE QUISER IMPRIMIR O CENTRO\n",
        "        centers = clusterer.cluster_centers_\n",
        "        #axes[1].scatter(centers[:, 1], centers[:, 2], marker='o', c=\"white\", alpha=1, s=200, edgecolor='k')\n",
        "        \n",
        "        #for i, c in enumerate(centers):\n",
        "         #   axes[1].scatter(c[1], c[2], marker='$%d$' % i, alpha=1, s=50, edgecolor='k')\n",
        "        axes[1].set_title(\"The visualization of the clustered data.\")\n",
        "        axes[1].set_xlabel(\"Feature space for the 1st feature\")\n",
        "        axes[1].set_ylabel(\"Feature space for the 2nd feature\")\n",
        "        plt.suptitle((\"Silhouette analysis for KMeans clustering on sample data \"\n",
        "                      \"with n_clusters = %d\" % n_clusters),\n",
        "                    fontsize=14, fontweight='bold')\n",
        "\n",
        "    plt.show()"
      ],
      "metadata": {
        "id": "fhYhFdcmNvvj"
      },
      "execution_count": 30,
      "outputs": []
    },
    {
      "cell_type": "code",
      "source": [
        "def cluster(dataset):\n",
        "  scaler = StandardScaler()\n",
        "  ds_Players = scaler.fit_transform(dataset)\n",
        "  Players_scaled = pd.DataFrame(ds_Players, columns=dataset.columns)\n",
        "  elbow(ds_Players)\n",
        "  silhouette(ds_Players)\n",
        "  return Players_scaled"
      ],
      "metadata": {
        "id": "4UDwV87vN04D"
      },
      "execution_count": 31,
      "outputs": []
    },
    {
      "cell_type": "code",
      "source": [
        "def cluster_kmeans(dataset,dataset_original,x):\n",
        "  kmeans = KMeans(n_clusters=x)\n",
        "  ykmeans = kmeans.fit_predict(dataset)\n",
        "  dataset['clusters'] = ykmeans\n",
        "  dataset_original['clusters'] = ykmeans\n",
        "  return dataset,dataset_original"
      ],
      "metadata": {
        "id": "vZIBSmJmOPQz"
      },
      "execution_count": 32,
      "outputs": []
    },
    {
      "cell_type": "markdown",
      "source": [
        "## Gerar Cluster"
      ],
      "metadata": {
        "id": "NA0gablzDX8Y"
      }
    },
    {
      "cell_type": "code",
      "source": [
        "df_violencia_total.columns"
      ],
      "metadata": {
        "id": "PwF6k4bNO7i_",
        "colab": {
          "base_uri": "https://localhost:8080/"
        },
        "outputId": "49f8569d-d7bb-468a-d0af-37fbfb85acb1"
      },
      "execution_count": 33,
      "outputs": [
        {
          "output_type": "execute_result",
          "data": {
            "text/plain": [
              "Index(['municipio', 'UF', 'Regiao', 'período', 'homicidios',\n",
              "       'homicidio jovens armas de fogo', 'suicidio arma de fogo',\n",
              "       'violencia por causa indeterminada', 'suicidio homens',\n",
              "       'suicidio mulheres', 'intervencao_legal', 'homicidio_15a29'],\n",
              "      dtype='object')"
            ]
          },
          "metadata": {},
          "execution_count": 33
        }
      ]
    },
    {
      "cell_type": "code",
      "source": [
        "df_violencia_total = df_violencia_total.drop(['municipio', 'UF', 'Regiao','período'],axis=1)"
      ],
      "metadata": {
        "id": "yiSPGIxjPR-J"
      },
      "execution_count": 34,
      "outputs": []
    },
    {
      "cell_type": "code",
      "source": [
        "#cluster(df_violencia_total)"
      ],
      "metadata": {
        "id": "eGlK0g2eF3SF"
      },
      "execution_count": 35,
      "outputs": []
    },
    {
      "cell_type": "code",
      "source": [
        "cluster_kmeans(df_violencia_total,df_violencia,2)"
      ],
      "metadata": {
        "id": "A2X7ZsdWP2d2",
        "colab": {
          "base_uri": "https://localhost:8080/"
        },
        "outputId": "bc248a0b-7c33-4e14-8475-e295a63a42d1"
      },
      "execution_count": 36,
      "outputs": [
        {
          "output_type": "execute_result",
          "data": {
            "text/plain": [
              "(         homicidios  homicidio jovens armas de fogo  suicidio arma de fogo  \\\n",
              " cod                                                                          \n",
              " 1100015        7.84                            0.00                   0.00   \n",
              " 1100015       43.45                           28.02                   0.00   \n",
              " 1100015       15.91                            0.00                   0.00   \n",
              " 1100015       28.05                           28.69                   0.00   \n",
              " 1100015       12.13                           14.58                   0.00   \n",
              " ...             ...                             ...                    ...   \n",
              " 5300108       20.81                           34.48                   0.37   \n",
              " 5300108       17.82                           28.22                   0.94   \n",
              " 5300108       17.82                           28.22                   0.94   \n",
              " 5300108       15.92                           22.68                   0.79   \n",
              " 5300108       15.92                           22.68                   0.79   \n",
              " \n",
              "          violencia por causa indeterminada  suicidio homens  \\\n",
              " cod                                                           \n",
              " 1100015                               3.92             7.53   \n",
              " 1100015                               0.00            30.37   \n",
              " 1100015                               3.97             7.65   \n",
              " 1100015                               4.00            15.43   \n",
              " 1100015                               0.00             0.00   \n",
              " ...                                    ...              ...   \n",
              " 5300108                               0.47             8.95   \n",
              " 5300108                               1.54             8.96   \n",
              " 5300108                               1.54             8.96   \n",
              " 5300108                               1.29           145.00   \n",
              " 5300108                               1.29           145.00   \n",
              " \n",
              "          suicidio mulheres  intervencao_legal  homicidio_15a29  clusters  \n",
              " cod                                                                       \n",
              " 1100015               0.00               0.00            13.88         1  \n",
              " 1100015               8.23               0.00            56.04         1  \n",
              " 1100015               8.28               0.00             0.00         1  \n",
              " 1100015               0.00               0.00            43.03         1  \n",
              " 1100015               8.39               0.00            29.17         1  \n",
              " ...                    ...                ...              ...       ...  \n",
              " 5300108               2.75               0.06            43.78         1  \n",
              " 5300108               3.81               0.06            36.42         1  \n",
              " 5300108               3.81               0.06            36.42         1  \n",
              " 5300108               3.44               0.23            32.74         1  \n",
              " 5300108               3.44               0.23            32.74         1  \n",
              " \n",
              " [120051 rows x 9 columns],\n",
              "             cod                  nome  período  homicidios  \\\n",
              " 0       3303856       Paty do Alferes     2007       15.10   \n",
              " 1       2515005   São Miguel de Taipu     2007       14.98   \n",
              " 2       2514909            São Mamede     2007       12.53   \n",
              " 3       2514503  São José de Piranhas     2007       10.43   \n",
              " 4       2514107     São João do Tigre     2007       44.35   \n",
              " ...         ...                   ...      ...         ...   \n",
              " 120046  5100508         Alto Paraguai     2019       44.03   \n",
              " 120047  5100607          Alto Taquari     2019       18.44   \n",
              " 120048  5100607          Alto Taquari     2019       18.44   \n",
              " 120049  5100805               Apiacás     2019       19.74   \n",
              " 120050  5100805               Apiacás     2019       19.74   \n",
              " \n",
              "         homicidio jovens armas de fogo  suicidio arma de fogo  \\\n",
              " 0                                29.56                    0.0   \n",
              " 1                                 0.00                   14.9   \n",
              " 2                                49.38                    0.0   \n",
              " 3                                 0.00                    0.0   \n",
              " 4                                90.01                    0.0   \n",
              " ...                                ...                    ...   \n",
              " 120046                            0.00                    8.8   \n",
              " 120047                            0.00                    0.0   \n",
              " 120048                            0.00                    0.0   \n",
              " 120049                            0.00                    0.0   \n",
              " 120050                            0.00                    0.0   \n",
              " \n",
              "         violencia por causa indeterminada  suicidio homens  suicidio mulheres  \\\n",
              " 0                                    7.55             7.70                0.0   \n",
              " 1                                    0.00            29.85                0.0   \n",
              " 2                                    0.00             0.00                0.0   \n",
              " 3                                    0.00             0.00                0.0   \n",
              " 4                                    0.00             0.00                0.0   \n",
              " ...                                   ...              ...                ...   \n",
              " 120046                               0.00             2.00               19.6   \n",
              " 120047                               9.21             0.00                0.0   \n",
              " 120048                               9.21             0.00                0.0   \n",
              " 120049                               0.00             1.00                0.0   \n",
              " 120050                               0.00             1.00                0.0   \n",
              " \n",
              "         intervencao_legal  homicidio_15a29  clusters  \n",
              " 0                     0.0            29.56         1  \n",
              " 1                     0.0             0.00         1  \n",
              " 2                     0.0            49.38         1  \n",
              " 3                     0.0             0.00         1  \n",
              " 4                     0.0            90.01         1  \n",
              " ...                   ...              ...       ...  \n",
              " 120046                0.0            41.89         1  \n",
              " 120047                0.0             0.00         1  \n",
              " 120048                0.0             0.00         1  \n",
              " 120049                0.0            37.66         1  \n",
              " 120050                0.0            37.66         1  \n",
              " \n",
              " [120051 rows x 12 columns])"
            ]
          },
          "metadata": {},
          "execution_count": 36
        }
      ]
    },
    {
      "cell_type": "code",
      "source": [
        "df_violencia[df_violencia['clusters'] == 0]"
      ],
      "metadata": {
        "id": "NBCqPd1MTjkQ",
        "colab": {
          "base_uri": "https://localhost:8080/",
          "height": 589
        },
        "outputId": "cbfcb94b-581d-436f-c14f-9d46247ba775"
      },
      "execution_count": 37,
      "outputs": [
        {
          "output_type": "execute_result",
          "data": {
            "text/plain": [
              "            cod            nome  período  homicidios  \\\n",
              "21      2512200           Prata     2007       26.16   \n",
              "22      2608206  Joaquim Nabuco     2007       49.41   \n",
              "23      2512101          Pombal     2007        3.05   \n",
              "24      2512002        Pocinhos     2007       17.83   \n",
              "25      2511905         Pitimbu     2007        6.04   \n",
              "...         ...             ...      ...         ...   \n",
              "120033  4315800      Roca Sales     2019        8.78   \n",
              "120035  4315909   Rodeio Bonito     2019       51.13   \n",
              "120036  4315909   Rodeio Bonito     2019       51.13   \n",
              "120037  4315958         Rolador     2019        0.00   \n",
              "120038  4315958         Rolador     2019        0.00   \n",
              "\n",
              "        homicidio jovens armas de fogo  suicidio arma de fogo  \\\n",
              "21                               99.90                   0.00   \n",
              "22                               62.20                   6.17   \n",
              "23                               11.37                   0.00   \n",
              "24                               22.05                   0.00   \n",
              "25                                0.00                   0.00   \n",
              "...                                ...                    ...   \n",
              "120033                           43.57                   8.77   \n",
              "120035                          171.67                   0.00   \n",
              "120036                          171.67                   0.00   \n",
              "120037                            0.00                   0.00   \n",
              "120038                            0.00                   0.00   \n",
              "\n",
              "        violencia por causa indeterminada  suicidio homens  suicidio mulheres  \\\n",
              "21                                   0.00             0.00               52.4   \n",
              "22                                   6.17            36.98                0.0   \n",
              "23                                   0.00             6.37                0.0   \n",
              "24                                   0.00             0.00                0.0   \n",
              "25                                   6.03             0.00               12.2   \n",
              "...                                   ...              ...                ...   \n",
              "120033                               0.00             3.00               17.3   \n",
              "120035                              17.00             0.00                0.0   \n",
              "120036                              17.00             0.00                0.0   \n",
              "120037                               0.00             0.00                0.0   \n",
              "120038                               0.00             0.00                0.0   \n",
              "\n",
              "        intervencao_legal  homicidio_15a29  clusters  \n",
              "21                    0.0            99.90         0  \n",
              "22                    0.0            82.94         0  \n",
              "23                    0.0            11.37         0  \n",
              "24                    0.0            22.05         0  \n",
              "25                    0.0             0.00         0  \n",
              "...                   ...              ...       ...  \n",
              "120033                0.0            43.57         0  \n",
              "120035                0.0           171.67         0  \n",
              "120036                0.0           171.67         0  \n",
              "120037                0.0             0.00         0  \n",
              "120038                0.0             0.00         0  \n",
              "\n",
              "[20060 rows x 12 columns]"
            ],
            "text/html": [
              "\n",
              "  <div id=\"df-47f9b176-eaaa-4bc6-8419-d040aded463f\">\n",
              "    <div class=\"colab-df-container\">\n",
              "      <div>\n",
              "<style scoped>\n",
              "    .dataframe tbody tr th:only-of-type {\n",
              "        vertical-align: middle;\n",
              "    }\n",
              "\n",
              "    .dataframe tbody tr th {\n",
              "        vertical-align: top;\n",
              "    }\n",
              "\n",
              "    .dataframe thead th {\n",
              "        text-align: right;\n",
              "    }\n",
              "</style>\n",
              "<table border=\"1\" class=\"dataframe\">\n",
              "  <thead>\n",
              "    <tr style=\"text-align: right;\">\n",
              "      <th></th>\n",
              "      <th>cod</th>\n",
              "      <th>nome</th>\n",
              "      <th>período</th>\n",
              "      <th>homicidios</th>\n",
              "      <th>homicidio jovens armas de fogo</th>\n",
              "      <th>suicidio arma de fogo</th>\n",
              "      <th>violencia por causa indeterminada</th>\n",
              "      <th>suicidio homens</th>\n",
              "      <th>suicidio mulheres</th>\n",
              "      <th>intervencao_legal</th>\n",
              "      <th>homicidio_15a29</th>\n",
              "      <th>clusters</th>\n",
              "    </tr>\n",
              "  </thead>\n",
              "  <tbody>\n",
              "    <tr>\n",
              "      <th>21</th>\n",
              "      <td>2512200</td>\n",
              "      <td>Prata</td>\n",
              "      <td>2007</td>\n",
              "      <td>26.16</td>\n",
              "      <td>99.90</td>\n",
              "      <td>0.00</td>\n",
              "      <td>0.00</td>\n",
              "      <td>0.00</td>\n",
              "      <td>52.4</td>\n",
              "      <td>0.0</td>\n",
              "      <td>99.90</td>\n",
              "      <td>0</td>\n",
              "    </tr>\n",
              "    <tr>\n",
              "      <th>22</th>\n",
              "      <td>2608206</td>\n",
              "      <td>Joaquim Nabuco</td>\n",
              "      <td>2007</td>\n",
              "      <td>49.41</td>\n",
              "      <td>62.20</td>\n",
              "      <td>6.17</td>\n",
              "      <td>6.17</td>\n",
              "      <td>36.98</td>\n",
              "      <td>0.0</td>\n",
              "      <td>0.0</td>\n",
              "      <td>82.94</td>\n",
              "      <td>0</td>\n",
              "    </tr>\n",
              "    <tr>\n",
              "      <th>23</th>\n",
              "      <td>2512101</td>\n",
              "      <td>Pombal</td>\n",
              "      <td>2007</td>\n",
              "      <td>3.05</td>\n",
              "      <td>11.37</td>\n",
              "      <td>0.00</td>\n",
              "      <td>0.00</td>\n",
              "      <td>6.37</td>\n",
              "      <td>0.0</td>\n",
              "      <td>0.0</td>\n",
              "      <td>11.37</td>\n",
              "      <td>0</td>\n",
              "    </tr>\n",
              "    <tr>\n",
              "      <th>24</th>\n",
              "      <td>2512002</td>\n",
              "      <td>Pocinhos</td>\n",
              "      <td>2007</td>\n",
              "      <td>17.83</td>\n",
              "      <td>22.05</td>\n",
              "      <td>0.00</td>\n",
              "      <td>0.00</td>\n",
              "      <td>0.00</td>\n",
              "      <td>0.0</td>\n",
              "      <td>0.0</td>\n",
              "      <td>22.05</td>\n",
              "      <td>0</td>\n",
              "    </tr>\n",
              "    <tr>\n",
              "      <th>25</th>\n",
              "      <td>2511905</td>\n",
              "      <td>Pitimbu</td>\n",
              "      <td>2007</td>\n",
              "      <td>6.04</td>\n",
              "      <td>0.00</td>\n",
              "      <td>0.00</td>\n",
              "      <td>6.03</td>\n",
              "      <td>0.00</td>\n",
              "      <td>12.2</td>\n",
              "      <td>0.0</td>\n",
              "      <td>0.00</td>\n",
              "      <td>0</td>\n",
              "    </tr>\n",
              "    <tr>\n",
              "      <th>...</th>\n",
              "      <td>...</td>\n",
              "      <td>...</td>\n",
              "      <td>...</td>\n",
              "      <td>...</td>\n",
              "      <td>...</td>\n",
              "      <td>...</td>\n",
              "      <td>...</td>\n",
              "      <td>...</td>\n",
              "      <td>...</td>\n",
              "      <td>...</td>\n",
              "      <td>...</td>\n",
              "      <td>...</td>\n",
              "    </tr>\n",
              "    <tr>\n",
              "      <th>120033</th>\n",
              "      <td>4315800</td>\n",
              "      <td>Roca Sales</td>\n",
              "      <td>2019</td>\n",
              "      <td>8.78</td>\n",
              "      <td>43.57</td>\n",
              "      <td>8.77</td>\n",
              "      <td>0.00</td>\n",
              "      <td>3.00</td>\n",
              "      <td>17.3</td>\n",
              "      <td>0.0</td>\n",
              "      <td>43.57</td>\n",
              "      <td>0</td>\n",
              "    </tr>\n",
              "    <tr>\n",
              "      <th>120035</th>\n",
              "      <td>4315909</td>\n",
              "      <td>Rodeio Bonito</td>\n",
              "      <td>2019</td>\n",
              "      <td>51.13</td>\n",
              "      <td>171.67</td>\n",
              "      <td>0.00</td>\n",
              "      <td>17.00</td>\n",
              "      <td>0.00</td>\n",
              "      <td>0.0</td>\n",
              "      <td>0.0</td>\n",
              "      <td>171.67</td>\n",
              "      <td>0</td>\n",
              "    </tr>\n",
              "    <tr>\n",
              "      <th>120036</th>\n",
              "      <td>4315909</td>\n",
              "      <td>Rodeio Bonito</td>\n",
              "      <td>2019</td>\n",
              "      <td>51.13</td>\n",
              "      <td>171.67</td>\n",
              "      <td>0.00</td>\n",
              "      <td>17.00</td>\n",
              "      <td>0.00</td>\n",
              "      <td>0.0</td>\n",
              "      <td>0.0</td>\n",
              "      <td>171.67</td>\n",
              "      <td>0</td>\n",
              "    </tr>\n",
              "    <tr>\n",
              "      <th>120037</th>\n",
              "      <td>4315958</td>\n",
              "      <td>Rolador</td>\n",
              "      <td>2019</td>\n",
              "      <td>0.00</td>\n",
              "      <td>0.00</td>\n",
              "      <td>0.00</td>\n",
              "      <td>0.00</td>\n",
              "      <td>0.00</td>\n",
              "      <td>0.0</td>\n",
              "      <td>0.0</td>\n",
              "      <td>0.00</td>\n",
              "      <td>0</td>\n",
              "    </tr>\n",
              "    <tr>\n",
              "      <th>120038</th>\n",
              "      <td>4315958</td>\n",
              "      <td>Rolador</td>\n",
              "      <td>2019</td>\n",
              "      <td>0.00</td>\n",
              "      <td>0.00</td>\n",
              "      <td>0.00</td>\n",
              "      <td>0.00</td>\n",
              "      <td>0.00</td>\n",
              "      <td>0.0</td>\n",
              "      <td>0.0</td>\n",
              "      <td>0.00</td>\n",
              "      <td>0</td>\n",
              "    </tr>\n",
              "  </tbody>\n",
              "</table>\n",
              "<p>20060 rows × 12 columns</p>\n",
              "</div>\n",
              "      <button class=\"colab-df-convert\" onclick=\"convertToInteractive('df-47f9b176-eaaa-4bc6-8419-d040aded463f')\"\n",
              "              title=\"Convert this dataframe to an interactive table.\"\n",
              "              style=\"display:none;\">\n",
              "        \n",
              "  <svg xmlns=\"http://www.w3.org/2000/svg\" height=\"24px\"viewBox=\"0 0 24 24\"\n",
              "       width=\"24px\">\n",
              "    <path d=\"M0 0h24v24H0V0z\" fill=\"none\"/>\n",
              "    <path d=\"M18.56 5.44l.94 2.06.94-2.06 2.06-.94-2.06-.94-.94-2.06-.94 2.06-2.06.94zm-11 1L8.5 8.5l.94-2.06 2.06-.94-2.06-.94L8.5 2.5l-.94 2.06-2.06.94zm10 10l.94 2.06.94-2.06 2.06-.94-2.06-.94-.94-2.06-.94 2.06-2.06.94z\"/><path d=\"M17.41 7.96l-1.37-1.37c-.4-.4-.92-.59-1.43-.59-.52 0-1.04.2-1.43.59L10.3 9.45l-7.72 7.72c-.78.78-.78 2.05 0 2.83L4 21.41c.39.39.9.59 1.41.59.51 0 1.02-.2 1.41-.59l7.78-7.78 2.81-2.81c.8-.78.8-2.07 0-2.86zM5.41 20L4 18.59l7.72-7.72 1.47 1.35L5.41 20z\"/>\n",
              "  </svg>\n",
              "      </button>\n",
              "      \n",
              "  <style>\n",
              "    .colab-df-container {\n",
              "      display:flex;\n",
              "      flex-wrap:wrap;\n",
              "      gap: 12px;\n",
              "    }\n",
              "\n",
              "    .colab-df-convert {\n",
              "      background-color: #E8F0FE;\n",
              "      border: none;\n",
              "      border-radius: 50%;\n",
              "      cursor: pointer;\n",
              "      display: none;\n",
              "      fill: #1967D2;\n",
              "      height: 32px;\n",
              "      padding: 0 0 0 0;\n",
              "      width: 32px;\n",
              "    }\n",
              "\n",
              "    .colab-df-convert:hover {\n",
              "      background-color: #E2EBFA;\n",
              "      box-shadow: 0px 1px 2px rgba(60, 64, 67, 0.3), 0px 1px 3px 1px rgba(60, 64, 67, 0.15);\n",
              "      fill: #174EA6;\n",
              "    }\n",
              "\n",
              "    [theme=dark] .colab-df-convert {\n",
              "      background-color: #3B4455;\n",
              "      fill: #D2E3FC;\n",
              "    }\n",
              "\n",
              "    [theme=dark] .colab-df-convert:hover {\n",
              "      background-color: #434B5C;\n",
              "      box-shadow: 0px 1px 3px 1px rgba(0, 0, 0, 0.15);\n",
              "      filter: drop-shadow(0px 1px 2px rgba(0, 0, 0, 0.3));\n",
              "      fill: #FFFFFF;\n",
              "    }\n",
              "  </style>\n",
              "\n",
              "      <script>\n",
              "        const buttonEl =\n",
              "          document.querySelector('#df-47f9b176-eaaa-4bc6-8419-d040aded463f button.colab-df-convert');\n",
              "        buttonEl.style.display =\n",
              "          google.colab.kernel.accessAllowed ? 'block' : 'none';\n",
              "\n",
              "        async function convertToInteractive(key) {\n",
              "          const element = document.querySelector('#df-47f9b176-eaaa-4bc6-8419-d040aded463f');\n",
              "          const dataTable =\n",
              "            await google.colab.kernel.invokeFunction('convertToInteractive',\n",
              "                                                     [key], {});\n",
              "          if (!dataTable) return;\n",
              "\n",
              "          const docLinkHtml = 'Like what you see? Visit the ' +\n",
              "            '<a target=\"_blank\" href=https://colab.research.google.com/notebooks/data_table.ipynb>data table notebook</a>'\n",
              "            + ' to learn more about interactive tables.';\n",
              "          element.innerHTML = '';\n",
              "          dataTable['output_type'] = 'display_data';\n",
              "          await google.colab.output.renderOutput(dataTable, element);\n",
              "          const docLink = document.createElement('div');\n",
              "          docLink.innerHTML = docLinkHtml;\n",
              "          element.appendChild(docLink);\n",
              "        }\n",
              "      </script>\n",
              "    </div>\n",
              "  </div>\n",
              "  "
            ]
          },
          "metadata": {},
          "execution_count": 37
        }
      ]
    },
    {
      "cell_type": "code",
      "source": [
        "dictCluster = {0:'Muito Violento' ,1: 'Pouco Violento'}"
      ],
      "metadata": {
        "id": "ehwgYXXjP-p5"
      },
      "execution_count": 38,
      "outputs": []
    },
    {
      "cell_type": "code",
      "source": [
        "df_violencia['TipoCluster'] = df_violencia['clusters'].map(dictCluster)"
      ],
      "metadata": {
        "id": "r7ZAs-YITX08"
      },
      "execution_count": 39,
      "outputs": []
    },
    {
      "cell_type": "code",
      "source": [
        "df_violencia['TipoCluster'].value_counts()"
      ],
      "metadata": {
        "id": "nSiS5BFHzbf0",
        "colab": {
          "base_uri": "https://localhost:8080/"
        },
        "outputId": "3f228249-fc97-4f97-8394-7b80fe1f25cd"
      },
      "execution_count": 40,
      "outputs": [
        {
          "output_type": "execute_result",
          "data": {
            "text/plain": [
              "Pouco Violento    99991\n",
              "Muito Violento    20060\n",
              "Name: TipoCluster, dtype: int64"
            ]
          },
          "metadata": {},
          "execution_count": 40
        }
      ]
    },
    {
      "cell_type": "markdown",
      "source": [
        "##Gerar Arquivo - Cluster"
      ],
      "metadata": {
        "id": "2_qktxjADd0d"
      }
    },
    {
      "cell_type": "code",
      "source": [
        "df_violencia.to_csv('/content/drive/MyDrive/Pós-Graduação/Aprendizados de Dados em Tempo Real/Projetos/Violencia_Clusters.csv',sep=\";\",index=False)"
      ],
      "metadata": {
        "id": "mC2qeqpyTCDn"
      },
      "execution_count": 41,
      "outputs": []
    }
  ]
}